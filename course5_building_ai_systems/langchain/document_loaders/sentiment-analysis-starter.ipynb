{
 "cells": [
  {
   "metadata": {},
   "cell_type": "markdown",
   "source": "Solution: https://youtu.be/EdTCHhhzoR8+8"
  },
  {
   "metadata": {
    "ExecuteTime": {
     "end_time": "2025-02-03T22:24:25.359716Z",
     "start_time": "2025-02-03T22:24:25.351289Z"
    }
   },
   "cell_type": "code",
   "outputs": [],
   "execution_count": 1,
   "source": [
    "import os\n",
    "\n",
    "os.environ[\"OPENAI_API_KEY\"] =\n",
    "os.environ[\"OPENAI_API_BASE\"] = \"https://openai.vocareum.com/v1\""
   ]
  },
  {
   "cell_type": "code",
   "metadata": {
    "ExecuteTime": {
     "end_time": "2025-02-03T22:24:26.750318Z",
     "start_time": "2025-02-03T22:24:25.400760Z"
    }
   },
   "source": [
    "# from langchain.llms import OpenAI # this code has been deprecated since recording.\n",
    "from langchain.chat_models import ChatOpenAI # this is the replacement \n",
    "from langchain.prompts import PromptTemplate\n",
    "from langchain.output_parsers import PydanticOutputParser\n",
    "from pydantic import BaseModel, Field, NonNegativeInt\n",
    "from typing import List\n",
    "from random import sample "
   ],
   "outputs": [],
   "execution_count": 2
  },
  {
   "cell_type": "markdown",
   "metadata": {},
   "source": [
    "First, let's create a loader and load reviews from tv-reviews.csv into memory"
   ]
  },
  {
   "cell_type": "code",
   "metadata": {
    "ExecuteTime": {
     "end_time": "2025-02-03T22:26:50.379529Z",
     "start_time": "2025-02-03T22:26:50.367251Z"
    }
   },
   "source": [
    "from langchain.document_loaders import CSVLoader\n",
    "\n",
    "# TODO: load reviews from tv-reviews.csv\n",
    "loader=CSVLoader(\"tv-reviews.csv\")\n",
    "documents = loader.load()"
   ],
   "outputs": [],
   "execution_count": 4
  },
  {
   "cell_type": "markdown",
   "metadata": {},
   "source": [
    "Then, let's initialize our LLM"
   ]
  },
  {
   "cell_type": "code",
   "metadata": {
    "ExecuteTime": {
     "end_time": "2025-02-03T22:26:53.045116Z",
     "start_time": "2025-02-03T22:26:53.005293Z"
    }
   },
   "source": [
    "# TODO: initialize OpenAI object with your API key\n",
    "llm = ChatOpenAI()"
   ],
   "outputs": [],
   "execution_count": 5
  },
  {
   "cell_type": "markdown",
   "metadata": {},
   "source": [
    "Now, let's setup our parser and a template  - \n",
    "\n",
    "**Note**  that since recording, the code to initialize the model has been updated to \n",
    "\n",
    "`llm = ChatOpenAI()`"
   ]
  },
  {
   "cell_type": "code",
   "metadata": {
    "ExecuteTime": {
     "end_time": "2025-02-03T22:31:15.541786Z",
     "start_time": "2025-02-03T22:31:15.499706Z"
    }
   },
   "source": [
    "class ReviewSentiment(BaseModel):\n",
    "    positives: List[NonNegativeInt] = Field(description=\"index of a positive TV review, starting from 0\")\n",
    "    negatives: List[NonNegativeInt] = Field(description=\"index of a negative TV review, starting from 0\")\n",
    "        \n",
    "parser = PydanticOutputParser(pydantic_object=ReviewSentiment)\n",
    "# TODO: setup a template with partial and input variables\n",
    "print(parser.get_format_instructions())\n"
   ],
   "outputs": [
    {
     "name": "stdout",
     "output_type": "stream",
     "text": [
      "The output should be formatted as a JSON instance that conforms to the JSON schema below.\n",
      "\n",
      "As an example, for the schema {\"properties\": {\"foo\": {\"title\": \"Foo\", \"description\": \"a list of strings\", \"type\": \"array\", \"items\": {\"type\": \"string\"}}}, \"required\": [\"foo\"]}\n",
      "the object {\"foo\": [\"bar\", \"baz\"]} is a well-formatted instance of the schema. The object {\"properties\": {\"foo\": [\"bar\", \"baz\"]}} is not well-formatted.\n",
      "\n",
      "Here is the output schema:\n",
      "```\n",
      "{\"properties\": {\"positives\": {\"description\": \"index of a positive TV review, starting from 0\", \"items\": {\"minimum\": 0, \"type\": \"integer\"}, \"title\": \"Positives\", \"type\": \"array\"}, \"negatives\": {\"description\": \"index of a negative TV review, starting from 0\", \"items\": {\"minimum\": 0, \"type\": \"integer\"}, \"title\": \"Negatives\", \"type\": \"array\"}}, \"required\": [\"positives\", \"negatives\"]}\n",
      "```\n"
     ]
    }
   ],
   "execution_count": 9
  },
  {
   "cell_type": "markdown",
   "metadata": {},
   "source": [
    "Pick 3 sample reviews to classify - LLMs have a limited context window they can work with. In later exercises, we'll see how to deal with that differently"
   ]
  },
  {
   "cell_type": "code",
   "metadata": {
    "ExecuteTime": {
     "end_time": "2025-02-03T22:40:37.937556Z",
     "start_time": "2025-02-03T22:40:36.504727Z"
    }
   },
   "source": [
    "# TODO: pick 3 random reviews and save them into reviews_to_classify variable\n",
    "prompt=PromptTemplate(\n",
    "    template=\"{question}\\n{format_instructions}\\nContext:\\n{context}\",\n",
    "    input_variables=[\"question\", \"context\"],\n",
    "    partial_variables={\"format_instructions\": parser.get_format_instructions()}\n",
    "\n",
    ")\n",
    "question=\"\"\"\n",
    "    Review TVs provided in the context.\n",
    "    Only use the reviews provided in this context, do not make up new reviews or use any existing information you know about these TVs.\n",
    "    If there are no positive or negative reviews, output an empty JSON array.\n",
    "\"\"\"\n",
    "reviews_to_classify = sample(documents, 3)\n",
    "context=\"\\n\".join([review.page_content for review in reviews_to_classify])\n",
    "query=prompt.format(context=context, question=question)\n",
    "print(f\"{query=}\")\n",
    "output=llm.predict(query)\n",
    "print(f\"{output=}\")\n",
    "result=parser.parse(output)\n",
    "print(f\"{result=}\")\n"
   ],
   "outputs": [
    {
     "name": "stdout",
     "output_type": "stream",
     "text": [
      "query='\\n    Review TVs provided in the context.\\n    Only use the reviews provided in this context, do not make up new reviews or use any existing information you know about these TVs.\\n    If there are no positive or negative reviews, output an empty JSON array.\\n\\nThe output should be formatted as a JSON instance that conforms to the JSON schema below.\\n\\nAs an example, for the schema {\"properties\": {\"foo\": {\"title\": \"Foo\", \"description\": \"a list of strings\", \"type\": \"array\", \"items\": {\"type\": \"string\"}}}, \"required\": [\"foo\"]}\\nthe object {\"foo\": [\"bar\", \"baz\"]} is a well-formatted instance of the schema. The object {\"properties\": {\"foo\": [\"bar\", \"baz\"]}} is not well-formatted.\\n\\nHere is the output schema:\\n```\\n{\"properties\": {\"positives\": {\"description\": \"index of a positive TV review, starting from 0\", \"items\": {\"minimum\": 0, \"type\": \"integer\"}, \"title\": \"Positives\", \"type\": \"array\"}, \"negatives\": {\"description\": \"index of a negative TV review, starting from 0\", \"items\": {\"minimum\": 0, \"type\": \"integer\"}, \"title\": \"Negatives\", \"type\": \"array\"}}, \"required\": [\"positives\", \"negatives\"]}\\n```\\nContext:\\nTV Name: VisionMax Ultra\\nReview Title: Immersive Audio Experience\\nReview Rating: 10\\nReview Text: The VisionMax Ultra delivers an immersive audio experience. The built-in speakers produce clear and well-balanced sound. The Dolby Atmos technology adds depth and dimension to the audio, making it feel like I\\'m in a theater. I\\'m thoroughly impressed!\\nTV Name: VisionMax Ultra\\nReview Title: Easy Installation Process\\nReview Rating: 9\\nReview Text: Setting up the VisionMax Ultra was a breeze. The instructions provided were clear and concise, making the installation process quick and hassle-free. The TV also offers various mounting options, allowing me to choose the perfect placement for my viewing pleasure.\\nTV Name: Imagix Pro\\nReview Title: Unmatched Clarity\\nReview Rating: 10\\nReview Text: I cannot express enough how impressed I am with the clarity of the Imagix Pro. Every detail is so sharp and lifelike, it\\'s like I can reach out and touch the images on the screen. The colors are vibrant and realistic, making everything look stunning. It truly enhances my movie-watching experience!'\n",
      "output='{\\n    \"positives\": [\\n        0,\\n        1,\\n        2\\n    ],\\n    \"negatives\": []\\n}'\n",
      "result=ReviewSentiment(positives=[0, 1, 2], negatives=[])\n"
     ]
    }
   ],
   "execution_count": 19
  },
  {
   "cell_type": "markdown",
   "metadata": {},
   "source": [
    "    # generate textual prompt from the prompt template\n",
    "question = \"\"\"\n",
    "    Review TVs provided in the context. \n",
    "    Only use the reviews provided in this context, do not make up new reviews or use any existing information you know about these TVs. \n",
    "    If there are no positive or negative reviews, output an empty JSON array. \n",
    "\"\"\"\n",
    "query = prompt.format(context = context, question = question)"
   ]
  },
  {
   "cell_type": "markdown",
   "metadata": {},
   "source": [
    "Finally, let's send our query to LLM and use the parser we setup to parse an output into a Python object\n",
    "\n",
    "**NOTE**: Since recording the code to feed the query to the llm has been updated to\n",
    "\n",
    "`llm.predict(query)`"
   ]
  },
  {
   "cell_type": "code",
   "metadata": {
    "ExecuteTime": {
     "end_time": "2025-02-03T22:40:40.610629Z",
     "start_time": "2025-02-03T22:40:40.595367Z"
    }
   },
   "source": [
    "# TODO: query LLM, then parse output into the result variable\n",
    "\n",
    "print(\"Positives:\\n\" + \"\\n\".join([reviews_to_classify[i].page_content for i in result.positives]))\n",
    "print(\"Negatives:\\n\" + \"\\n\".join([reviews_to_classify[i].page_content for i in result.negatives]))"
   ],
   "outputs": [
    {
     "name": "stdout",
     "output_type": "stream",
     "text": [
      "Positives:\n",
      "TV Name: VisionMax Ultra\n",
      "Review Title: Immersive Audio Experience\n",
      "Review Rating: 10\n",
      "Review Text: The VisionMax Ultra delivers an immersive audio experience. The built-in speakers produce clear and well-balanced sound. The Dolby Atmos technology adds depth and dimension to the audio, making it feel like I'm in a theater. I'm thoroughly impressed!\n",
      "TV Name: VisionMax Ultra\n",
      "Review Title: Easy Installation Process\n",
      "Review Rating: 9\n",
      "Review Text: Setting up the VisionMax Ultra was a breeze. The instructions provided were clear and concise, making the installation process quick and hassle-free. The TV also offers various mounting options, allowing me to choose the perfect placement for my viewing pleasure.\n",
      "TV Name: Imagix Pro\n",
      "Review Title: Unmatched Clarity\n",
      "Review Rating: 10\n",
      "Review Text: I cannot express enough how impressed I am with the clarity of the Imagix Pro. Every detail is so sharp and lifelike, it's like I can reach out and touch the images on the screen. The colors are vibrant and realistic, making everything look stunning. It truly enhances my movie-watching experience!\n",
      "Negatives:\n",
      "\n"
     ]
    }
   ],
   "execution_count": 20
  },
  {
   "metadata": {},
   "cell_type": "code",
   "outputs": [],
   "execution_count": null,
   "source": ""
  }
 ],
 "metadata": {
  "kernelspec": {
   "display_name": "Python 3 (ipykernel)",
   "language": "python",
   "name": "python3"
  },
  "language_info": {
   "codemirror_mode": {
    "name": "ipython",
    "version": 3
   },
   "file_extension": ".py",
   "mimetype": "text/x-python",
   "name": "python",
   "nbconvert_exporter": "python",
   "pygments_lexer": "ipython3",
   "version": "3.10.13"
  }
 },
 "nbformat": 4,
 "nbformat_minor": 2
}
