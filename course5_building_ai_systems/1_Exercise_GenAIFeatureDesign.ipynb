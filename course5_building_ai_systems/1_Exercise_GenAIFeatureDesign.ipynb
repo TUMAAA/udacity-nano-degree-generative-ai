{
 "cells": [
  {
   "cell_type": "markdown",
   "metadata": {},
   "source": [
    "In this exercise, you are tasked with creating an application that aggregates and summarizes restaurant reviews. Users will provide the name of a restaurant and the type of cuisine, and the application will generate a summary of the most prevalent sentiments found in online reviews for that specific restaurant and cuisine type.\n",
    "\n",
    "**Challenge** \n",
    "\n",
    "Develop a prompt template that guides the LLM to generate a concise, sentiment-focused summary based on user inputs: the restaurant name and the type of cuisine."
   ]
  },
  {
   "cell_type": "markdown",
   "metadata": {},
   "source": [
    "**Understand the User Inputs**\n",
    "\n",
    "Identify the essential user inputs for this task. In this scenario, you need:\n",
    "- Restaurant Name\n",
    "- Cuisine Type\n",
    "- Can you think of others to make your prompt more specific or flexible? "
   ]
  },
  {
   "cell_type": "code",
   "execution_count": 1,
   "metadata": {},
   "outputs": [],
   "source": [
    "# Create variables to store the user inputs\n",
    "restaurant_name=\"Alshifa\"\n",
    "cuisine_type=\"middle eastern\""
   ]
  },
  {
   "cell_type": "markdown",
   "metadata": {},
   "source": [
    "**Craft the Prompt**\n",
    "\n",
    "Compose a clear, concise instruction that will direct the LLM to generate a sentiment-focused summary for the specified restaurant and cuisine.\n",
    " - The prompt should be specific enough to guide the LLM towards the desired output \n",
    " - But also flexible enough to handle a range of restaurants and cuisines."
   ]
  },
  {
   "cell_type": "code",
   "execution_count": 2,
   "metadata": {},
   "outputs": [],
   "source": [
    "prompt = \"You are a restaurant expert and assesor who summarizes people's reviews on restaurants based on the restaurant name and cuisine type\""
   ]
  },
  {
   "cell_type": "markdown",
   "metadata": {},
   "source": [
    "**Create the Prompt Template**\n",
    "\n",
    "Design a template that integrates the user inputs into the LLM prompt.\n",
    "Use brackets {} to denote where the user inputs should be placed. This makes the template dynamic, allowing for different restaurant names and cuisine types to be inserted into the prompt."
   ]
  },
  {
   "cell_type": "code",
   "execution_count": 7,
   "metadata": {},
   "outputs": [
    {
     "name": "stdout",
     "output_type": "stream",
     "text": [
      "You are a restaurant expert and assesor who summarizes people's reviews on restaurants based on the restaurant name and cuisine type\n",
      "\n",
      "Q: What is the summary of reviews of the restaurant Alshifa that serves middle eastern dishes?\n",
      "A:\n"
     ]
    }
   ],
   "source": [
    "prompt_template = f\"{prompt}\\n\\n\\\n",
    "\\\n",
    "Q: What is the summary of reviews of the restaurant {restaurant_name} that serves {cuisine_type} dishes?\\n\\\n",
    "A:\"\n",
    "print(prompt_template)"
   ]
  },
  {
   "cell_type": "markdown",
   "metadata": {},
   "source": [
    "Now, call the OpenAI GPT-3.5 API with your prompt and see how the model responds"
   ]
  },
  {
   "cell_type": "code",
   "execution_count": 9,
   "metadata": {},
   "outputs": [],
   "source": [
    "# Call the OpenAI API with your prompt and print the response\n",
    "import openai\n",
    "openai.api_key = # fill the key here\n",
    "openai.api_base = \"https://openai.vocareum.com/v1\"\n",
    "\n",
    "COMPLETION_MODEL_NAME = \"gpt-3.5-turbo-instruct\"\n",
    "response = openai.Completion.create(model=COMPLETION_MODEL_NAME, prompt=prompt, max_tokens=400)"
   ]
  },
  {
   "cell_type": "code",
   "execution_count": 12,
   "metadata": {},
   "outputs": [
    {
     "name": "stdout",
     "output_type": "stream",
     "text": [
      "answer=\"Hello, my name is [Name], and I am a restaurant expert and assessor. I have been tasked with summarizing people's reviews on different restaurants based on the restaurant name and cuisine type. \\n\\nAfter carefully analyzing hundreds of reviews, I have come up with a comprehensive summary for each restaurant that will help you make an informed decision before your next dining experience.\\n\\nWithout further ado, let's dive into the delicious world of restaurants and cuisines.\\n\\n[Restaurant Name] specializes in [Cuisine Type]. Customers rave about the authentic flavors and mouthwatering dishes offered at this restaurant. Many reviewers mention the friendly and attentive staff, as well as the cozy ambiance of the establishment. Some must-try dishes that stood out in the reviews include [specific dish names]. However, some customers reported slow service or a long wait time during peak hours. Overall, if you're in the mood for [cuisine type], [restaurant name] is definitely worth a visit.\\n\\nMoving on to [Restaurant Name], known for their [Cuisine Type]. This restaurant has received mixed reviews, with some customers praising the well-seasoned dishes and generous portions, while others have complained about the high prices and inconsistent quality. Many reviewers also commented on the modern and trendy atmosphere of the restaurant. Some popular dishes mentioned in the reviews include [specific dish names]. If you're looking for a unique and upscale dining experience, [restaurant name] might be the perfect choice for you.\\n\\nNext up, we have [Restaurant Name], a hidden gem for [Cuisine Type] lovers. This restaurant has consistently received glowing reviews for their flavorful dishes and affordable prices. Reviewers also commend the warm and welcoming staff, adding to the overall positive dining experience. Some must-try dishes include [specific dish names]. However, a few customers noted the limited seating and small space of the restaurant. But if you're looking for delicious and authentic [cuisine type] at a reasonable price, [restaurant name] is definitely worth a\"\n"
     ]
    }
   ],
   "source": [
    "answer = response[\"choices\"][0][\"text\"].strip()\n",
    "print(f\"{answer=}\")"
   ]
  },
  {
   "cell_type": "code",
   "execution_count": null,
   "metadata": {},
   "outputs": [],
   "source": []
  }
 ],
 "metadata": {
  "kernelspec": {
   "display_name": "Python 3 (ipykernel)",
   "language": "python",
   "name": "python3"
  },
  "language_info": {
   "codemirror_mode": {
    "name": "ipython",
    "version": 3
   },
   "file_extension": ".py",
   "mimetype": "text/x-python",
   "name": "python",
   "nbconvert_exporter": "python",
   "pygments_lexer": "ipython3",
   "version": "3.10.13"
  }
 },
 "nbformat": 4,
 "nbformat_minor": 2
}
