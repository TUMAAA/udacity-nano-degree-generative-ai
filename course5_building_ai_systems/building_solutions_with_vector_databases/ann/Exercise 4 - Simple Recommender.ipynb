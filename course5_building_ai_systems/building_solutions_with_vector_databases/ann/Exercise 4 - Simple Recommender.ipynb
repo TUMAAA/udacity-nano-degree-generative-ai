{
 "cells": [
  {
   "cell_type": "markdown",
   "id": "53327472",
   "metadata": {},
   "source": [
    "# Using a Vector Database to Recommend Movies\n",
    "\n",
    "SOLUTION: https://youtu.be/dCkn6WTadgY\n",
    "\n",
    "Vector search is certainly critical for generative AI, but also has lots of other interesting applications as well. One very common one is building personalized recommendations. In this exercise, we'll take a small diversion and build a quick movie recommender using a vector database."
   ]
  },
  {
   "cell_type": "markdown",
   "id": "05dc688e",
   "metadata": {},
   "source": [
    "For this exercise we'll use the [MovieLens Latest Small Dataset](https://grouplens.org/datasets/movielens/latest/), which contains 100,000 ratings and 3,600 tags applied to 9,000 movies by 600 users. The strategy we'll use is to create embeddings for the movies based on the user ratings. Then if a user rated a particular movie highly, we'll recommend \"similar\" movies, as determined by the embeddings"
   ]
  },
  {
   "cell_type": "code",
   "id": "70a36165",
   "metadata": {
    "ExecuteTime": {
     "end_time": "2025-02-03T20:31:41.574579Z",
     "start_time": "2025-02-03T20:30:59.105346Z"
    }
   },
   "source": [
    "import lancedb\n",
    "\n",
    "import numpy as np\n",
    "import pandas as pd"
   ],
   "outputs": [
    {
     "name": "stderr",
     "output_type": "stream",
     "text": [
      "/home/tumaaa/work/repos/udacity_nano_degree_generative_ai/.venv/lib/python3.10/site-packages/tqdm/auto.py:21: TqdmWarning: IProgress not found. Please update jupyter and ipywidgets. See https://ipywidgets.readthedocs.io/en/stable/user_install.html\n",
      "  from .autonotebook import tqdm as notebook_tqdm\n"
     ]
    }
   ],
   "execution_count": 1
  },
  {
   "cell_type": "markdown",
   "id": "3b0fd54d",
   "metadata": {},
   "source": [
    "The dataset is included along with this exercise:"
   ]
  },
  {
   "cell_type": "code",
   "id": "9546d217",
   "metadata": {
    "ExecuteTime": {
     "end_time": "2025-02-03T20:31:42.179581Z",
     "start_time": "2025-02-03T20:31:41.611798Z"
    }
   },
   "source": [
    "!ls ml-latest-small"
   ],
   "outputs": [
    {
     "name": "stdout",
     "output_type": "stream",
     "text": [
      "links.csv  movies.csv  ratings.csv  README.txt\ttags.csv\r\n"
     ]
    }
   ],
   "execution_count": 2
  },
  {
   "cell_type": "markdown",
   "id": "d9db1d9b",
   "metadata": {},
   "source": [
    "## Loading data\n",
    "\n",
    "Let's start by reading in the `ratings.csv` file. We'll use this to compute the content embeddings"
   ]
  },
  {
   "cell_type": "code",
   "id": "3b18fdb6",
   "metadata": {
    "ExecuteTime": {
     "end_time": "2025-02-03T20:32:40.581392Z",
     "start_time": "2025-02-03T20:32:40.259639Z"
    }
   },
   "source": [
    "ratings = pd.read_csv('./ml-latest-small/ratings.csv', header=0)\n",
    "ratings"
   ],
   "outputs": [
    {
     "data": {
      "text/plain": [
       "        userId  movieId  rating   timestamp\n",
       "0            1        1     4.0   964982703\n",
       "1            1        3     4.0   964981247\n",
       "2            1        6     4.0   964982224\n",
       "3            1       47     5.0   964983815\n",
       "4            1       50     5.0   964982931\n",
       "...        ...      ...     ...         ...\n",
       "100831     610   166534     4.0  1493848402\n",
       "100832     610   168248     5.0  1493850091\n",
       "100833     610   168250     5.0  1494273047\n",
       "100834     610   168252     5.0  1493846352\n",
       "100835     610   170875     3.0  1493846415\n",
       "\n",
       "[100836 rows x 4 columns]"
      ],
      "text/html": [
       "<div>\n",
       "<style scoped>\n",
       "    .dataframe tbody tr th:only-of-type {\n",
       "        vertical-align: middle;\n",
       "    }\n",
       "\n",
       "    .dataframe tbody tr th {\n",
       "        vertical-align: top;\n",
       "    }\n",
       "\n",
       "    .dataframe thead th {\n",
       "        text-align: right;\n",
       "    }\n",
       "</style>\n",
       "<table border=\"1\" class=\"dataframe\">\n",
       "  <thead>\n",
       "    <tr style=\"text-align: right;\">\n",
       "      <th></th>\n",
       "      <th>userId</th>\n",
       "      <th>movieId</th>\n",
       "      <th>rating</th>\n",
       "      <th>timestamp</th>\n",
       "    </tr>\n",
       "  </thead>\n",
       "  <tbody>\n",
       "    <tr>\n",
       "      <th>0</th>\n",
       "      <td>1</td>\n",
       "      <td>1</td>\n",
       "      <td>4.0</td>\n",
       "      <td>964982703</td>\n",
       "    </tr>\n",
       "    <tr>\n",
       "      <th>1</th>\n",
       "      <td>1</td>\n",
       "      <td>3</td>\n",
       "      <td>4.0</td>\n",
       "      <td>964981247</td>\n",
       "    </tr>\n",
       "    <tr>\n",
       "      <th>2</th>\n",
       "      <td>1</td>\n",
       "      <td>6</td>\n",
       "      <td>4.0</td>\n",
       "      <td>964982224</td>\n",
       "    </tr>\n",
       "    <tr>\n",
       "      <th>3</th>\n",
       "      <td>1</td>\n",
       "      <td>47</td>\n",
       "      <td>5.0</td>\n",
       "      <td>964983815</td>\n",
       "    </tr>\n",
       "    <tr>\n",
       "      <th>4</th>\n",
       "      <td>1</td>\n",
       "      <td>50</td>\n",
       "      <td>5.0</td>\n",
       "      <td>964982931</td>\n",
       "    </tr>\n",
       "    <tr>\n",
       "      <th>...</th>\n",
       "      <td>...</td>\n",
       "      <td>...</td>\n",
       "      <td>...</td>\n",
       "      <td>...</td>\n",
       "    </tr>\n",
       "    <tr>\n",
       "      <th>100831</th>\n",
       "      <td>610</td>\n",
       "      <td>166534</td>\n",
       "      <td>4.0</td>\n",
       "      <td>1493848402</td>\n",
       "    </tr>\n",
       "    <tr>\n",
       "      <th>100832</th>\n",
       "      <td>610</td>\n",
       "      <td>168248</td>\n",
       "      <td>5.0</td>\n",
       "      <td>1493850091</td>\n",
       "    </tr>\n",
       "    <tr>\n",
       "      <th>100833</th>\n",
       "      <td>610</td>\n",
       "      <td>168250</td>\n",
       "      <td>5.0</td>\n",
       "      <td>1494273047</td>\n",
       "    </tr>\n",
       "    <tr>\n",
       "      <th>100834</th>\n",
       "      <td>610</td>\n",
       "      <td>168252</td>\n",
       "      <td>5.0</td>\n",
       "      <td>1493846352</td>\n",
       "    </tr>\n",
       "    <tr>\n",
       "      <th>100835</th>\n",
       "      <td>610</td>\n",
       "      <td>170875</td>\n",
       "      <td>3.0</td>\n",
       "      <td>1493846415</td>\n",
       "    </tr>\n",
       "  </tbody>\n",
       "</table>\n",
       "<p>100836 rows × 4 columns</p>\n",
       "</div>"
      ]
     },
     "execution_count": 3,
     "metadata": {},
     "output_type": "execute_result"
    }
   ],
   "execution_count": 3
  },
  {
   "cell_type": "markdown",
   "id": "9545e764",
   "metadata": {},
   "source": [
    "## Computing ratings\n",
    "\n",
    "Use the ratings dataframe from above and create a new reviews dataframe of users (index) and movies (columns). Each entry (i, j) in the dataframe will be the rating that user_i gave to movie_j. If no such pair exists, then fill in the value 0.\n",
    "\n",
    "**HINT** In Excel this would be called a **pivot** table"
   ]
  },
  {
   "metadata": {},
   "cell_type": "markdown",
   "source": "",
   "id": "9c3e6b6d2e92b6aa"
  },
  {
   "cell_type": "code",
   "id": "419a60f0",
   "metadata": {
    "ExecuteTime": {
     "end_time": "2025-02-03T20:32:43.349421Z",
     "start_time": "2025-02-03T20:32:42.927002Z"
    }
   },
   "source": "reviewmatrix = ratings.pivot(index=\"userId\", columns=\"movieId\", values=\"rating\").fillna(0)",
   "outputs": [],
   "execution_count": 4
  },
  {
   "metadata": {
    "ExecuteTime": {
     "end_time": "2025-02-03T20:32:43.817479Z",
     "start_time": "2025-02-03T20:32:43.721108Z"
    }
   },
   "cell_type": "code",
   "source": "reviewmatrix.head()\n",
   "id": "bb35762023c697ed",
   "outputs": [
    {
     "data": {
      "text/plain": [
       "movieId  1       2       3       4       5       6       7       8       \\\n",
       "userId                                                                    \n",
       "1           4.0     0.0     4.0     0.0     0.0     4.0     0.0     0.0   \n",
       "2           0.0     0.0     0.0     0.0     0.0     0.0     0.0     0.0   \n",
       "3           0.0     0.0     0.0     0.0     0.0     0.0     0.0     0.0   \n",
       "4           0.0     0.0     0.0     0.0     0.0     0.0     0.0     0.0   \n",
       "5           4.0     0.0     0.0     0.0     0.0     0.0     0.0     0.0   \n",
       "\n",
       "movieId  9       10      ...  193565  193567  193571  193573  193579  193581  \\\n",
       "userId                   ...                                                   \n",
       "1           0.0     0.0  ...     0.0     0.0     0.0     0.0     0.0     0.0   \n",
       "2           0.0     0.0  ...     0.0     0.0     0.0     0.0     0.0     0.0   \n",
       "3           0.0     0.0  ...     0.0     0.0     0.0     0.0     0.0     0.0   \n",
       "4           0.0     0.0  ...     0.0     0.0     0.0     0.0     0.0     0.0   \n",
       "5           0.0     0.0  ...     0.0     0.0     0.0     0.0     0.0     0.0   \n",
       "\n",
       "movieId  193583  193585  193587  193609  \n",
       "userId                                   \n",
       "1           0.0     0.0     0.0     0.0  \n",
       "2           0.0     0.0     0.0     0.0  \n",
       "3           0.0     0.0     0.0     0.0  \n",
       "4           0.0     0.0     0.0     0.0  \n",
       "5           0.0     0.0     0.0     0.0  \n",
       "\n",
       "[5 rows x 9724 columns]"
      ],
      "text/html": [
       "<div>\n",
       "<style scoped>\n",
       "    .dataframe tbody tr th:only-of-type {\n",
       "        vertical-align: middle;\n",
       "    }\n",
       "\n",
       "    .dataframe tbody tr th {\n",
       "        vertical-align: top;\n",
       "    }\n",
       "\n",
       "    .dataframe thead th {\n",
       "        text-align: right;\n",
       "    }\n",
       "</style>\n",
       "<table border=\"1\" class=\"dataframe\">\n",
       "  <thead>\n",
       "    <tr style=\"text-align: right;\">\n",
       "      <th>movieId</th>\n",
       "      <th>1</th>\n",
       "      <th>2</th>\n",
       "      <th>3</th>\n",
       "      <th>4</th>\n",
       "      <th>5</th>\n",
       "      <th>6</th>\n",
       "      <th>7</th>\n",
       "      <th>8</th>\n",
       "      <th>9</th>\n",
       "      <th>10</th>\n",
       "      <th>...</th>\n",
       "      <th>193565</th>\n",
       "      <th>193567</th>\n",
       "      <th>193571</th>\n",
       "      <th>193573</th>\n",
       "      <th>193579</th>\n",
       "      <th>193581</th>\n",
       "      <th>193583</th>\n",
       "      <th>193585</th>\n",
       "      <th>193587</th>\n",
       "      <th>193609</th>\n",
       "    </tr>\n",
       "    <tr>\n",
       "      <th>userId</th>\n",
       "      <th></th>\n",
       "      <th></th>\n",
       "      <th></th>\n",
       "      <th></th>\n",
       "      <th></th>\n",
       "      <th></th>\n",
       "      <th></th>\n",
       "      <th></th>\n",
       "      <th></th>\n",
       "      <th></th>\n",
       "      <th></th>\n",
       "      <th></th>\n",
       "      <th></th>\n",
       "      <th></th>\n",
       "      <th></th>\n",
       "      <th></th>\n",
       "      <th></th>\n",
       "      <th></th>\n",
       "      <th></th>\n",
       "      <th></th>\n",
       "      <th></th>\n",
       "    </tr>\n",
       "  </thead>\n",
       "  <tbody>\n",
       "    <tr>\n",
       "      <th>1</th>\n",
       "      <td>4.0</td>\n",
       "      <td>0.0</td>\n",
       "      <td>4.0</td>\n",
       "      <td>0.0</td>\n",
       "      <td>0.0</td>\n",
       "      <td>4.0</td>\n",
       "      <td>0.0</td>\n",
       "      <td>0.0</td>\n",
       "      <td>0.0</td>\n",
       "      <td>0.0</td>\n",
       "      <td>...</td>\n",
       "      <td>0.0</td>\n",
       "      <td>0.0</td>\n",
       "      <td>0.0</td>\n",
       "      <td>0.0</td>\n",
       "      <td>0.0</td>\n",
       "      <td>0.0</td>\n",
       "      <td>0.0</td>\n",
       "      <td>0.0</td>\n",
       "      <td>0.0</td>\n",
       "      <td>0.0</td>\n",
       "    </tr>\n",
       "    <tr>\n",
       "      <th>2</th>\n",
       "      <td>0.0</td>\n",
       "      <td>0.0</td>\n",
       "      <td>0.0</td>\n",
       "      <td>0.0</td>\n",
       "      <td>0.0</td>\n",
       "      <td>0.0</td>\n",
       "      <td>0.0</td>\n",
       "      <td>0.0</td>\n",
       "      <td>0.0</td>\n",
       "      <td>0.0</td>\n",
       "      <td>...</td>\n",
       "      <td>0.0</td>\n",
       "      <td>0.0</td>\n",
       "      <td>0.0</td>\n",
       "      <td>0.0</td>\n",
       "      <td>0.0</td>\n",
       "      <td>0.0</td>\n",
       "      <td>0.0</td>\n",
       "      <td>0.0</td>\n",
       "      <td>0.0</td>\n",
       "      <td>0.0</td>\n",
       "    </tr>\n",
       "    <tr>\n",
       "      <th>3</th>\n",
       "      <td>0.0</td>\n",
       "      <td>0.0</td>\n",
       "      <td>0.0</td>\n",
       "      <td>0.0</td>\n",
       "      <td>0.0</td>\n",
       "      <td>0.0</td>\n",
       "      <td>0.0</td>\n",
       "      <td>0.0</td>\n",
       "      <td>0.0</td>\n",
       "      <td>0.0</td>\n",
       "      <td>...</td>\n",
       "      <td>0.0</td>\n",
       "      <td>0.0</td>\n",
       "      <td>0.0</td>\n",
       "      <td>0.0</td>\n",
       "      <td>0.0</td>\n",
       "      <td>0.0</td>\n",
       "      <td>0.0</td>\n",
       "      <td>0.0</td>\n",
       "      <td>0.0</td>\n",
       "      <td>0.0</td>\n",
       "    </tr>\n",
       "    <tr>\n",
       "      <th>4</th>\n",
       "      <td>0.0</td>\n",
       "      <td>0.0</td>\n",
       "      <td>0.0</td>\n",
       "      <td>0.0</td>\n",
       "      <td>0.0</td>\n",
       "      <td>0.0</td>\n",
       "      <td>0.0</td>\n",
       "      <td>0.0</td>\n",
       "      <td>0.0</td>\n",
       "      <td>0.0</td>\n",
       "      <td>...</td>\n",
       "      <td>0.0</td>\n",
       "      <td>0.0</td>\n",
       "      <td>0.0</td>\n",
       "      <td>0.0</td>\n",
       "      <td>0.0</td>\n",
       "      <td>0.0</td>\n",
       "      <td>0.0</td>\n",
       "      <td>0.0</td>\n",
       "      <td>0.0</td>\n",
       "      <td>0.0</td>\n",
       "    </tr>\n",
       "    <tr>\n",
       "      <th>5</th>\n",
       "      <td>4.0</td>\n",
       "      <td>0.0</td>\n",
       "      <td>0.0</td>\n",
       "      <td>0.0</td>\n",
       "      <td>0.0</td>\n",
       "      <td>0.0</td>\n",
       "      <td>0.0</td>\n",
       "      <td>0.0</td>\n",
       "      <td>0.0</td>\n",
       "      <td>0.0</td>\n",
       "      <td>...</td>\n",
       "      <td>0.0</td>\n",
       "      <td>0.0</td>\n",
       "      <td>0.0</td>\n",
       "      <td>0.0</td>\n",
       "      <td>0.0</td>\n",
       "      <td>0.0</td>\n",
       "      <td>0.0</td>\n",
       "      <td>0.0</td>\n",
       "      <td>0.0</td>\n",
       "      <td>0.0</td>\n",
       "    </tr>\n",
       "  </tbody>\n",
       "</table>\n",
       "<p>5 rows × 9724 columns</p>\n",
       "</div>"
      ]
     },
     "execution_count": 5,
     "metadata": {},
     "output_type": "execute_result"
    }
   ],
   "execution_count": 5
  },
  {
   "cell_type": "markdown",
   "id": "58647590",
   "metadata": {},
   "source": [
    "## Computing embeddings\n",
    "\n",
    "Now let's use [matrix factorization](https://www.cs.cmu.edu/~mgormley/courses/10601-s17/slides/lecture25-mf.pdf) to extract content embeddings.\n",
    "\n",
    "Please compute the content embeddings from the reviewmatrix dataframe and name the result `embeddings`.\n",
    "\n",
    "**HINT**\n",
    "1. SVD is a popular matrix factorization technique\n",
    "2. If you're not sure which of the SVD results to use as the content embeddings, look at the shape of the results"
   ]
  },
  {
   "cell_type": "code",
   "id": "a408c594",
   "metadata": {
    "ExecuteTime": {
     "end_time": "2025-02-03T20:33:05.017548Z",
     "start_time": "2025-02-03T20:32:46.600358Z"
    }
   },
   "source": [
    "matrix = reviewmatrix.values\n",
    "_, _, vh = np.linalg.svd(matrix)\n",
    "embeddings = vh.T"
   ],
   "outputs": [],
   "execution_count": 6
  },
  {
   "metadata": {},
   "cell_type": "code",
   "source": "print(f\"{embeddings.shape=}\")\n",
   "id": "b2aaf391d875c7b5",
   "outputs": [
    {
     "name": "stdout",
     "output_type": "stream",
     "text": [
      "embeddings.shape=(9724, 9724)\n"
     ]
    }
   ],
   "execution_count": 7
  },
  {
   "cell_type": "markdown",
   "id": "00d69259",
   "metadata": {},
   "source": [
    "## Metadata\n",
    "\n",
    "Read in the `movies.csv` and `links.csv` files and make sure it is aligned with the embeddings dataframe.\n",
    "\n",
    "**HINT** pandas provides `reindex` functionality to help with data alignment"
   ]
  },
  {
   "cell_type": "code",
   "id": "9d499a64",
   "metadata": {
    "ExecuteTime": {
     "end_time": "2025-02-03T20:35:50.566439Z",
     "start_time": "2025-02-03T20:35:50.386033Z"
    }
   },
   "source": [
    "movies = pd.read_csv('./ml-latest-small/movies.csv', header=0)\n",
    "movies = movies.set_index(\"movieId\").reindex(reviewmatrix.columns)\n",
    "movies"
   ],
   "outputs": [
    {
     "data": {
      "text/plain": [
       "                                             title  \\\n",
       "movieId                                              \n",
       "1                                 Toy Story (1995)   \n",
       "2                                   Jumanji (1995)   \n",
       "3                          Grumpier Old Men (1995)   \n",
       "4                         Waiting to Exhale (1995)   \n",
       "5               Father of the Bride Part II (1995)   \n",
       "...                                            ...   \n",
       "193581   Black Butler: Book of the Atlantic (2017)   \n",
       "193583                No Game No Life: Zero (2017)   \n",
       "193585                                Flint (2017)   \n",
       "193587         Bungo Stray Dogs: Dead Apple (2018)   \n",
       "193609         Andrew Dice Clay: Dice Rules (1991)   \n",
       "\n",
       "                                              genres  \n",
       "movieId                                               \n",
       "1        Adventure|Animation|Children|Comedy|Fantasy  \n",
       "2                         Adventure|Children|Fantasy  \n",
       "3                                     Comedy|Romance  \n",
       "4                               Comedy|Drama|Romance  \n",
       "5                                             Comedy  \n",
       "...                                              ...  \n",
       "193581               Action|Animation|Comedy|Fantasy  \n",
       "193583                      Animation|Comedy|Fantasy  \n",
       "193585                                         Drama  \n",
       "193587                              Action|Animation  \n",
       "193609                                        Comedy  \n",
       "\n",
       "[9724 rows x 2 columns]"
      ],
      "text/html": [
       "<div>\n",
       "<style scoped>\n",
       "    .dataframe tbody tr th:only-of-type {\n",
       "        vertical-align: middle;\n",
       "    }\n",
       "\n",
       "    .dataframe tbody tr th {\n",
       "        vertical-align: top;\n",
       "    }\n",
       "\n",
       "    .dataframe thead th {\n",
       "        text-align: right;\n",
       "    }\n",
       "</style>\n",
       "<table border=\"1\" class=\"dataframe\">\n",
       "  <thead>\n",
       "    <tr style=\"text-align: right;\">\n",
       "      <th></th>\n",
       "      <th>title</th>\n",
       "      <th>genres</th>\n",
       "    </tr>\n",
       "    <tr>\n",
       "      <th>movieId</th>\n",
       "      <th></th>\n",
       "      <th></th>\n",
       "    </tr>\n",
       "  </thead>\n",
       "  <tbody>\n",
       "    <tr>\n",
       "      <th>1</th>\n",
       "      <td>Toy Story (1995)</td>\n",
       "      <td>Adventure|Animation|Children|Comedy|Fantasy</td>\n",
       "    </tr>\n",
       "    <tr>\n",
       "      <th>2</th>\n",
       "      <td>Jumanji (1995)</td>\n",
       "      <td>Adventure|Children|Fantasy</td>\n",
       "    </tr>\n",
       "    <tr>\n",
       "      <th>3</th>\n",
       "      <td>Grumpier Old Men (1995)</td>\n",
       "      <td>Comedy|Romance</td>\n",
       "    </tr>\n",
       "    <tr>\n",
       "      <th>4</th>\n",
       "      <td>Waiting to Exhale (1995)</td>\n",
       "      <td>Comedy|Drama|Romance</td>\n",
       "    </tr>\n",
       "    <tr>\n",
       "      <th>5</th>\n",
       "      <td>Father of the Bride Part II (1995)</td>\n",
       "      <td>Comedy</td>\n",
       "    </tr>\n",
       "    <tr>\n",
       "      <th>...</th>\n",
       "      <td>...</td>\n",
       "      <td>...</td>\n",
       "    </tr>\n",
       "    <tr>\n",
       "      <th>193581</th>\n",
       "      <td>Black Butler: Book of the Atlantic (2017)</td>\n",
       "      <td>Action|Animation|Comedy|Fantasy</td>\n",
       "    </tr>\n",
       "    <tr>\n",
       "      <th>193583</th>\n",
       "      <td>No Game No Life: Zero (2017)</td>\n",
       "      <td>Animation|Comedy|Fantasy</td>\n",
       "    </tr>\n",
       "    <tr>\n",
       "      <th>193585</th>\n",
       "      <td>Flint (2017)</td>\n",
       "      <td>Drama</td>\n",
       "    </tr>\n",
       "    <tr>\n",
       "      <th>193587</th>\n",
       "      <td>Bungo Stray Dogs: Dead Apple (2018)</td>\n",
       "      <td>Action|Animation</td>\n",
       "    </tr>\n",
       "    <tr>\n",
       "      <th>193609</th>\n",
       "      <td>Andrew Dice Clay: Dice Rules (1991)</td>\n",
       "      <td>Comedy</td>\n",
       "    </tr>\n",
       "  </tbody>\n",
       "</table>\n",
       "<p>9724 rows × 2 columns</p>\n",
       "</div>"
      ]
     },
     "execution_count": 8,
     "metadata": {},
     "output_type": "execute_result"
    }
   ],
   "execution_count": 8
  },
  {
   "cell_type": "code",
   "id": "aa34a3ee",
   "metadata": {
    "ExecuteTime": {
     "end_time": "2025-02-03T20:35:51.226202Z",
     "start_time": "2025-02-03T20:35:51.201003Z"
    }
   },
   "source": [
    "# now do this for links\n",
    "links = pd.read_csv('./ml-latest-small/links.csv', header=0)\n",
    "links.set_index(\"movieId\").reindex(reviewmatrix.columns)"
   ],
   "outputs": [
    {
     "data": {
      "text/plain": [
       "          imdbId    tmdbId\n",
       "movieId                   \n",
       "1         114709     862.0\n",
       "2         113497    8844.0\n",
       "3         113228   15602.0\n",
       "4         114885   31357.0\n",
       "5         113041   11862.0\n",
       "...          ...       ...\n",
       "193581   5476944  432131.0\n",
       "193583   5914996  445030.0\n",
       "193585   6397426  479308.0\n",
       "193587   8391976  483455.0\n",
       "193609    101726   37891.0\n",
       "\n",
       "[9724 rows x 2 columns]"
      ],
      "text/html": [
       "<div>\n",
       "<style scoped>\n",
       "    .dataframe tbody tr th:only-of-type {\n",
       "        vertical-align: middle;\n",
       "    }\n",
       "\n",
       "    .dataframe tbody tr th {\n",
       "        vertical-align: top;\n",
       "    }\n",
       "\n",
       "    .dataframe thead th {\n",
       "        text-align: right;\n",
       "    }\n",
       "</style>\n",
       "<table border=\"1\" class=\"dataframe\">\n",
       "  <thead>\n",
       "    <tr style=\"text-align: right;\">\n",
       "      <th></th>\n",
       "      <th>imdbId</th>\n",
       "      <th>tmdbId</th>\n",
       "    </tr>\n",
       "    <tr>\n",
       "      <th>movieId</th>\n",
       "      <th></th>\n",
       "      <th></th>\n",
       "    </tr>\n",
       "  </thead>\n",
       "  <tbody>\n",
       "    <tr>\n",
       "      <th>1</th>\n",
       "      <td>114709</td>\n",
       "      <td>862.0</td>\n",
       "    </tr>\n",
       "    <tr>\n",
       "      <th>2</th>\n",
       "      <td>113497</td>\n",
       "      <td>8844.0</td>\n",
       "    </tr>\n",
       "    <tr>\n",
       "      <th>3</th>\n",
       "      <td>113228</td>\n",
       "      <td>15602.0</td>\n",
       "    </tr>\n",
       "    <tr>\n",
       "      <th>4</th>\n",
       "      <td>114885</td>\n",
       "      <td>31357.0</td>\n",
       "    </tr>\n",
       "    <tr>\n",
       "      <th>5</th>\n",
       "      <td>113041</td>\n",
       "      <td>11862.0</td>\n",
       "    </tr>\n",
       "    <tr>\n",
       "      <th>...</th>\n",
       "      <td>...</td>\n",
       "      <td>...</td>\n",
       "    </tr>\n",
       "    <tr>\n",
       "      <th>193581</th>\n",
       "      <td>5476944</td>\n",
       "      <td>432131.0</td>\n",
       "    </tr>\n",
       "    <tr>\n",
       "      <th>193583</th>\n",
       "      <td>5914996</td>\n",
       "      <td>445030.0</td>\n",
       "    </tr>\n",
       "    <tr>\n",
       "      <th>193585</th>\n",
       "      <td>6397426</td>\n",
       "      <td>479308.0</td>\n",
       "    </tr>\n",
       "    <tr>\n",
       "      <th>193587</th>\n",
       "      <td>8391976</td>\n",
       "      <td>483455.0</td>\n",
       "    </tr>\n",
       "    <tr>\n",
       "      <th>193609</th>\n",
       "      <td>101726</td>\n",
       "      <td>37891.0</td>\n",
       "    </tr>\n",
       "  </tbody>\n",
       "</table>\n",
       "<p>9724 rows × 2 columns</p>\n",
       "</div>"
      ]
     },
     "execution_count": 9,
     "metadata": {},
     "output_type": "execute_result"
    }
   ],
   "execution_count": 9
  },
  {
   "cell_type": "markdown",
   "id": "2c7e6792",
   "metadata": {},
   "source": [
    "## Create vector database table\n",
    "\n",
    "Let's create a table with the following fields:\n",
    "\n",
    "1. an integer movie id field\n",
    "2. a vector field of embeddings\n",
    "3. a string field of genres\n",
    "4. a string field for the movie title\n",
    "5. an integer field for the imdb_id\n",
    "\n",
    "First, we'll create a pydantic model named `Content` for these fields. For the vector field, use the `lancedb.pydantic.vector` as a shorthand for the field type. Note that you'll need to pass in the number of dimensions."
   ]
  },
  {
   "cell_type": "code",
   "id": "1ba2d709",
   "metadata": {
    "ExecuteTime": {
     "end_time": "2025-02-03T20:35:52.995901Z",
     "start_time": "2025-02-03T20:35:52.988797Z"
    }
   },
   "source": [
    "from lancedb.pydantic import vector, LanceModel\n",
    "\n",
    "class Content(LanceModel):\n",
    "    movie_id: int\n",
    "    vector: vector(embeddings.shape[1])\n",
    "    genres: str\n",
    "    title: str\n",
    "    imdb_id: int\n",
    "        \n",
    "    @property\n",
    "    def imdb_url(self) -> str:\n",
    "        return f\"https://www.imdb.com/title/tt{self.imdb_id}\""
   ],
   "outputs": [],
   "execution_count": 10
  },
  {
   "cell_type": "markdown",
   "id": "77ba18e0",
   "metadata": {},
   "source": [
    "Let's prepare a list of python dicts with all of the data"
   ]
  },
  {
   "cell_type": "code",
   "id": "f4880292",
   "metadata": {
    "ExecuteTime": {
     "end_time": "2025-02-03T20:35:57.522231Z",
     "start_time": "2025-02-03T20:35:57.498787Z"
    }
   },
   "source": [
    "values = list(zip(*[reviewmatrix.columns,\n",
    "                    embeddings, \n",
    "                    movies[\"genres\"], \n",
    "                    movies[\"title\"], \n",
    "                    links[\"imdbId\"], \n",
    "                    links[\"tmdbId\"]]))\n",
    "keys = Content.__annotations__.keys()\n",
    "data = [dict(zip(keys, v)) for v in values]\n",
    "\n",
    "data[0]"
   ],
   "outputs": [
    {
     "data": {
      "text/plain": [
       "{'movie_id': 1,\n",
       " 'vector': array([-0.0704499 ,  0.02759119, -0.07844388, ..., -0.00101062,\n",
       "        -0.00101062,  0.00389649]),\n",
       " 'genres': 'Adventure|Animation|Children|Comedy|Fantasy',\n",
       " 'title': 'Toy Story (1995)',\n",
       " 'imdb_id': 114709}"
      ]
     },
     "execution_count": 11,
     "metadata": {},
     "output_type": "execute_result"
    }
   ],
   "execution_count": 11
  },
  {
   "cell_type": "markdown",
   "id": "7f9ce38d",
   "metadata": {},
   "source": [
    "Now please connect to the local database at ~/.lancedb\n",
    "and create the LanceDB table named \"movielens_small\".\n",
    "\n",
    "**HINT** you've seen this in a previous exercise"
   ]
  },
  {
   "cell_type": "code",
   "id": "fff19b71",
   "metadata": {
    "ExecuteTime": {
     "end_time": "2025-02-03T20:37:33.472851Z",
     "start_time": "2025-02-03T20:37:21.509762Z"
    }
   },
   "source": [
    "import pyarrow as pa\n",
    "table_name = \"movielens_small\"\n",
    "data = pa.Table.from_pylist(data, schema=Content.to_arrow_schema())\n",
    "\n",
    "db = lancedb.connect(\"file:///~/.lancedb\")"
   ],
   "outputs": [],
   "execution_count": 13
  },
  {
   "metadata": {
    "ExecuteTime": {
     "end_time": "2025-02-03T20:38:26.217932Z",
     "start_time": "2025-02-03T20:38:23.750305Z"
    }
   },
   "cell_type": "code",
   "source": [
    "db.drop_table(table_name)\n",
    "table = db.create_table(table_name, data=data)"
   ],
   "id": "c1f5be7dcfbead98",
   "outputs": [],
   "execution_count": 16
  },
  {
   "metadata": {
    "ExecuteTime": {
     "end_time": "2025-02-03T20:38:30.787681Z",
     "start_time": "2025-02-03T20:38:30.782921Z"
    }
   },
   "cell_type": "code",
   "source": "",
   "id": "b9f485b86b7890e3",
   "outputs": [],
   "execution_count": null
  },
  {
   "cell_type": "markdown",
   "id": "2d87a3fe",
   "metadata": {},
   "source": [
    "## Generating recommendations\n",
    "\n",
    "Finally we're ready to generate recommendations based on content vector similarity.\n",
    "\n",
    "For this exercise please fill in the rest of the function to generate recommendations\n",
    "\n",
    "**HINT** It's easier if you use the pydantic integration to convert results"
   ]
  },
  {
   "cell_type": "code",
   "id": "117e7b5e",
   "metadata": {
    "ExecuteTime": {
     "end_time": "2025-02-03T20:38:32.083380Z",
     "start_time": "2025-02-03T20:38:32.075563Z"
    }
   },
   "source": [
    "def get_recommendations(title: str) -> list[(int, str, str)]:\n",
    "    # First we retrieve the vector for the input title\n",
    "    query_vector = (table.to_lance()\n",
    "                    .to_table(filter=f\"title='{title}'\")[\"vector\"].to_numpy()[0])\n",
    "    # Please write the code to search for the 5 most similar titles\n",
    "    results=table.search(query_vector).limit(5).to_pydantic(Content)\n",
    "    # For each result, return the movie_id, title, and imdb_url\n",
    "    return [(c.movie_id, c.title, c.imdb_url) for c in results]"
   ],
   "outputs": [],
   "execution_count": 17
  },
  {
   "cell_type": "markdown",
   "id": "01411b02",
   "metadata": {},
   "source": [
    "If a user watched the movie titled \"Moana (2016)\", what should we recommend to the user?"
   ]
  },
  {
   "cell_type": "code",
   "id": "ae52400e",
   "metadata": {
    "ExecuteTime": {
     "end_time": "2025-02-03T20:39:26.009548Z",
     "start_time": "2025-02-03T20:39:23.593467Z"
    }
   },
   "source": "get_recommendations(\"Moana (2016)\")",
   "outputs": [
    {
     "data": {
      "text/plain": [
       "[(166461, 'Moana (2016)', 'https://www.imdb.com/title/tt6023444'),\n",
       " (2008,\n",
       "  'This World, Then the Fireworks (1997)',\n",
       "  'https://www.imdb.com/title/tt119910'),\n",
       " (5256, 'Stolen Summer (2002)', 'https://www.imdb.com/title/tt76729'),\n",
       " (1427, 'Turbulence (1997)', 'https://www.imdb.com/title/tt120550'),\n",
       " (941, 'Mark of Zorro, The (1940)', 'https://www.imdb.com/title/tt32762')]"
      ]
     },
     "execution_count": 18,
     "metadata": {},
     "output_type": "execute_result"
    }
   ],
   "execution_count": 18
  },
  {
   "cell_type": "markdown",
   "id": "74bd1170",
   "metadata": {},
   "source": [
    "What about \"Rogue One: A Star Wars Story (2016)\"?"
   ]
  },
  {
   "cell_type": "code",
   "execution_count": null,
   "id": "f0a31dde",
   "metadata": {},
   "outputs": [],
   "source": [
    "get_recommendations(\"Rogue One: A Star Wars Story (2016)\")"
   ]
  },
  {
   "cell_type": "markdown",
   "id": "c3288665",
   "metadata": {},
   "source": [
    "Do these look reasonable? How would you improve this recommender system?"
   ]
  },
  {
   "cell_type": "code",
   "execution_count": null,
   "id": "6ce01894",
   "metadata": {},
   "outputs": [],
   "source": []
  }
 ],
 "metadata": {
  "kernelspec": {
   "display_name": "Python 3 (ipykernel)",
   "language": "python",
   "name": "python3"
  },
  "language_info": {
   "codemirror_mode": {
    "name": "ipython",
    "version": 3
   },
   "file_extension": ".py",
   "mimetype": "text/x-python",
   "name": "python",
   "nbconvert_exporter": "python",
   "pygments_lexer": "ipython3",
   "version": "3.10.13"
  }
 },
 "nbformat": 4,
 "nbformat_minor": 5
}
