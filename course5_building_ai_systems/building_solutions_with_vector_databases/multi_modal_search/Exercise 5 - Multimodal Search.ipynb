{
 "cells": [
  {
   "cell_type": "markdown",
   "id": "e8c17377",
   "metadata": {},
   "source": [
    "# Multimodal Search\n",
    "\n",
    "In this final exercise, we will learn how to use vector databases to search through images using natural language. \n",
    "\n",
    "We will be searching through an open source image dataset using an open source model called CLIP.\n",
    "This model is able to encode both images and text into the same embedding space, allowing us to retrieve images that are similar to a user question."
   ]
  },
  {
   "cell_type": "code",
   "id": "657c177d",
   "metadata": {
    "ExecuteTime": {
     "end_time": "2025-02-03T21:07:24.751912Z",
     "start_time": "2025-02-03T21:07:20.513273Z"
    }
   },
   "source": [
    "# pip install --quiet datasets gradio lancedb pandas transformers [This has been preinstalled for you]\n",
    "!pip install --quiet gradio"
   ],
   "outputs": [
    {
     "name": "stdout",
     "output_type": "stream",
     "text": [
      "\r\n",
      "\u001B[1m[\u001B[0m\u001B[34;49mnotice\u001B[0m\u001B[1;39;49m]\u001B[0m\u001B[39;49m A new release of pip is available: \u001B[0m\u001B[31;49m23.2.1\u001B[0m\u001B[39;49m -> \u001B[0m\u001B[32;49m25.0\u001B[0m\r\n",
      "\u001B[1m[\u001B[0m\u001B[34;49mnotice\u001B[0m\u001B[1;39;49m]\u001B[0m\u001B[39;49m To update, run: \u001B[0m\u001B[32;49mpip install --upgrade pip\u001B[0m\r\n"
     ]
    }
   ],
   "execution_count": 1
  },
  {
   "metadata": {
    "ExecuteTime": {
     "end_time": "2025-02-03T21:09:52.546912Z",
     "start_time": "2025-02-03T21:09:51.077072Z"
    }
   },
   "cell_type": "code",
   "source": "!pip freeze | grep lancedb",
   "id": "5891aca7b823d28a",
   "outputs": [
    {
     "name": "stdout",
     "output_type": "stream",
     "text": [
      "lancedb==0.2.2\r\n"
     ]
    }
   ],
   "execution_count": 4
  },
  {
   "cell_type": "markdown",
   "id": "ebfec2b3",
   "metadata": {},
   "source": [
    "## Setup CLIP model\n",
    "\n",
    "First, let's prepare the [CLIP](https://huggingface.co/docs/transformers/model_doc/clip) model to encode the images.\n",
    "We want to setup two things:\n",
    "1. a model to encode the image\n",
    "2. a processor to prepare the image to be encoded\n",
    "\n",
    "Fill in the code below to initialize a pre-trained model and processor."
   ]
  },
  {
   "metadata": {},
   "cell_type": "code",
   "outputs": [],
   "execution_count": null,
   "source": "device = \"cuda\" if torch.cuda.is_available() else \"cpu\"",
   "id": "e651864c701ad1d5"
  },
  {
   "cell_type": "code",
   "id": "f3d25d2d",
   "metadata": {
    "ExecuteTime": {
     "end_time": "2025-02-03T21:09:58.897045Z",
     "start_time": "2025-02-03T21:09:56.812799Z"
    }
   },
   "source": [
    "from transformers import CLIPModel, CLIPProcessor\n",
    "import torch\n",
    "\n",
    "MODEL_ID = \"openai/clip-vit-base-patch32\"\n",
    "\n",
    "\n",
    "\n",
    "model = CLIPModel.from_pretrained(MODEL_ID).to(device)\n",
    "processor = CLIPProcessor.from_pretrained(MODEL_ID)"
   ],
   "outputs": [],
   "execution_count": 5
  },
  {
   "cell_type": "markdown",
   "id": "6784f1db",
   "metadata": {},
   "source": [
    "## Setup data model\n",
    "\n",
    "The dataset itself has an image field and an integer label.\n",
    "We'll also need an embedding vector (CLIP produces 512D vectors) field.\n",
    "\n",
    "For this problem, please a field named \"vector\" to the Image class below\n",
    "that is a 512D vector.\n",
    "\n",
    "The image that comes out of the raw dataset is a PIL image. So we'll add\n",
    "some conversion code between PIL and bytes to make it easier for serde."
   ]
  },
  {
   "cell_type": "code",
   "id": "027bd8e2",
   "metadata": {
    "ExecuteTime": {
     "end_time": "2025-02-03T21:11:31.971576Z",
     "start_time": "2025-02-03T21:11:31.960766Z"
    }
   },
   "source": [
    "import io\n",
    "\n",
    "from lancedb.pydantic import LanceModel, vector\n",
    "import PIL\n",
    "\n",
    "class Image(LanceModel):\n",
    "    image: bytes\n",
    "    label: int\n",
    "    vector: vector(512)\n",
    "        \n",
    "    def to_pil(self):\n",
    "        return PIL.Image.open(io.BytesIO(self.image))\n",
    "    \n",
    "    @classmethod\n",
    "    def pil_to_bytes(cls, img) -> bytes:\n",
    "        buf = io.BytesIO()\n",
    "        img.save(buf, format=\"PNG\")\n",
    "        return buf.getvalue()\n",
    "\n",
    "import pyarrow as pa\n",
    "schema = pa.schema([\n",
    "    pa.field('image', pa.binary()),\n",
    "    pa.field('label', pa.int32()),\n",
    "    pa.field('vector', pa.list_(pa.float32(), 512))\n",
    "])"
   ],
   "outputs": [],
   "execution_count": 9
  },
  {
   "cell_type": "markdown",
   "id": "44277d19",
   "metadata": {},
   "source": [
    "## Image processing function\n",
    "\n",
    "Next we will implement a function to process batches of data from the dataset.\n",
    "We will be using the `zh-plus/tiny-imagenet` dataset from huggingface datasets.\n",
    "This dataset has an `image` and a `label` column.\n",
    "\n",
    "For this problem, please fill in the code to extract the image embeddings from\n",
    "the image using the CLIP model."
   ]
  },
  {
   "cell_type": "code",
   "id": "5c040600",
   "metadata": {
    "ExecuteTime": {
     "end_time": "2025-02-03T21:11:34.276576Z",
     "start_time": "2025-02-03T21:11:34.257216Z"
    }
   },
   "source": [
    "def process_image(row):\n",
    "    # Extract the actual image bytes from the dictionary\n",
    "    image_bytes = row[\"image\"][\"bytes\"]  # Access the 'bytes' key inside the dictionary\n",
    "\n",
    "    # Convert bytes to PIL image\n",
    "    pil_image = PIL.Image.open(io.BytesIO(image_bytes))\n",
    "    \n",
    "    # Process the image using CLIPProcessor\n",
    "    image_tensor = processor(text=None, images=pil_image, return_tensors=\"pt\")[\"pixel_values\"].to(device)\n",
    "    # create the image embedding from the processed image and the model\n",
    "    img_emb = model.get_image_features(image_tensor)\n",
    "    \n",
    "    # Flatten the vector and ensure it's a list\n",
    "    row[\"vector\"] = img_emb.flatten().tolist()  # Flatten and convert to a list\n",
    "    row[\"image\"] = Image.pil_to_bytes(pil_image)  # Convert back to bytes\n",
    "    return row"
   ],
   "outputs": [],
   "execution_count": 10
  },
  {
   "cell_type": "markdown",
   "id": "839ed9f2",
   "metadata": {},
   "source": [
    "## Table creation\n",
    "\n",
    "Please create a LanceDB table called `image_search` to store the image, label, and vector."
   ]
  },
  {
   "cell_type": "code",
   "id": "e64a6057",
   "metadata": {
    "ExecuteTime": {
     "end_time": "2025-02-03T21:12:22.453567Z",
     "start_time": "2025-02-03T21:12:22.390621Z"
    }
   },
   "source": [
    "import lancedb\n",
    "TABLE_NAME = \"image_search\"\n",
    "\n",
    "db = lancedb.connect(\"file:////tmp/crap/lancedb\")\n",
    "# db.drop_table(TABLE_NAME)\n",
    "table = db.create_table(TABLE_NAME, schema=Image.to_arrow_schema())\n"
   ],
   "outputs": [
    {
     "ename": "OSError",
     "evalue": "Dataset already exists: /home/tumaaa/work/repos/udacity_nano_degree_generative_ai/course5_building_ai_systems/building_solutions_with_vector_databases/multi_modal_search/file:/tmp/crap/lancedb/image_search.lance",
     "output_type": "error",
     "traceback": [
      "\u001B[0;31m---------------------------------------------------------------------------\u001B[0m",
      "\u001B[0;31mOSError\u001B[0m                                   Traceback (most recent call last)",
      "Cell \u001B[0;32mIn[14], line 6\u001B[0m\n\u001B[1;32m      4\u001B[0m db \u001B[38;5;241m=\u001B[39m lancedb\u001B[38;5;241m.\u001B[39mconnect(\u001B[38;5;124m\"\u001B[39m\u001B[38;5;124mfile:////tmp/crap/lancedb\u001B[39m\u001B[38;5;124m\"\u001B[39m)\n\u001B[1;32m      5\u001B[0m \u001B[38;5;66;03m# db.drop_table(TABLE_NAME)\u001B[39;00m\n\u001B[0;32m----> 6\u001B[0m table \u001B[38;5;241m=\u001B[39m \u001B[43mdb\u001B[49m\u001B[38;5;241;43m.\u001B[39;49m\u001B[43mcreate_table\u001B[49m\u001B[43m(\u001B[49m\u001B[43mTABLE_NAME\u001B[49m\u001B[43m,\u001B[49m\u001B[43m \u001B[49m\u001B[43mschema\u001B[49m\u001B[38;5;241;43m=\u001B[39;49m\u001B[43mImage\u001B[49m\u001B[38;5;241;43m.\u001B[39;49m\u001B[43mto_arrow_schema\u001B[49m\u001B[43m(\u001B[49m\u001B[43m)\u001B[49m\u001B[43m)\u001B[49m\n",
      "File \u001B[0;32m~/work/repos/udacity_nano_degree_generative_ai/.venv/lib/python3.10/site-packages/lancedb/db.py:302\u001B[0m, in \u001B[0;36mLanceDBConnection.create_table\u001B[0;34m(self, name, data, schema, mode, on_bad_vectors, fill_value)\u001B[0m\n\u001B[1;32m    299\u001B[0m \u001B[38;5;28;01mif\u001B[39;00m mode\u001B[38;5;241m.\u001B[39mlower() \u001B[38;5;129;01mnot\u001B[39;00m \u001B[38;5;129;01min\u001B[39;00m [\u001B[38;5;124m\"\u001B[39m\u001B[38;5;124mcreate\u001B[39m\u001B[38;5;124m\"\u001B[39m, \u001B[38;5;124m\"\u001B[39m\u001B[38;5;124moverwrite\u001B[39m\u001B[38;5;124m\"\u001B[39m]:\n\u001B[1;32m    300\u001B[0m     \u001B[38;5;28;01mraise\u001B[39;00m \u001B[38;5;167;01mValueError\u001B[39;00m(\u001B[38;5;124m\"\u001B[39m\u001B[38;5;124mmode must be either \u001B[39m\u001B[38;5;124m'\u001B[39m\u001B[38;5;124mcreate\u001B[39m\u001B[38;5;124m'\u001B[39m\u001B[38;5;124m or \u001B[39m\u001B[38;5;124m'\u001B[39m\u001B[38;5;124moverwrite\u001B[39m\u001B[38;5;124m'\u001B[39m\u001B[38;5;124m\"\u001B[39m)\n\u001B[0;32m--> 302\u001B[0m tbl \u001B[38;5;241m=\u001B[39m \u001B[43mLanceTable\u001B[49m\u001B[38;5;241;43m.\u001B[39;49m\u001B[43mcreate\u001B[49m\u001B[43m(\u001B[49m\n\u001B[1;32m    303\u001B[0m \u001B[43m    \u001B[49m\u001B[38;5;28;43mself\u001B[39;49m\u001B[43m,\u001B[49m\n\u001B[1;32m    304\u001B[0m \u001B[43m    \u001B[49m\u001B[43mname\u001B[49m\u001B[43m,\u001B[49m\n\u001B[1;32m    305\u001B[0m \u001B[43m    \u001B[49m\u001B[43mdata\u001B[49m\u001B[43m,\u001B[49m\n\u001B[1;32m    306\u001B[0m \u001B[43m    \u001B[49m\u001B[43mschema\u001B[49m\u001B[43m,\u001B[49m\n\u001B[1;32m    307\u001B[0m \u001B[43m    \u001B[49m\u001B[43mmode\u001B[49m\u001B[38;5;241;43m=\u001B[39;49m\u001B[43mmode\u001B[49m\u001B[43m,\u001B[49m\n\u001B[1;32m    308\u001B[0m \u001B[43m    \u001B[49m\u001B[43mon_bad_vectors\u001B[49m\u001B[38;5;241;43m=\u001B[39;49m\u001B[43mon_bad_vectors\u001B[49m\u001B[43m,\u001B[49m\n\u001B[1;32m    309\u001B[0m \u001B[43m    \u001B[49m\u001B[43mfill_value\u001B[49m\u001B[38;5;241;43m=\u001B[39;49m\u001B[43mfill_value\u001B[49m\u001B[43m,\u001B[49m\n\u001B[1;32m    310\u001B[0m \u001B[43m\u001B[49m\u001B[43m)\u001B[49m\n\u001B[1;32m    311\u001B[0m \u001B[38;5;28;01mreturn\u001B[39;00m tbl\n",
      "File \u001B[0;32m~/work/repos/udacity_nano_degree_generative_ai/.venv/lib/python3.10/site-packages/lancedb/table.py:664\u001B[0m, in \u001B[0;36mLanceTable.create\u001B[0;34m(cls, db, name, data, schema, mode, on_bad_vectors, fill_value)\u001B[0m\n\u001B[1;32m    662\u001B[0m         \u001B[38;5;28;01mraise\u001B[39;00m \u001B[38;5;167;01mValueError\u001B[39;00m(\u001B[38;5;124m\"\u001B[39m\u001B[38;5;124mEither data or schema must be provided\u001B[39m\u001B[38;5;124m\"\u001B[39m)\n\u001B[1;32m    663\u001B[0m     data \u001B[38;5;241m=\u001B[39m pa\u001B[38;5;241m.\u001B[39mTable\u001B[38;5;241m.\u001B[39mfrom_pylist([], schema\u001B[38;5;241m=\u001B[39mschema)\n\u001B[0;32m--> 664\u001B[0m \u001B[43mlance\u001B[49m\u001B[38;5;241;43m.\u001B[39;49m\u001B[43mwrite_dataset\u001B[49m\u001B[43m(\u001B[49m\u001B[43mdata\u001B[49m\u001B[43m,\u001B[49m\u001B[43m \u001B[49m\u001B[43mtbl\u001B[49m\u001B[38;5;241;43m.\u001B[39;49m\u001B[43m_dataset_uri\u001B[49m\u001B[43m,\u001B[49m\u001B[43m \u001B[49m\u001B[43mschema\u001B[49m\u001B[38;5;241;43m=\u001B[39;49m\u001B[43mschema\u001B[49m\u001B[43m,\u001B[49m\u001B[43m \u001B[49m\u001B[43mmode\u001B[49m\u001B[38;5;241;43m=\u001B[39;49m\u001B[43mmode\u001B[49m\u001B[43m)\u001B[49m\n\u001B[1;32m    665\u001B[0m \u001B[38;5;28;01mreturn\u001B[39;00m LanceTable(db, name)\n",
      "File \u001B[0;32m~/work/repos/udacity_nano_degree_generative_ai/.venv/lib/python3.10/site-packages/lance/dataset.py:1002\u001B[0m, in \u001B[0;36mwrite_dataset\u001B[0;34m(data_obj, uri, schema, mode, max_rows_per_file, max_rows_per_group, commit_lock)\u001B[0m\n\u001B[1;32m    999\u001B[0m     params[\u001B[38;5;124m\"\u001B[39m\u001B[38;5;124mcommit_handler\u001B[39m\u001B[38;5;124m\"\u001B[39m] \u001B[38;5;241m=\u001B[39m commit_lock\n\u001B[1;32m   1001\u001B[0m uri \u001B[38;5;241m=\u001B[39m os\u001B[38;5;241m.\u001B[39mfspath(uri) \u001B[38;5;28;01mif\u001B[39;00m \u001B[38;5;28misinstance\u001B[39m(uri, Path) \u001B[38;5;28;01melse\u001B[39;00m uri\n\u001B[0;32m-> 1002\u001B[0m \u001B[43m_write_dataset\u001B[49m\u001B[43m(\u001B[49m\u001B[43mreader\u001B[49m\u001B[43m,\u001B[49m\u001B[43m \u001B[49m\u001B[43muri\u001B[49m\u001B[43m,\u001B[49m\u001B[43m \u001B[49m\u001B[43mparams\u001B[49m\u001B[43m)\u001B[49m\n\u001B[1;32m   1003\u001B[0m \u001B[38;5;28;01mreturn\u001B[39;00m LanceDataset(uri)\n",
      "\u001B[0;31mOSError\u001B[0m: Dataset already exists: /home/tumaaa/work/repos/udacity_nano_degree_generative_ai/course5_building_ai_systems/building_solutions_with_vector_databases/multi_modal_search/file:/tmp/crap/lancedb/image_search.lance"
     ]
    }
   ],
   "execution_count": 14
  },
  {
   "cell_type": "markdown",
   "id": "e0c0cc14",
   "metadata": {},
   "source": [
    "## Adding data\n",
    "\n",
    "Now we're ready to process the images and generate embeddings.\n",
    "Please write a function called `datagen` that calls `process_image` on each image in the validation set (10K images) and return a list of Image instances.\n",
    "\n",
    "**HINT**\n",
    "1. You may find it faster to use the [dataset.map](https://huggingface.co/docs/datasets/process#map) function.\n",
    "2. You'll want to store the `image_bytes` field that is returned by `process_image`."
   ]
  },
  {
   "cell_type": "code",
   "id": "4f40c825",
   "metadata": {
    "ExecuteTime": {
     "end_time": "2025-02-03T21:13:42.361085Z",
     "start_time": "2025-02-03T21:13:42.350421Z"
    }
   },
   "source": [
    "import pandas as pd\n",
    "from tqdm import tqdm\n",
    "\n",
    "# Define a wrapper for tqdm progress tracking\n",
    "# A progress bar is required because the datagen() function processes 10,000 images, which takes approximately 50–60 minutes.\n",
    "def process_image_with_progress(row):\n",
    "    global pbar  # Use a global progress bar\n",
    "    result = process_image(row)\n",
    "    pbar.update(1)  # Update progress after processing each row\n",
    "    return result\n",
    "\n",
    "# Load and Process Data from Parquet\n",
    "def datagen() -> list[Image]:\n",
    "    dataset = pd.read_parquet(\"zh-plus-tiny-imagenet_valid_split.parquet\")\n",
    "\n",
    "    global pbar\n",
    "    \n",
    "    # Process rows using Pandas apply\n",
    "    with tqdm(total=len(dataset), desc=\"Processing images\") as pbar:\n",
    "        processed_df = dataset.apply(process_image_with_progress, axis=1)\n",
    "\n",
    "    # Convert rows into Image objects\n",
    "    return [\n",
    "        Image(image=row[\"image\"], label=row[\"label\"], vector=row[\"vector\"])\n",
    "        for _, row in processed_df.iterrows()\n",
    "    ]\n"
   ],
   "outputs": [],
   "execution_count": 17
  },
  {
   "cell_type": "markdown",
   "id": "2f2fc633",
   "metadata": {},
   "source": [
    "Now call the function you just wrote and add the generated instances to the LanceDB table.  The following process can take up to 60 minutes to complete."
   ]
  },
  {
   "cell_type": "code",
   "id": "4b8a5c2e",
   "metadata": {
    "scrolled": true,
    "jupyter": {
     "is_executing": true
    },
    "ExecuteTime": {
     "start_time": "2025-02-03T21:13:50.790608Z"
    }
   },
   "source": [
    "data = datagen()\n"
   ],
   "outputs": [
    {
     "name": "stderr",
     "output_type": "stream",
     "text": [
      "Processing images:  36%|███▋      | 3648/10000 [04:17<09:26, 11.21it/s]"
     ]
    }
   ],
   "execution_count": null
  },
  {
   "cell_type": "code",
   "execution_count": null,
   "id": "46a0dc93",
   "metadata": {},
   "outputs": [],
   "source": [
    "table.add(data)"
   ]
  },
  {
   "cell_type": "markdown",
   "id": "bfb70b75",
   "metadata": {},
   "source": [
    "## Encoding user queries\n",
    "\n",
    "We have image embeddings, but how do we generate the embeddings for the user query?\n",
    "Furthermore, how can we possibly have the same features between the image embeddings\n",
    "and text embeddings. This is where the power of CLIP comes in.\n",
    "\n",
    "Please write a function to turn user query text into an embedding\n",
    "in the same latent space as the images. \n",
    "\n",
    "**HINT** \n",
    "You can refer to the [CLIPModel documention](https://huggingface.co/docs/transformers/model_doc/clip#transformers.CLIPModel)"
   ]
  },
  {
   "cell_type": "code",
   "execution_count": null,
   "id": "460a8aba",
   "metadata": {},
   "outputs": [],
   "source": [
    "from transformers import CLIPTokenizerFast\n",
    "\n",
    "MODEL_ID = \"openai/clip-vit-base-patch32\"\n",
    "model = CLIPModel.from_pretrained(MODEL_ID).to(device)\n",
    "tokenizer = CLIPTokenizerFast.from_pretrained(MODEL_ID)\n",
    "\n",
    "def embed_func(query):\n",
    "    inputs = tokenizer([query], padding=True, return_tensors=\"pt\")\n",
    "    \n",
    "    # generate the text embeddings\n",
    "    text_features = model.get_text_features(**inputs)\n",
    "    \n",
    "    return text_features.detach().numpy()[0]"
   ]
  },
  {
   "cell_type": "markdown",
   "id": "9487085e",
   "metadata": {},
   "source": [
    "## Core search function\n",
    "\n",
    "Now let's write the core search function `find_images`, that takes a text query as input, and returns a list of PIL images that's most similar to the query."
   ]
  },
  {
   "cell_type": "code",
   "execution_count": null,
   "id": "4c712bcd",
   "metadata": {},
   "outputs": [],
   "source": [
    "def find_images(query):\n",
    "    \n",
    "    # Generate the embedding for the query\n",
    "    emb = embed_func(query)\n",
    "    \n",
    "    # Search for the closest 9 images\n",
    "    rs = table.search(emb).limit(9).to_pydantic(Image)\n",
    "    \n",
    "    # Return PIL instances for visualization\n",
    "    return [r.to_pil() for r in rs]"
   ]
  },
  {
   "cell_type": "code",
   "execution_count": null,
   "id": "f8ad4f0b",
   "metadata": {},
   "outputs": [],
   "source": [
    "find_images(\"fish\")[0]"
   ]
  },
  {
   "cell_type": "markdown",
   "id": "17a32409",
   "metadata": {},
   "source": [
    "## Create an App\n",
    "\n",
    "Let's use gradio to create a small app to search through the images.\n",
    "The code below has been completed for you:\n",
    "1. Created a [text input](https://www.gradio.app/docs/textbox) where the user can type in a query\n",
    "2. Created a \"Submit\" [button](https://www.gradio.app/docs/button) that finds similar images to the input query and display the resulting images\n",
    "3. A [Gallery component](https://www.gradio.app/docs/gallery) that displays the images"
   ]
  },
  {
   "cell_type": "code",
   "execution_count": null,
   "id": "944b115a",
   "metadata": {
    "scrolled": true
   },
   "outputs": [],
   "source": [
    "import gradio as gr\n",
    "\n",
    "\n",
    "with gr.Blocks() as demo:\n",
    "    with gr.Row():\n",
    "        vector_query = gr.Textbox(value=\"fish\", show_label=False)\n",
    "        b1 = gr.Button(\"Submit\")\n",
    "    with gr.Row():\n",
    "        gallery = gr.Gallery(\n",
    "                label=\"Found images\", show_label=False, elem_id=\"gallery\"\n",
    "            ).style(columns=[3], rows=[3], object_fit=\"contain\", height=\"auto\")   \n",
    "        \n",
    "    b1.click(find_images, inputs=vector_query, outputs=gallery)\n",
    "    \n",
    "demo.launch(server_name=\"0.0.0.0\", inline=False)"
   ]
  },
  {
   "cell_type": "markdown",
   "id": "44564feb-7f5d-4a31-9811-7e78072d54b2",
   "metadata": {},
   "source": [
    "To view the interface, click on the **Links** button at the bottom of the workspace window.  Then click on **gradio**.  This will open a new browser window with the interface."
   ]
  },
  {
   "cell_type": "markdown",
   "id": "2d97f9ac",
   "metadata": {},
   "source": [
    "Now try a bunch of different queries and see the results.\n",
    "By default CLIP search results leave a lot of room for improvement. More advanced applications in this space can improve these results in a number ways like retraining the model with your own dataset, your own labels, and using image and text vectors to train the index. The details are however beyond the scope of this lesson."
   ]
  },
  {
   "cell_type": "markdown",
   "id": "5f6354ce",
   "metadata": {},
   "source": [
    "## Summary\n",
    "\n",
    "Congrats! \n",
    "\n",
    "Through this exercise, you learned how to use CLIP to generate image and text embeddings. You've mastered how to use vector databases to enable searching through images using natural language. And you even created a simple app to show off your work. \n",
    "\n",
    "Great job!"
   ]
  },
  {
   "cell_type": "code",
   "execution_count": null,
   "id": "bb884abe",
   "metadata": {},
   "outputs": [],
   "source": []
  }
 ],
 "metadata": {
  "kernelspec": {
   "display_name": "Python 3 (ipykernel)",
   "language": "python",
   "name": "python3"
  },
  "language_info": {
   "codemirror_mode": {
    "name": "ipython",
    "version": 3
   },
   "file_extension": ".py",
   "mimetype": "text/x-python",
   "name": "python",
   "nbconvert_exporter": "python",
   "pygments_lexer": "ipython3",
   "version": "3.10.13"
  }
 },
 "nbformat": 4,
 "nbformat_minor": 5
}
