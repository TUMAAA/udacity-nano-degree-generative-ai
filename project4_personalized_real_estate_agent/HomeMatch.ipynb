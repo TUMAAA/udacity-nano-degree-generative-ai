{
 "cells": [
  {
   "cell_type": "markdown",
   "id": "a108af04",
   "metadata": {},
   "source": "This is a starter notebook for the project, you'll have to import the libraries you'll need, you can find a list of the ones available in this workspace in the requirements.txt file in this workspace."
  },
  {
   "metadata": {},
   "cell_type": "markdown",
   "source": [
    "Step 1: Setup\n",
    "Simply install the provided requirements.txt file by running the following command:\n",
    "```bash\n",
    "pip install -r requirements.txt\n",
    "```"
   ],
   "id": "f16b33edf9bea0a4"
  },
  {
   "metadata": {
    "ExecuteTime": {
     "end_time": "2025-02-04T22:26:04.576042Z",
     "start_time": "2025-02-04T22:26:04.554073Z"
    }
   },
   "cell_type": "code",
   "source": [
    "import os\n",
    "def set_open_ai_api():\n",
    "    os.environ[\"OPENAI_API_KEY\"] =\n",
    "    os.environ[\"OPENAI_API_BASE\"] = \"https://openai.vocareum.com/v1\""
   ],
   "id": "2594c02e7038335f",
   "outputs": [],
   "execution_count": 1
  },
  {
   "metadata": {},
   "cell_type": "markdown",
   "source": "Step 2 & 3: Generating Fake Listings Using LLM and Saving Them",
   "id": "b889282e87639eb1"
  },
  {
   "metadata": {},
   "cell_type": "code",
   "source": [
    "import openai\n",
    "import os\n",
    "\n",
    "from langchain.memory import ConversationBufferMemory\n",
    "from langchain.prompts import FewShotPromptTemplate, PromptTemplate\n",
    "\n",
    "from langchain.llms import OpenAI\n"
   ],
   "id": "6554fd4c",
   "outputs": [],
   "execution_count": null
  },
  {
   "metadata": {},
   "cell_type": "code",
   "source": [
    "from langchain.prompts import PromptTemplate\n",
    "\n",
    "listing_template = PromptTemplate(template=\n",
    "\"\"\"Neighborhood: {neighborhood}\n",
    "Price: ${price}\n",
    "Bedrooms: {bathrooms}\n",
    "Bathrooms: {bedrooms}\n",
    "House Size: {house_size} sqft\n",
    "\n",
    "Description: {description}\n",
    "\n",
    "Neighborhood Description: {neighborhood_description}\n",
    "\"\"\",\n",
    "                                  input_variables=[\"neighborhood\", \"price\", \"bedrooms\", \"bathrooms\",\n",
    "                                                   \"house_size\", \"description\", \"neighborhood_description\"]\n",
    "                                  )\n",
    "\n"
   ],
   "id": "f36c64508ba32437",
   "outputs": [],
   "execution_count": null
  },
  {
   "metadata": {},
   "cell_type": "code",
   "source": [
    "example_inputs = [\n",
    "    {\n",
    "        \"neighborhood\": \"Downtown Abbey\",\n",
    "        \"price\": 300000,\n",
    "        \"bedrooms\": 3,\n",
    "        \"bathrooms\": 2,\n",
    "        \"house_size\": 2000,\n",
    "        \"description\": \"A beautiful appartment with a large terrace overlooking the city's skyscrapers with 3 well-lit bedrooms and 2 bathrooms means you have enough room even for the occasional guest coming over to celebrate new year's with you :)\",\n",
    "        \"neighborhood_description\": \"A vibrant neighborhood which is very centrally located and specially well connected public transport connections means you are close to everything you need for your everyday life from groceries to cafes and restaurants and shopping.\"\n",
    "    },\n",
    "    {\n",
    "        \"neighborhood\": \"City Heights\",\n",
    "        \"price\": 500000,\n",
    "        \"bedrooms\": 4,\n",
    "        \"bathrooms\": 3,\n",
    "        \"house_size\": 3000,\n",
    "        \"description\": \"A cozy house with a wonderful garden overlooking the city from its hillside location\",\n",
    "        \"neighborhood_description\": \"Located in the city outskirts, this neighborhood is known for its great views and quiet streets with a very family-friendly atmosphere. In no time you are in the midst of a beautiful forest where you can calm all your senses and breath in the cool fresh air. Sightings of deer and other wildlife are common.\"\n",
    "    },\n",
    "    {\n",
    "        \"neighborhood\": \"Green Oaks\",\n",
    "        \"price\": 800000,\n",
    "        \"bedrooms\": 3,\n",
    "        \"bathrooms\": 2,\n",
    "        \"house_size\": 2000,\n",
    "        \"description\": \"A luxurious villa with a large garden and a swimming pool with a winter garden, 2 parking spots, and a garage as well as a large terrace and wonderful finishing.\",\n",
    "        \"neighborhood_description\": \"Green Oaks is a close-knit, environmentally-conscious community with access to organic grocery stores, community gardens, and bike paths. Take a stroll through the nearby Green Oaks Park or grab a cup of coffee at the cozy Green Bean Cafe. With easy access to public transportation and bike lanes, commuting is a breeze.\"\n",
    "    }\n",
    "]"
   ],
   "id": "8094d416ccc65557",
   "outputs": [],
   "execution_count": null
  },
  {
   "metadata": {},
   "cell_type": "code",
   "source": [
    "from langchain.prompts import FewShotPromptTemplate\n",
    "\n",
    "few_shot_template = FewShotPromptTemplate(\n",
    "    example_prompt=listing_template,\n",
    "    input_variables=[\"input\"],\n",
    "    examples=example_inputs,\n",
    "    suffix=\"Use the examples above to generate the following: {input}\",\n",
    ")\n",
    "\n",
    "listing_seperator = \"====\"\n",
    "instruction = \"Generate {} listings of houses. Be creative in regards neighborhood_description, and description and keep it confined to three sentences each. Keep the prices between $125000 $1500000, the number of bedrooms under 6 and the number of bathrooms under 3 and the total area under 3500sqft. VERY IMPORTANT: Output the results in the same format as the examples keeping even the order of properties the same as in the examples. Add the characters {} before each new listing\"\n",
    "num_listings = 30\n",
    "prompt_to_use = few_shot_template.format(input=instruction.format(num_listings, listing_seperator))\n",
    "\n"
   ],
   "id": "6a9ee6cdc321048f",
   "outputs": [],
   "execution_count": null
  },
  {
   "metadata": {},
   "cell_type": "code",
   "source": "print(prompt_to_use)",
   "id": "3cfb03ee3d0c4801",
   "outputs": [],
   "execution_count": null
  },
  {
   "metadata": {},
   "cell_type": "code",
   "source": [
    "from langchain.chat_models import ChatOpenAI\n",
    "\n",
    "model_name = \"gpt-3.5-turbo\"\n",
    "llm = OpenAI(model_name=model_name, temperature=0.0, max_tokens=3500)"
   ],
   "id": "86884cbacd1ab1e8",
   "outputs": [],
   "execution_count": null
  },
  {
   "metadata": {},
   "cell_type": "code",
   "source": "result = llm(prompt=prompt_to_use)",
   "id": "3cf33c8cf1d7b096",
   "outputs": [],
   "execution_count": null
  },
  {
   "metadata": {},
   "cell_type": "code",
   "source": "print(f\"LLM result:\\n{result}\")",
   "id": "b8c37949bcf87a8c",
   "outputs": [],
   "execution_count": null
  },
  {
   "metadata": {},
   "cell_type": "code",
   "source": [
    "import pandas as pd\n",
    "import locale\n",
    "import re\n",
    "\n",
    "# Set the locale to 'en_US.UTF-8' for parsing numbers with commas\n",
    "locale.setlocale(locale.LC_ALL, 'en_US.UTF-8')\n",
    "\n",
    "# Split the result into individual listings\n",
    "listings = result.split(listing_seperator)[1:]\n",
    "# print(f\"Here are the listings in a list:\\n{listings}\")\n",
    "\n",
    "# Define the columns based on input_variables\n",
    "columns = [\"neighborhood\", \"price\", \"bedrooms\", \"bathrooms\", \"house_size\", \"description\", \"neighborhood_description\"]\n",
    "\n",
    "# Parse the listings into a list of dictionaries\n",
    "data = []\n",
    "for listing in listings:\n",
    "    print(f\"Parsing listing: {listing[1:150]} ...\\n\")\n",
    "    try:\n",
    "        entry = {\n",
    "            \"neighborhood\": re.search(r\"^Neighborhood: (.+)$\", listing, re.MULTILINE).group(1),\n",
    "            \"price\": locale.atoi(re.search(r\"^Price: \\$(.+)$\", listing, re.MULTILINE).group(1)),\n",
    "            \"bedrooms\": int(re.search(r\"^Bedrooms: (.+)$\", listing, re.MULTILINE).group(1)),\n",
    "            \"bathrooms\": int(re.search(r\"^Bathrooms: (.+)$\", listing, re.MULTILINE).group(1)),\n",
    "            \"house_size\": locale.atoi(re.search(r\"^House Size: (.+) sqft$\", listing, re.MULTILINE).group(1)),\n",
    "            \"description\": re.search(r\"^Description: (.+)$\", listing, re.MULTILINE).group(1),\n",
    "            \"neighborhood_description\": re.search(r\"^Neighborhood Description: (.+)$\", listing, re.MULTILINE).group(1)\n",
    "        }\n",
    "\n",
    "        data.append(entry)\n",
    "    except Exception as e:\n",
    "        print(\"Error parsing listing\")\n",
    "        print(listing)\n",
    "        print(f\"Because of \\n{e}\")\n",
    "        print(\"\\n\")\n",
    "        continue\n",
    "\n",
    "# Create a DataFrame\n",
    "df = pd.DataFrame(data, columns=columns)"
   ],
   "id": "89351e21daeb7518",
   "outputs": [],
   "execution_count": null
  },
  {
   "metadata": {},
   "cell_type": "markdown",
   "source": "Let's view the dataframe and assert the generated input makes sense and finally save into a csv.",
   "id": "efc06af90829babd"
  },
  {
   "metadata": {},
   "cell_type": "code",
   "source": "df.head(n=num_listings)",
   "id": "5b2439da5ae0b789",
   "outputs": [],
   "execution_count": null
  },
  {
   "metadata": {},
   "cell_type": "code",
   "source": "df.to_csv(\"listings.csv\", index=False)\n",
   "id": "6514bf1ff2822262",
   "outputs": [],
   "execution_count": null
  },
  {
   "metadata": {},
   "cell_type": "markdown",
   "source": "Step 4: Building the User Preference Interface",
   "id": "66a8a1af40f8cde1"
  },
  {
   "metadata": {
    "ExecuteTime": {
     "end_time": "2025-02-04T22:26:11.270609Z",
     "start_time": "2025-02-04T22:26:09.969376Z"
    }
   },
   "cell_type": "code",
   "source": [
    "from langchain.llms import OpenAIChat\n",
    "set_open_ai_api()\n",
    "llm = OpenAIChat(temperature=0)"
   ],
   "id": "ea443f3aea0c6b13",
   "outputs": [
    {
     "name": "stderr",
     "output_type": "stream",
     "text": [
      "/home/tumaaa/work/repos/udacity_nano_degree_generative_ai/.venv/lib/python3.10/site-packages/langchain/llms/openai.py:790: UserWarning: You are trying to use a chat model. This way of initializing it is no longer supported. Instead, please use: `from langchain.chat_models import ChatOpenAI`\n",
      "  warnings.warn(\n"
     ]
    }
   ],
   "execution_count": 2
  },
  {
   "metadata": {
    "ExecuteTime": {
     "end_time": "2025-02-04T22:26:11.283143Z",
     "start_time": "2025-02-04T22:26:11.277707Z"
    }
   },
   "cell_type": "code",
   "source": [
    "# Hard-coding the user preferences using the ones provided in the project - with minor modifications - for reproducibility purposes wit\n",
    "\n",
    "answers = [\n",
    "    \"A comfortable house with at least 3 bedrooms with a spacious kitchen and a cozy living room with at least 2000sqft\",\n",
    "    \"A quiet neighborhood, good local schools, and convenient shopping options.\",\n",
    "    \"$500,000\",\n",
    "    \"A backyard for gardening, a two-car garage, and a modern, energy-efficient heating system.\",\n",
    "    \"Easy access to a reliable bus line, proximity to a major highway, and bike-friendly roads.\",\n",
    "    \"A balance between suburban tranquility and access to urban amenities like restaurants and theaters.\"\n",
    "    ]\n",
    "questions = [\n",
    "    \"How big should your house be?\",\n",
    "    \"What are 3 most important things for you in choosing this property?\",\n",
    "    \"What is the maximum price you would be willing to pay?\"\n",
    "    \"Which amenities would you like?\",\n",
    "    \"Which transportation options are important to you?\",\n",
    "    \"How urban do you want your neighborhood to be?\",\n",
    "]"
   ],
   "id": "411154d8f358fe5b",
   "outputs": [],
   "execution_count": 3
  },
  {
   "metadata": {},
   "cell_type": "markdown",
   "source": "We create a conversation chain with memory and simulate the question - answer interaction such that we feed its memory with the questions and answers",
   "id": "ef82fb074335c953"
  },
  {
   "metadata": {
    "ExecuteTime": {
     "end_time": "2025-02-04T22:26:12.733519Z",
     "start_time": "2025-02-04T22:26:11.943189Z"
    }
   },
   "cell_type": "code",
   "source": [
    "from langchain.memory import ChatMessageHistory\n",
    "def create_chat_message_history(questions, answers):\n",
    "    chat_message_history=ChatMessageHistory()\n",
    "    for question, answer in zip(questions, answers):\n",
    "        chat_message_history.add_ai_message(question)\n",
    "        chat_message_history.add_user_message(answer)\n",
    "    return chat_message_history"
   ],
   "id": "84228141497c9b68",
   "outputs": [],
   "execution_count": 4
  },
  {
   "metadata": {
    "ExecuteTime": {
     "end_time": "2025-02-04T22:26:12.949285Z",
     "start_time": "2025-02-04T22:26:12.943670Z"
    }
   },
   "cell_type": "code",
   "source": "base_system_prompt = \"\"\"You are a real estate agent. You have a new client who is looking for a new home. The client has provided answers to important questions in the context. First ask the user if he/she is ready to receive recommendations. If he/she enters says 'yes', summarize your understanding of the user preferences and ask the user if he/she is ready to receive recommendations telling the user to either type 'yes' or 'no'. If he/she says 'no', ask the user to write 'done!' again. If the user enters 'done!' you end the conversation. If he types 'yes' you first write a summary of his/her preferences. Upon another 'yes' you make your recommednations.\"\"\"",
   "id": "2632b1ae6bd53e9d",
   "outputs": [],
   "execution_count": 5
  },
  {
   "metadata": {
    "ExecuteTime": {
     "end_time": "2025-02-04T22:27:32.686478Z",
     "start_time": "2025-02-04T22:27:32.679786Z"
    }
   },
   "cell_type": "code",
   "source": [
    "from langchain.chains import ConversationChain\n",
    "from langchain.memory import ConversationBufferMemory\n",
    "from langchain.prompts import PromptTemplate\n",
    "\n",
    "memory=ConversationBufferMemory(conversation_history=create_chat_message_history(questions,answers), llm=llm, chat_memory=create_chat_message_history(questions,answers),memory_key=\"context\")\n",
    "\n",
    "qa_template = PromptTemplate(template=\n",
    "                             (\"\"\"%s\n",
    "\n",
    "Context: {context}\n",
    "\n",
    "Question: {question}\n",
    "\"\"\" % base_system_prompt),\n",
    "                             input_variables=[\"context\", \"question\"]\n",
    "                             )\n",
    "qa_chain = ConversationChain(llm=llm,  memory=memory, prompt=qa_template,input_key=\"question\",output_key=\"answer\", verbose=False)\n"
   ],
   "id": "36df5f4109fbe3fc",
   "outputs": [],
   "execution_count": 12
  },
  {
   "metadata": {
    "ExecuteTime": {
     "end_time": "2025-02-04T22:28:21.261307Z",
     "start_time": "2025-02-04T22:28:19.940238Z"
    }
   },
   "cell_type": "code",
   "source": [
    "\n",
    "\n",
    "question = \"I am waiting for your recommendations\"\n",
    "print(f\"The user asked: {question}\")\n",
    "response=qa_chain(inputs={\"question\": question})\n",
    "print(f\"The smart agent answered: {response['answer']}\")\n"
   ],
   "id": "41e31e5567e63757",
   "outputs": [
    {
     "name": "stdout",
     "output_type": "stream",
     "text": [
      "The user asked: I am waiting for your recommendations\n",
      "The smart agent answered: Are you ready to receive recommendations? Please type 'yes' or 'no'.\n"
     ]
    }
   ],
   "execution_count": 15
  },
  {
   "metadata": {
    "ExecuteTime": {
     "end_time": "2025-02-04T22:32:14.427757Z",
     "start_time": "2025-02-04T22:32:11.815032Z"
    }
   },
   "cell_type": "code",
   "source": [
    "question = \"yes\"\n",
    "print(f\"The user asked: {question}\")\n",
    "response=qa_chain(inputs={\"question\": question})\n",
    "print(f\"The smart agent answered: {response['answer']}\")"
   ],
   "id": "5baf0790ed822b12",
   "outputs": [
    {
     "name": "stdout",
     "output_type": "stream",
     "text": [
      "The user asked: yes\n",
      "The smart agent answered: Based on your preferences, you are looking for a comfortable house with at least 3 bedrooms, a spacious kitchen, and a cozy living room with at least 2000sqft. You value a quiet neighborhood, good local schools, and convenient shopping options. Your maximum budget is $500,000 and you are looking for a property with a backyard for gardening, a two-car garage, and a modern, energy-efficient heating system. Transportation options are important to you, including easy access to a reliable bus line, proximity to a major highway, and bike-friendly roads.\n",
      "\n",
      "Are you ready to receive recommendations? Please type 'yes' or 'no'.\n"
     ]
    }
   ],
   "execution_count": 16
  },
  {
   "metadata": {
    "ExecuteTime": {
     "end_time": "2025-02-04T22:32:33.070431Z",
     "start_time": "2025-02-04T22:32:30.490560Z"
    }
   },
   "cell_type": "code",
   "source": [
    "question = \"yes\"\n",
    "print(f\"The user asked: {question}\")\n",
    "response=qa_chain(inputs={\"question\": question})\n",
    "print(f\"The smart agent answered: {response['answer']}\")"
   ],
   "id": "ebfac554041f7257",
   "outputs": [
    {
     "name": "stdout",
     "output_type": "stream",
     "text": [
      "The user asked: yes\n",
      "The smart agent answered: Based on your preferences, I recommend the following properties:\n",
      "\n",
      "1. A 3-bedroom house with a spacious kitchen, cozy living room, and backyard for gardening in a quiet neighborhood with good local schools and convenient shopping options. This property is within your budget of $500,000 and includes a two-car garage and modern, energy-efficient heating system. It is also located near a reliable bus line, major highway, and bike-friendly roads.\n",
      "\n",
      "2. A similar property with additional features such as a deck for outdoor entertaining and a home office space.\n",
      "\n",
      "3. A townhouse with 3 bedrooms, a modern kitchen, and a garage in a family-friendly neighborhood with access to schools and shopping. This property also includes a backyard and energy-efficient heating system.\n",
      "\n",
      "Let me know if you would like more details on any of these recommendations!\n"
     ]
    }
   ],
   "execution_count": 17
  },
  {
   "metadata": {},
   "cell_type": "markdown",
   "source": "We can see the result above is totally fake. Let's see what we can do about this using our generated listings and vector db'",
   "id": "f45debf39c598535"
  },
  {
   "metadata": {},
   "cell_type": "markdown",
   "source": "",
   "id": "756ab9e1be095345"
  },
  {
   "metadata": {},
   "cell_type": "markdown",
   "source": "Step 5: Using the Generated Listings to Provide Real Context",
   "id": "f0def69451805aa7"
  },
  {
   "metadata": {
    "ExecuteTime": {
     "end_time": "2025-02-04T22:32:48.296857Z",
     "start_time": "2025-02-04T22:32:48.210543Z"
    }
   },
   "cell_type": "code",
   "source": [
    "from langchain.document_loaders import CSVLoader\n",
    "import random\n",
    "\n",
    "set_open_ai_api()\n",
    "listings_loader = CSVLoader(\"listings.csv\")\n",
    "listing_documents=listings_loader.load()\n",
    "print(f\"There are {len(listing_documents)} listings loaded\")\n",
    "sample_listings = random.sample(listing_documents, 2)\n",
    "print(f\"Here are two sample loaded listings:\\n{sample_listings}\")"
   ],
   "id": "84bd824b8f76f239",
   "outputs": [
    {
     "name": "stdout",
     "output_type": "stream",
     "text": [
      "There are 28 listings loaded\n",
      "Here are two sample loaded listings:\n",
      "[Document(page_content='neighborhood: Lakeside Retreat\\nprice: 750000\\nbedrooms: 4\\nbathrooms: 2\\nhouse_size: 2800\\ndescription: Stunning lakefront property with a private dock and breathtaking views of the water. The expansive deck and outdoor living space are perfect for enjoying the peaceful surroundings and entertaining guests.\\nneighborhood_description: Lakeside Retreat is a tranquil community surrounded by nature and water, offering residents a serene escape from the hustle and bustle of city life. With access to boating, fishing, and hiking trails, this neighborhood is ideal for outdoor enthusiasts and those seeking a peaceful retreat.', metadata={'source': 'listings.csv', 'row': 5}), Document(page_content='neighborhood: Riverfront Estates\\nprice: 900000\\nbedrooms: 5\\nbathrooms: 2\\nhouse_size: 3200\\ndescription: Elegant waterfront property with a private dock and panoramic views of the river. The spacious bedrooms and gourmet kitchen make this home perfect for hosting gatherings and creating lasting memories.\\nneighborhood_description: Riverfront Estates is a prestigious neighborhood known for its luxury homes and serene waterfront living. Residents enjoy access to boating, fishing, and other water activities, as well as proximity to upscale dining and shopping options.', metadata={'source': 'listings.csv', 'row': 2})]\n"
     ]
    }
   ],
   "execution_count": 18
  },
  {
   "metadata": {
    "ExecuteTime": {
     "end_time": "2025-02-04T22:32:53.821837Z",
     "start_time": "2025-02-04T22:32:49.886860Z"
    }
   },
   "cell_type": "code",
   "source": [
    "from langchain.vectorstores import Chroma\n",
    "from langchain.embeddings import OpenAIEmbeddings\n",
    "\n",
    "\n",
    "embeddings_model=OpenAIEmbeddings()\n",
    "listings_db=Chroma.from_documents(documents=listing_documents,embedding=embeddings_model)\n"
   ],
   "id": "58a49f888ac6ec21",
   "outputs": [],
   "execution_count": 19
  },
  {
   "metadata": {
    "ExecuteTime": {
     "end_time": "2025-02-04T22:32:53.879878Z",
     "start_time": "2025-02-04T22:32:53.826339Z"
    }
   },
   "cell_type": "code",
   "source": [
    "most_similar_documents=listings_db.similarity_search(query=preference_summary,k=5)\n",
    "print(f\"Most similar documents to the user preferences: {most_similar_documents}\")"
   ],
   "id": "31209d85927197e8",
   "outputs": [
    {
     "ename": "NameError",
     "evalue": "name 'preference_summary' is not defined",
     "output_type": "error",
     "traceback": [
      "\u001B[0;31m---------------------------------------------------------------------------\u001B[0m",
      "\u001B[0;31mNameError\u001B[0m                                 Traceback (most recent call last)",
      "Cell \u001B[0;32mIn[20], line 1\u001B[0m\n\u001B[0;32m----> 1\u001B[0m most_similar_documents\u001B[38;5;241m=\u001B[39mlistings_db\u001B[38;5;241m.\u001B[39msimilarity_search(query\u001B[38;5;241m=\u001B[39m\u001B[43mpreference_summary\u001B[49m,k\u001B[38;5;241m=\u001B[39m\u001B[38;5;241m5\u001B[39m)\n\u001B[1;32m      2\u001B[0m \u001B[38;5;28mprint\u001B[39m(\u001B[38;5;124mf\u001B[39m\u001B[38;5;124m\"\u001B[39m\u001B[38;5;124mMost similar documents to the user preferences: \u001B[39m\u001B[38;5;132;01m{\u001B[39;00mmost_similar_documents\u001B[38;5;132;01m}\u001B[39;00m\u001B[38;5;124m\"\u001B[39m)\n",
      "\u001B[0;31mNameError\u001B[0m: name 'preference_summary' is not defined"
     ]
    }
   ],
   "execution_count": 20
  },
  {
   "metadata": {},
   "cell_type": "code",
   "source": "most_similar_documents_string=\"\\n\\n---\\n\".join([most_similar_document.page_content for most_similar_document in most_similar_documents])",
   "id": "b6b360fef4cb7238",
   "outputs": [],
   "execution_count": null
  },
  {
   "metadata": {},
   "cell_type": "code",
   "source": [
    "from langchain.chains import ConversationChain\n",
    "from langchain.memory import ConversationBufferMemory\n",
    "from langchain.prompts import PromptTemplate\n",
    "\n",
    "memory_with_listings=ConversationBufferMemory(conversation_history=create_chat_message_history(questions,answers), llm=llm, chat_memory=create_chat_message_history(questions,answers),memory_key=\"context\")\n",
    "\n",
    "qa_template_with_listings = PromptTemplate(template=\n",
    "                                           ( (\"\"\"%s. ONLY PROVIDE RECOMMENDATIONS FROM THE LISTINGS BELOW. DO NOT INVENT NON-EXISTENT LISTINGS. DO NOT PARAPHRASE.\n",
    "\n",
    "Context: {context}\n",
    "\n",
    "\"\"\" +\n",
    "f\"Listings: {most_similar_documents_string}\\n\\n\" +\n",
    "\n",
    "\"\"\"Question: {question}\n",
    "\"\"\" )% base_system_prompt),\n",
    "                             input_variables=[\"context\", \"question\"]\n",
    "                             )\n",
    "\n",
    "qa_chain_with_listings = ConversationChain(llm=llm,  memory=memory_with_listings, prompt=qa_template_with_listings,input_key=\"question\",output_key=\"answer\", verbose=True)\n",
    "\n"
   ],
   "id": "641dc03f5ca9bdff",
   "outputs": [],
   "execution_count": null
  },
  {
   "metadata": {},
   "cell_type": "code",
   "source": "response=qa_chain_with_listings(inputs={\"question\":\"I am waiting for your recommendations\"})",
   "id": "89878df086aab691",
   "outputs": [],
   "execution_count": null
  },
  {
   "metadata": {},
   "cell_type": "code",
   "source": "",
   "id": "4434fb4171163bd",
   "outputs": [],
   "execution_count": null
  }
 ],
 "metadata": {
  "kernelspec": {
   "display_name": "Python 3 (ipykernel)",
   "language": "python",
   "name": "python3"
  },
  "language_info": {
   "codemirror_mode": {
    "name": "ipython",
    "version": 3
   },
   "file_extension": ".py",
   "mimetype": "text/x-python",
   "name": "python",
   "nbconvert_exporter": "python",
   "pygments_lexer": "ipython3",
   "version": "3.10.11"
  }
 },
 "nbformat": 4,
 "nbformat_minor": 5
}
