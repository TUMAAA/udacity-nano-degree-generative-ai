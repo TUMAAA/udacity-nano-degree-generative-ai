{
 "cells": [
  {
   "cell_type": "markdown",
   "id": "a108af04",
   "metadata": {},
   "source": [
    "This is a starter notebook for the project, you'll have to import the libraries you'll need, you can find a list of the ones available in this workspace in the requirements.txt file in this workspace. "
   ]
  },
  {
   "cell_type": "code",
   "id": "6554fd4c",
   "metadata": {},
   "source": [
    "import openai\n",
    "import os\n",
    "\n",
    "from langchain.prompts import FewShotPromptTemplate, PromptTemplate\n",
    "\n",
    "from langchain.llms import OpenAI\n"
   ],
   "outputs": [],
   "execution_count": null
  },
  {
   "metadata": {},
   "cell_type": "code",
   "source": [
    "from langchain.prompts import PromptTemplate\n",
    "\n",
    "listing_template = PromptTemplate(template=\n",
    "\"\"\"Neighborhood: {neighborhood}\n",
    "Price: ${price}\n",
    "Bedrooms: {bathrooms}\n",
    "Bathrooms: {bedrooms}\n",
    "House Size: {house_size} sqft\n",
    "\n",
    "Description: {description}\n",
    "\n",
    "Neighborhood Description: {neighborhood_description}\n",
    "\"\"\",\n",
    "                                  input_variables=[\"neighborhood\", \"price\", \"bedrooms\", \"bathrooms\",\n",
    "                                                   \"house_size\", \"description\", \"neighborhood_description\"]\n",
    "                                  )\n",
    "\n"
   ],
   "id": "f36c64508ba32437",
   "outputs": [],
   "execution_count": null
  },
  {
   "metadata": {},
   "cell_type": "code",
   "source": [
    "example_inputs = [\n",
    "    {\n",
    "        \"neighborhood\": \"Downtown Abbey\",\n",
    "        \"price\": 300000,\n",
    "        \"bedrooms\": 3,\n",
    "        \"bathrooms\": 2,\n",
    "        \"house_size\": 2000,\n",
    "        \"description\": \"A beautiful appartment with a large terrace overlooking the city's skyscrapers with 3 well-lit bedrooms and 2 bathrooms means you have enough room even for the occasional guest coming over to celebrate new year's with you :)\",\n",
    "        \"neighborhood_description\": \"A vibrant neighborhood which is very centrally located and specially well connected public transport connections means you are close to everything you need for your everyday life from groceries to cafes and restaurants and shopping.\"\n",
    "    },\n",
    "    {\n",
    "        \"neighborhood\": \"City Heights\",\n",
    "        \"price\": 500000,\n",
    "        \"bedrooms\": 4,\n",
    "        \"bathrooms\": 3,\n",
    "        \"house_size\": 3000,\n",
    "        \"description\": \"A cozy house with a wonderful garden overlooking the city from its hillside location\",\n",
    "        \"neighborhood_description\": \"Located in the city outskirts, this neighborhood is known for its great views and quiet streets with a very family-friendly atmosphere. In no time you are in the midst of a beautiful forest where you can calm all your senses and breath in the cool fresh air. Sightings of deer and other wildlife are common.\"\n",
    "    },\n",
    "    {\n",
    "        \"neighborhood\": \"Green Oaks\",\n",
    "        \"price\": 800000,\n",
    "        \"bedrooms\": 3,\n",
    "        \"bathrooms\": 2,\n",
    "        \"house_size\": 2000,\n",
    "        \"description\": \"A luxurious villa with a large garden and a swimming pool with a winter garden, 2 parking spots, and a garage as well as a large terrace and wonderful finishing.\",\n",
    "        \"neighborhood_description\": \"Green Oaks is a close-knit, environmentally-conscious community with access to organic grocery stores, community gardens, and bike paths. Take a stroll through the nearby Green Oaks Park or grab a cup of coffee at the cozy Green Bean Cafe. With easy access to public transportation and bike lanes, commuting is a breeze.\"\n",
    "    }\n",
    "]"
   ],
   "id": "8094d416ccc65557",
   "outputs": [],
   "execution_count": null
  },
  {
   "metadata": {},
   "cell_type": "code",
   "source": [
    "from langchain.prompts import FewShotPromptTemplate\n",
    "\n",
    "few_shot_template = FewShotPromptTemplate(\n",
    "    example_prompt=listing_template,\n",
    "    input_variables=[\"input\"],\n",
    "    examples=example_inputs,\n",
    "    suffix=\"Use the examples above to generate the following: {input}\",\n",
    ")\n",
    "\n",
    "listing_seperator = \"====\"\n",
    "instruction = \"Generate {} listings of houses. Be creative in regards neighborhood_description, and description and keep it confined to three sentences each. Keep the prices under $1500000, the number of bedrooms under 6 and the number of bathrooms under 3 and the total area under 3500sqft. VERY IMPORTANT: Output the results in the same format as the examples keeping even the order of properties the same as in the examples. Add the characters '%s' before each new listing\" % listing_seperator\n",
    "num_listings = 10\n",
    "prompt_to_use = few_shot_template.format(input=instruction.format(num_listings))\n",
    "\n"
   ],
   "id": "6a9ee6cdc321048f",
   "outputs": [],
   "execution_count": null
  },
  {
   "metadata": {},
   "cell_type": "code",
   "source": "print(prompt_to_use)",
   "id": "3cfb03ee3d0c4801",
   "outputs": [],
   "execution_count": null
  },
  {
   "metadata": {},
   "cell_type": "code",
   "source": [
    "import os\n",
    "\n",
    "os.environ[\"OPENAI_API_KEY\"] =\n",
    "os.environ[\"OPENAI_API_BASE\"] = \"https://openai.vocareum.com/v1\""
   ],
   "id": "2594c02e7038335f",
   "outputs": [],
   "execution_count": null
  },
  {
   "metadata": {},
   "cell_type": "code",
   "source": [
    "from langchain.chat_models import ChatOpenAI\n",
    "\n",
    "model_name = \"gpt-3.5-turbo\"\n",
    "llm = OpenAI(model_name=model_name, temperature=0.0, max_tokens=2000)"
   ],
   "id": "86884cbacd1ab1e8",
   "outputs": [],
   "execution_count": null
  },
  {
   "metadata": {},
   "cell_type": "code",
   "source": "result = llm(prompt=prompt_to_use)",
   "id": "3cf33c8cf1d7b096",
   "outputs": [],
   "execution_count": null
  },
  {
   "metadata": {},
   "cell_type": "code",
   "source": "print(f\"LLM result:\\n{result}\")",
   "id": "b8c37949bcf87a8c",
   "outputs": [],
   "execution_count": null
  },
  {
   "metadata": {},
   "cell_type": "code",
   "source": [
    "import pandas as pd\n",
    "import locale\n",
    "import re\n",
    "\n",
    "# Set the locale to 'en_US.UTF-8' for parsing numbers with commas\n",
    "locale.setlocale(locale.LC_ALL, 'en_US.UTF-8')\n",
    "\n",
    "# Split the result into individual listings\n",
    "listings = result.split(listing_seperator)[1:]\n",
    "# print(f\"Here are the listings in a list:\\n{listings}\")\n",
    "\n",
    "# Define the columns based on input_variables\n",
    "columns = [\"neighborhood\", \"price\", \"bedrooms\", \"bathrooms\", \"house_size\", \"description\", \"neighborhood_description\"]\n",
    "\n",
    "# Parse the listings into a list of dictionaries\n",
    "data = []\n",
    "for listing in listings:\n",
    "    print(f\"Parsing listing: {listing[1:150]} ...\\n\")\n",
    "    try:\n",
    "        entry = {\n",
    "            \"neighborhood\": re.search(r\"^Neighborhood: (.+)$\", listing, re.MULTILINE).group(1),\n",
    "            \"price\": locale.atoi(re.search(r\"^Price: \\$(.+)$\", listing, re.MULTILINE).group(1)),\n",
    "            \"bedrooms\": int(re.search(r\"^Bedrooms: (.+)$\", listing, re.MULTILINE).group(1)),\n",
    "            \"bathrooms\": int(re.search(r\"^Bathrooms: (.+)$\", listing, re.MULTILINE).group(1)),\n",
    "            \"house_size\": locale.atoi(re.search(r\"^House Size: (.+) sqft$\", listing, re.MULTILINE).group(1)),\n",
    "            \"description\": re.search(r\"^Description: (.+)$\", listing, re.MULTILINE).group(1),\n",
    "            \"neighborhood_description\": re.search(r\"^Neighborhood Description: (.+)$\", listing, re.MULTILINE).group(1)\n",
    "        }\n",
    "\n",
    "        data.append(entry)\n",
    "    except Exception as e:\n",
    "        print(\"Error parsing listing\")\n",
    "        print(listing)\n",
    "        print(f\"Because of \\n{e}\")\n",
    "        print(\"\\n\")\n",
    "        continue\n",
    "\n",
    "# Create a DataFrame\n",
    "df = pd.DataFrame(data, columns=columns)"
   ],
   "id": "89351e21daeb7518",
   "outputs": [],
   "execution_count": null
  },
  {
   "metadata": {},
   "cell_type": "markdown",
   "source": "Let's view the dataframe and assert the generated input makes sense and finally save into a csv.",
   "id": "efc06af90829babd"
  },
  {
   "metadata": {},
   "cell_type": "code",
   "source": "df.head(n=num_listings)",
   "id": "5b2439da5ae0b789",
   "outputs": [],
   "execution_count": null
  },
  {
   "metadata": {},
   "cell_type": "code",
   "source": "df.to_csv(\"listings.csv\", index=False)\n",
   "id": "6514bf1ff2822262",
   "outputs": [],
   "execution_count": null
  },
  {
   "metadata": {},
   "cell_type": "code",
   "source": "",
   "id": "369904f4130b38bf",
   "outputs": [],
   "execution_count": null
  }
 ],
 "metadata": {
  "kernelspec": {
   "display_name": "Python 3 (ipykernel)",
   "language": "python",
   "name": "python3"
  },
  "language_info": {
   "codemirror_mode": {
    "name": "ipython",
    "version": 3
   },
   "file_extension": ".py",
   "mimetype": "text/x-python",
   "name": "python",
   "nbconvert_exporter": "python",
   "pygments_lexer": "ipython3",
   "version": "3.10.11"
  }
 },
 "nbformat": 4,
 "nbformat_minor": 5
}
