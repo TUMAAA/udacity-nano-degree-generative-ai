{
 "cells": [
  {
   "cell_type": "markdown",
   "id": "a108af04",
   "metadata": {},
   "source": "This is a starter notebook for the project, you'll have to import the libraries you'll need, you can find a list of the ones available in this workspace in the requirements.txt file in this workspace."
  },
  {
   "metadata": {},
   "cell_type": "markdown",
   "source": [
    "## Step 1: Setup\n",
    "Simply install the provided requirements.txt file by running the following command:\n",
    "```bash\n",
    "pip install -r requirements.txt\n",
    "```"
   ],
   "id": "f16b33edf9bea0a4"
  },
  {
   "metadata": {
    "ExecuteTime": {
     "end_time": "2025-02-05T10:55:16.060199Z",
     "start_time": "2025-02-05T10:55:16.050328Z"
    }
   },
   "cell_type": "code",
   "source": [
    "import os\n",
    "def set_open_ai_api():\n",
    "    os.environ[\"OPENAI_API_KEY\"] =\n",
    "    os.environ[\"OPENAI_API_BASE\"] = \"https://openai.vocareum.com/v1\""
   ],
   "id": "2594c02e7038335f",
   "outputs": [],
   "execution_count": 1
  },
  {
   "metadata": {},
   "cell_type": "markdown",
   "source": "You can now directly skip to step 4 since the fake listings have been saved for you and since each new run of the cells of step 2&3 would generate a new set of listings (reproducibility!).",
   "id": "17995c2e2d714b20"
  },
  {
   "metadata": {},
   "cell_type": "markdown",
   "source": "## Step 2 & 3: Generating Fake Listings Using LLM and Saving Them",
   "id": "b889282e87639eb1"
  },
  {
   "metadata": {},
   "cell_type": "code",
   "source": [
    "import openai\n",
    "import os\n",
    "\n",
    "from langchain.memory import ConversationBufferMemory\n",
    "from langchain.prompts import FewShotPromptTemplate, PromptTemplate\n",
    "\n",
    "from langchain.llms import OpenAI\n"
   ],
   "id": "6554fd4c",
   "outputs": [],
   "execution_count": null
  },
  {
   "metadata": {},
   "cell_type": "code",
   "source": [
    "from langchain.prompts import PromptTemplate\n",
    "\n",
    "listing_template = PromptTemplate(template=\n",
    "\"\"\"Neighborhood: {neighborhood}\n",
    "Price: ${price}\n",
    "Bedrooms: {bathrooms}\n",
    "Bathrooms: {bedrooms}\n",
    "House Size: {house_size} sqft\n",
    "\n",
    "Description: {description}\n",
    "\n",
    "Neighborhood Description: {neighborhood_description}\n",
    "\"\"\",\n",
    "                                  input_variables=[\"neighborhood\", \"price\", \"bedrooms\", \"bathrooms\",\n",
    "                                                   \"house_size\", \"description\", \"neighborhood_description\"]\n",
    "                                  )\n",
    "\n"
   ],
   "id": "f36c64508ba32437",
   "outputs": [],
   "execution_count": null
  },
  {
   "metadata": {},
   "cell_type": "code",
   "source": [
    "example_inputs = [\n",
    "    {\n",
    "        \"neighborhood\": \"Downtown Abbey\",\n",
    "        \"price\": 300000,\n",
    "        \"bedrooms\": 3,\n",
    "        \"bathrooms\": 2,\n",
    "        \"house_size\": 2000,\n",
    "        \"description\": \"A beautiful appartment with a large terrace overlooking the city's skyscrapers with 3 well-lit bedrooms and 2 bathrooms means you have enough room even for the occasional guest coming over to celebrate new year's with you :)\",\n",
    "        \"neighborhood_description\": \"A vibrant neighborhood which is very centrally located and specially well connected public transport connections means you are close to everything you need for your everyday life from groceries to cafes and restaurants and shopping.\"\n",
    "    },\n",
    "    {\n",
    "        \"neighborhood\": \"City Heights\",\n",
    "        \"price\": 500000,\n",
    "        \"bedrooms\": 4,\n",
    "        \"bathrooms\": 3,\n",
    "        \"house_size\": 3000,\n",
    "        \"description\": \"A cozy house with a wonderful garden overlooking the city from its hillside location\",\n",
    "        \"neighborhood_description\": \"Located in the city outskirts, this neighborhood is known for its great views and quiet streets with a very family-friendly atmosphere. In no time you are in the midst of a beautiful forest where you can calm all your senses and breath in the cool fresh air. Sightings of deer and other wildlife are common.\"\n",
    "    },\n",
    "    {\n",
    "        \"neighborhood\": \"Green Oaks\",\n",
    "        \"price\": 800000,\n",
    "        \"bedrooms\": 3,\n",
    "        \"bathrooms\": 2,\n",
    "        \"house_size\": 2000,\n",
    "        \"description\": \"A luxurious villa with a large garden and a swimming pool with a winter garden, 2 parking spots, and a garage as well as a large terrace and wonderful finishing.\",\n",
    "        \"neighborhood_description\": \"Green Oaks is a close-knit, environmentally-conscious community with access to organic grocery stores, community gardens, and bike paths. Take a stroll through the nearby Green Oaks Park or grab a cup of coffee at the cozy Green Bean Cafe. With easy access to public transportation and bike lanes, commuting is a breeze.\"\n",
    "    }\n",
    "]"
   ],
   "id": "8094d416ccc65557",
   "outputs": [],
   "execution_count": null
  },
  {
   "metadata": {},
   "cell_type": "code",
   "source": [
    "from langchain.prompts import FewShotPromptTemplate\n",
    "\n",
    "few_shot_template = FewShotPromptTemplate(\n",
    "    example_prompt=listing_template,\n",
    "    input_variables=[\"input\"],\n",
    "    examples=example_inputs,\n",
    "    suffix=\"Use the examples above to generate the following: {input}\",\n",
    ")\n",
    "\n",
    "listing_seperator = \"====\"\n",
    "instruction = \"Generate {} listings of houses. Be creative in regards neighborhood_description, and description and keep it confined to three sentences each. Keep the prices between $125000 $1500000, the number of bedrooms under 6 and the number of bathrooms under 3 and the total area under 3500sqft. VERY IMPORTANT: Output the results in the same format as the examples keeping even the order of properties the same as in the examples. Add the characters {} before each new listing\"\n",
    "num_listings = 30\n",
    "prompt_to_use = few_shot_template.format(input=instruction.format(num_listings, listing_seperator))\n",
    "\n"
   ],
   "id": "6a9ee6cdc321048f",
   "outputs": [],
   "execution_count": null
  },
  {
   "metadata": {},
   "cell_type": "code",
   "source": "print(prompt_to_use)",
   "id": "3cfb03ee3d0c4801",
   "outputs": [],
   "execution_count": null
  },
  {
   "metadata": {},
   "cell_type": "code",
   "source": [
    "from langchain.chat_models import ChatOpenAI\n",
    "\n",
    "model_name = \"gpt-3.5-turbo\"\n",
    "llm = OpenAI(model_name=model_name, temperature=0.0, max_tokens=3500)"
   ],
   "id": "86884cbacd1ab1e8",
   "outputs": [],
   "execution_count": null
  },
  {
   "metadata": {},
   "cell_type": "code",
   "source": "result = llm(prompt=prompt_to_use)",
   "id": "3cf33c8cf1d7b096",
   "outputs": [],
   "execution_count": null
  },
  {
   "metadata": {},
   "cell_type": "code",
   "source": "print(f\"LLM result:\\n{result}\")",
   "id": "b8c37949bcf87a8c",
   "outputs": [],
   "execution_count": null
  },
  {
   "metadata": {},
   "cell_type": "code",
   "source": [
    "import pandas as pd\n",
    "import locale\n",
    "import re\n",
    "\n",
    "# Set the locale to 'en_US.UTF-8' for parsing numbers with commas\n",
    "locale.setlocale(locale.LC_ALL, 'en_US.UTF-8')\n",
    "\n",
    "# Split the result into individual listings\n",
    "listings = result.split(listing_seperator)[1:]\n",
    "# print(f\"Here are the listings in a list:\\n{listings}\")\n",
    "\n",
    "# Define the columns based on input_variables\n",
    "columns = [\"neighborhood\", \"price\", \"bedrooms\", \"bathrooms\", \"house_size\", \"description\", \"neighborhood_description\"]\n",
    "\n",
    "# Parse the listings into a list of dictionaries\n",
    "data = []\n",
    "for listing in listings:\n",
    "    print(f\"Parsing listing: {listing[1:150]} ...\\n\")\n",
    "    try:\n",
    "        entry = {\n",
    "            \"neighborhood\": re.search(r\"^Neighborhood: (.+)$\", listing, re.MULTILINE).group(1),\n",
    "            \"price\": locale.atoi(re.search(r\"^Price: \\$(.+)$\", listing, re.MULTILINE).group(1)),\n",
    "            \"bedrooms\": int(re.search(r\"^Bedrooms: (.+)$\", listing, re.MULTILINE).group(1)),\n",
    "            \"bathrooms\": int(re.search(r\"^Bathrooms: (.+)$\", listing, re.MULTILINE).group(1)),\n",
    "            \"house_size\": locale.atoi(re.search(r\"^House Size: (.+) sqft$\", listing, re.MULTILINE).group(1)),\n",
    "            \"description\": re.search(r\"^Description: (.+)$\", listing, re.MULTILINE).group(1),\n",
    "            \"neighborhood_description\": re.search(r\"^Neighborhood Description: (.+)$\", listing, re.MULTILINE).group(1)\n",
    "        }\n",
    "\n",
    "        data.append(entry)\n",
    "    except Exception as e:\n",
    "        print(\"Error parsing listing\")\n",
    "        print(listing)\n",
    "        print(f\"Because of \\n{e}\")\n",
    "        print(\"\\n\")\n",
    "        continue\n",
    "\n",
    "# Create a DataFrame\n",
    "df = pd.DataFrame(data, columns=columns)"
   ],
   "id": "89351e21daeb7518",
   "outputs": [],
   "execution_count": null
  },
  {
   "metadata": {},
   "cell_type": "markdown",
   "source": "Let's view the dataframe and assert the generated input makes sense and finally save into a csv.",
   "id": "efc06af90829babd"
  },
  {
   "metadata": {},
   "cell_type": "code",
   "source": "df.head(n=num_listings)",
   "id": "5b2439da5ae0b789",
   "outputs": [],
   "execution_count": null
  },
  {
   "metadata": {},
   "cell_type": "code",
   "source": "df.to_csv(\"listings.csv\", index=False)\n",
   "id": "6514bf1ff2822262",
   "outputs": [],
   "execution_count": null
  },
  {
   "metadata": {},
   "cell_type": "markdown",
   "source": "## Step 4: Basic Listings Recommendation without Using a Set of Relevant Listings",
   "id": "66a8a1af40f8cde1"
  },
  {
   "metadata": {},
   "cell_type": "markdown",
   "source": "Feel free to start this step after step 1 directly",
   "id": "b9daa05a384c9c69"
  },
  {
   "metadata": {
    "ExecuteTime": {
     "end_time": "2025-02-05T10:58:24.575840Z",
     "start_time": "2025-02-05T10:58:24.571243Z"
    }
   },
   "cell_type": "code",
   "source": [
    "def ask_llm_and_print_question_and_response(chain,question):\n",
    "    response=chain(inputs={\"question\": (\"%s\" % question)})\n",
    "    print(f\"The user asked: {question}\")\n",
    "    print(f\"The smart assistant answered: {response['answer']}\")\n",
    "    return response"
   ],
   "id": "95d79ddce2c729bf",
   "outputs": [],
   "execution_count": 22
  },
  {
   "metadata": {
    "ExecuteTime": {
     "end_time": "2025-02-05T10:58:55.274299Z",
     "start_time": "2025-02-05T10:58:55.264955Z"
    }
   },
   "cell_type": "code",
   "source": [
    "from langchain.llms import OpenAIChat\n",
    "set_open_ai_api()\n",
    "model=\"gpt-3.5-turbo\"\n",
    "llm = OpenAIChat(model_name=model,temperature=0.5)"
   ],
   "id": "ea443f3aea0c6b13",
   "outputs": [],
   "execution_count": 23
  },
  {
   "metadata": {
    "ExecuteTime": {
     "end_time": "2025-02-05T10:58:56.204968Z",
     "start_time": "2025-02-05T10:58:56.191047Z"
    }
   },
   "cell_type": "code",
   "source": [
    "# Hard-coding the user preferences using the ones provided in the project - with minor modifications - for reproducibility purposes wit\n",
    "\n",
    "questions = [\n",
    "    \"How big do you want your house to be?\"\n",
    "    \"What are 3 most important things for you in choosing this property?\",\n",
    "    \"Which amenities would you like?\",\n",
    "    \"Which transportation options are important to you?\",\n",
    "    \"How urban do you want your neighborhood to be?\",\n",
    "]\n",
    "answers = [\n",
    "    \"A comfortable three-bedroom house with a spacious kitchen and a cozy living room.\",\n",
    "    \"A quiet neighborhood, good local schools, and convenient shopping options.\",\n",
    "    \"A backyard for gardening, a two-car garage, and a modern, energy-efficient heating system.\",\n",
    "    \"Easy access to a reliable bus line, proximity to a major highway, and bike-friendly roads.\",\n",
    "    \"A balance between suburban tranquility and access to urban amenities like restaurants and theaters.\"\n",
    "]"
   ],
   "id": "411154d8f358fe5b",
   "outputs": [],
   "execution_count": 24
  },
  {
   "metadata": {},
   "cell_type": "markdown",
   "source": "We create a conversation chain with memory and simulate the question - answer interaction such that we feed its memory with the questions and answers since running the interaction for real might not necessarily lead the llm to asking the right questions due to its unpredictability",
   "id": "ef82fb074335c953"
  },
  {
   "metadata": {
    "ExecuteTime": {
     "end_time": "2025-02-05T10:58:58.346115Z",
     "start_time": "2025-02-05T10:58:58.339460Z"
    }
   },
   "cell_type": "code",
   "source": [
    "from langchain.memory import ChatMessageHistory\n",
    "def create_chat_message_history(questions, answers):\n",
    "    chat_message_history=ChatMessageHistory()\n",
    "    for question, answer in zip(questions, answers):\n",
    "        chat_message_history.add_ai_message(question)\n",
    "        chat_message_history.add_user_message(answer)\n",
    "    return chat_message_history"
   ],
   "id": "84228141497c9b68",
   "outputs": [],
   "execution_count": 25
  },
  {
   "metadata": {
    "ExecuteTime": {
     "end_time": "2025-02-05T10:59:58.101904Z",
     "start_time": "2025-02-05T10:59:58.088596Z"
    }
   },
   "cell_type": "code",
   "source": [
    "base_system_prompt = \"\"\"You are a real estate agent. You have a new client who is looking for a new home.\n",
    "\n",
    "The client has provided answers to important questions in the context.\n",
    "\n",
    "Proceed as follows:\n",
    "- First ask the user if he/she is ready to receive recommendations.\n",
    "- If he/she enters says 'yes' DON'T MAKE a recommednation yet. First summarize your understanding of the user preferences and ask the user if he/she is ready to receive recommendations telling the user to either type 'yes' or 'no'\n",
    "- If he types 'yes' you match the user preferences with listings and make suggestions.\"\"\""
   ],
   "id": "2632b1ae6bd53e9d",
   "outputs": [],
   "execution_count": 30
  },
  {
   "metadata": {
    "ExecuteTime": {
     "end_time": "2025-02-05T10:59:58.607897Z",
     "start_time": "2025-02-05T10:59:58.602218Z"
    }
   },
   "cell_type": "code",
   "source": [
    "from langchain.chains import ConversationChain\n",
    "from langchain.memory import ConversationBufferMemory\n",
    "from langchain.prompts import PromptTemplate\n",
    "\n",
    "memory=ConversationBufferMemory(conversation_history=create_chat_message_history(questions,answers), llm=llm, chat_memory=create_chat_message_history(questions,answers),memory_key=\"context\")\n",
    "\n",
    "qa_template = PromptTemplate(template=\n",
    "                             (\"\"\"%s\n",
    "\n",
    "Context: {context}\n",
    "\n",
    "Question: {question}\n",
    "\"\"\" % base_system_prompt),\n",
    "                             input_variables=[\"context\", \"question\"]\n",
    "                             )\n",
    "qa_chain = ConversationChain(llm=llm,  memory=memory, prompt=qa_template,input_key=\"question\",output_key=\"answer\", verbose=False)\n"
   ],
   "id": "36df5f4109fbe3fc",
   "outputs": [],
   "execution_count": 31
  },
  {
   "metadata": {
    "ExecuteTime": {
     "end_time": "2025-02-05T11:00:01.125986Z",
     "start_time": "2025-02-05T10:59:59.067822Z"
    }
   },
   "cell_type": "code",
   "source": [
    "question = \"I am waiting for your recommendations\"\n",
    "ask_llm_and_print_question_and_response(qa_chain,question=question)"
   ],
   "id": "41e31e5567e63757",
   "outputs": [
    {
     "name": "stdout",
     "output_type": "stream",
     "text": [
      "The user asked: I am waiting for your recommendations\n",
      "The smart assistant answered: Are you ready to receive recommendations based on your preferences? Please type 'yes' or 'no'.\n"
     ]
    },
    {
     "data": {
      "text/plain": [
       "{'question': 'I am waiting for your recommendations',\n",
       " 'context': 'AI: How big do you want your house to be?What are 3 most important things for you in choosing this property?\\nHuman: A comfortable three-bedroom house with a spacious kitchen and a cozy living room.\\nAI: Which amenities would you like?\\nHuman: A quiet neighborhood, good local schools, and convenient shopping options.\\nAI: Which transportation options are important to you?\\nHuman: A backyard for gardening, a two-car garage, and a modern, energy-efficient heating system.\\nAI: How urban do you want your neighborhood to be?\\nHuman: Easy access to a reliable bus line, proximity to a major highway, and bike-friendly roads.',\n",
       " 'answer': \"Are you ready to receive recommendations based on your preferences? Please type 'yes' or 'no'.\"}"
      ]
     },
     "execution_count": 32,
     "metadata": {},
     "output_type": "execute_result"
    }
   ],
   "execution_count": 32
  },
  {
   "metadata": {
    "ExecuteTime": {
     "end_time": "2025-02-05T11:00:06.937097Z",
     "start_time": "2025-02-05T11:00:04.677611Z"
    }
   },
   "cell_type": "code",
   "source": [
    "question = \"yes\"\n",
    "response=ask_llm_and_print_question_and_response(qa_chain,question=question)"
   ],
   "id": "5baf0790ed822b12",
   "outputs": [
    {
     "name": "stdout",
     "output_type": "stream",
     "text": [
      "The user asked: yes\n",
      "The smart assistant answered: Great! Based on your preferences, I understand that you are looking for a comfortable three-bedroom house with a spacious kitchen and a cozy living room. You value a quiet neighborhood, good local schools, and convenient shopping options. Additionally, you are looking for a backyard for gardening, a two-car garage, and a modern, energy-efficient heating system. You also prefer easy access to a reliable bus line, proximity to a major highway, and bike-friendly roads.\n",
      "\n",
      "Are you ready to receive recommendations based on these preferences? Please type 'yes' or 'no'.\n"
     ]
    }
   ],
   "execution_count": 33
  },
  {
   "metadata": {
    "ExecuteTime": {
     "end_time": "2025-02-05T11:00:17.299186Z",
     "start_time": "2025-02-05T11:00:12.967072Z"
    }
   },
   "cell_type": "code",
   "source": [
    "question = \"yes\"\n",
    "response=ask_llm_and_print_question_and_response(qa_chain,question=question)"
   ],
   "id": "daadfa9020e16787",
   "outputs": [
    {
     "name": "stdout",
     "output_type": "stream",
     "text": [
      "The user asked: yes\n",
      "The smart assistant answered: Great! Based on your preferences, I have found a few listings that match what you are looking for. Here are some recommendations:\n",
      "\n",
      "1. Beautiful 3-bedroom house in a quiet neighborhood with a spacious kitchen, cozy living room, and backyard for gardening. Features a two-car garage and modern, energy-efficient heating system. Close to good local schools and convenient shopping options. Easy access to a reliable bus line and bike-friendly roads.\n",
      "\n",
      "2. Charming house with 3 bedrooms, a large kitchen, and a comfortable living room. Located in a peaceful neighborhood with good local schools and convenient shopping options nearby. Includes a two-car garage, backyard for gardening, and modern heating system. Close to a reliable bus line and major highway.\n",
      "\n",
      "3. Cozy 3-bedroom home in a quiet area with a spacious kitchen and inviting living room. Features a backyard for gardening, two-car garage, and energy-efficient heating system. Close to good local schools, convenient shopping options, and easy access to a reliable bus line and bike-friendly roads.\n",
      "\n",
      "Would you like more details on any of these listings or are there any specific preferences you would like me to consider in my search?\n"
     ]
    }
   ],
   "execution_count": 34
  },
  {
   "metadata": {},
   "cell_type": "markdown",
   "source": "**We can see the result above is totally fake. Let's see what we can do about this using our generated listings and vector db'**",
   "id": "f45debf39c598535"
  },
  {
   "metadata": {},
   "cell_type": "markdown",
   "source": "## Step 5: Using the Generated Listings to Provide Real Context",
   "id": "f0def69451805aa7"
  },
  {
   "metadata": {
    "ExecuteTime": {
     "end_time": "2025-02-05T11:00:22.083745Z",
     "start_time": "2025-02-05T11:00:22.075147Z"
    }
   },
   "cell_type": "code",
   "source": [
    "from typing import List, Dict, Any\n",
    "from langchain.memory import ConversationBufferMemory\n",
    "\n",
    "# there is a solution to ConversationChain problem of not being able to use more than one input:\n",
    "# The ConversationBufferMemory is extended to be able to pass other information.\n",
    "# Thanks to https://github.com/langchain-ai/langchain/issues/1800#issuecomment-1598128244\n",
    "class ExtendedConversationBufferMemory(ConversationBufferMemory):\n",
    "    extra_variables:List[str] = []\n",
    "\n",
    "    @property\n",
    "    def memory_variables(self) -> List[str]:\n",
    "        \"\"\"Will always return list of memory variables.\"\"\"\n",
    "        return [self.memory_key] + self.extra_variables\n",
    "\n",
    "    def load_memory_variables(self, inputs: Dict[str, Any]) -> Dict[str, Any]:\n",
    "        \"\"\"Return buffer with history and extra variables\"\"\"\n",
    "        d = super().load_memory_variables(inputs)\n",
    "        d.update({k:inputs.get(k) for k in self.extra_variables})\n",
    "        return d"
   ],
   "id": "e46509327cd17e34",
   "outputs": [],
   "execution_count": 35
  },
  {
   "metadata": {
    "ExecuteTime": {
     "end_time": "2025-02-05T11:00:26.815680Z",
     "start_time": "2025-02-05T11:00:26.810227Z"
    }
   },
   "cell_type": "code",
   "source": [
    "from langchain.chains import ConversationChain\n",
    "from langchain.prompts import PromptTemplate\n",
    "\n",
    "\n",
    "memory_with_listings=ExtendedConversationBufferMemory(\n",
    "    conversation_history=create_chat_message_history(questions,answers),\n",
    "    llm=llm,\n",
    "    chat_memory=create_chat_message_history(questions,answers),\n",
    "    memory_key=\"context\",\n",
    "    extra_variables=[\"listings\"])\n",
    "\n",
    "\n",
    "qa_template_with_listings=PromptTemplate(template=\n",
    "                          ((\"\"\"%s. Only provide suggestions from the available listings. '\n",
    "\n",
    "Context: {context}\n",
    "\n",
    "Listings: {listings}\n",
    "\n",
    "Question: {question}\n",
    "\"\"\") % base_system_prompt),\n",
    "                          input_variables=[\"context\", \"listings\", \"question\"]\n",
    "                          )\n",
    "\n",
    "\n",
    "\n",
    "qa_chain_with_listings = ConversationChain(llm=llm,  memory=memory_with_listings, prompt=qa_template_with_listings,input_key=\"question\" ,output_key=\"answer\", verbose=False)\n",
    "\n"
   ],
   "id": "641dc03f5ca9bdff",
   "outputs": [],
   "execution_count": 36
  },
  {
   "metadata": {
    "ExecuteTime": {
     "end_time": "2025-02-05T11:00:33.582029Z",
     "start_time": "2025-02-05T11:00:31.467779Z"
    }
   },
   "cell_type": "code",
   "source": [
    "response=ask_llm_and_print_question_and_response(qa_chain_with_listings,question=\"I am waiting for your recommendations\")\n",
    "preference_summary_by_smart_assistant=response['answer']"
   ],
   "id": "89878df086aab691",
   "outputs": [
    {
     "name": "stdout",
     "output_type": "stream",
     "text": [
      "The user asked: I am waiting for your recommendations\n",
      "The smart assistant answered: First, may I summarize your preferences? You are looking for a comfortable three-bedroom house with a spacious kitchen and a cozy living room. Your top priorities are a quiet neighborhood, good local schools, and convenient shopping options. You also value having a backyard for gardening, a two-car garage, and a modern, energy-efficient heating system. In terms of transportation, you prefer easy access to a reliable bus line, proximity to a major highway, and bike-friendly roads. Is that correct?\n",
      "\n",
      "Are you ready to receive recommendations based on your preferences? Please type 'yes' or 'no'.\n"
     ]
    }
   ],
   "execution_count": 37
  },
  {
   "metadata": {},
   "cell_type": "markdown",
   "source": "Now we use the preference summary by the smart assistant to retreive suitable listings from the vector db",
   "id": "5edf77780a1f761c"
  },
  {
   "metadata": {
    "ExecuteTime": {
     "end_time": "2025-02-05T11:00:58.272280Z",
     "start_time": "2025-02-05T11:00:58.183399Z"
    }
   },
   "cell_type": "code",
   "source": [
    "from langchain.document_loaders import CSVLoader\n",
    "import random\n",
    "\n",
    "set_open_ai_api()\n",
    "listings_loader = CSVLoader(\"listings.csv\")\n",
    "listing_documents=listings_loader.load()\n",
    "print(f\"There are {len(listing_documents)} listings loaded\")\n",
    "sample_listings = random.sample(listing_documents, 2)\n",
    "print(f\"Here are two sample loaded listings:\\n{sample_listings}\")"
   ],
   "id": "84bd824b8f76f239",
   "outputs": [
    {
     "name": "stdout",
     "output_type": "stream",
     "text": [
      "There are 28 listings loaded\n",
      "Here are two sample loaded listings:\n",
      "[Document(page_content='neighborhood: Riverbend Estates\\nprice: 650000\\nbedrooms: 4\\nbathrooms: 2\\nhouse_size: 2300\\ndescription: Elegant home with a grand entrance and high ceilings, featuring a gourmet kitchen and luxurious master suite. The backyard oasis includes a patio, garden, and fire pit for outdoor entertaining and relaxation.\\nneighborhood_description: Riverbend Estates is a prestigious neighborhood known for its upscale homes and scenic views of the river. Residents enjoy access to walking trails, community events, and upscale dining options, as well as proximity to top-rated schools and shopping centers.', metadata={'source': 'listings.csv', 'row': 17}), Document(page_content='neighborhood: Hillside Manor\\nprice: 175000\\nbedrooms: 2\\nbathrooms: 1\\nhouse_size: 1500\\ndescription: Charming cottage-style home with a cozy fireplace and a private backyard oasis with a deck and garden. The bright and airy living spaces create a warm and inviting atmosphere for relaxing and entertaining.\\nneighborhood_description: Hillside Manor is a quaint and peaceful neighborhood with tree-lined streets and friendly neighbors. Surrounded by nature trails and parks, residents can enjoy outdoor activities and a peaceful setting while still being conveniently located near shopping and dining options.', metadata={'source': 'listings.csv', 'row': 15})]\n"
     ]
    }
   ],
   "execution_count": 38
  },
  {
   "metadata": {
    "ExecuteTime": {
     "end_time": "2025-02-05T11:01:05.611085Z",
     "start_time": "2025-02-05T11:01:00.445226Z"
    }
   },
   "cell_type": "code",
   "source": [
    "from langchain.vectorstores import Chroma\n",
    "from langchain.embeddings import OpenAIEmbeddings\n",
    "\n",
    "embeddings_model=OpenAIEmbeddings()\n",
    "# I found no better way to ensure the chromadb is reset other than running twice with first call including delete_collection()\n",
    "# Without these, each time the cell is rerun the documents are added all over new leading to wrong results in k-nearest similarity search\n",
    "listings_db=Chroma.from_documents(documents=listing_documents,embedding=embeddings_model).delete_collection()\n",
    "listings_db=Chroma.from_documents(documents=listing_documents,embedding=embeddings_model)"
   ],
   "id": "58a49f888ac6ec21",
   "outputs": [],
   "execution_count": 39
  },
  {
   "metadata": {
    "ExecuteTime": {
     "end_time": "2025-02-05T11:01:05.635338Z",
     "start_time": "2025-02-05T11:01:05.629567Z"
    }
   },
   "cell_type": "code",
   "source": "listings_db._collection.count()",
   "id": "2ef2d587ef25aa91",
   "outputs": [
    {
     "data": {
      "text/plain": [
       "28"
      ]
     },
     "execution_count": 40,
     "metadata": {},
     "output_type": "execute_result"
    }
   ],
   "execution_count": 40
  },
  {
   "metadata": {
    "ExecuteTime": {
     "end_time": "2025-02-05T11:01:12.703600Z",
     "start_time": "2025-02-05T11:01:11.394404Z"
    }
   },
   "cell_type": "code",
   "source": [
    "most_similar_documents=listings_db.similarity_search(query=preference_summary_by_smart_assistant,k=4)\n",
    "print(f\"Most similar documents to the user preferences: {most_similar_documents}\")"
   ],
   "id": "31209d85927197e8",
   "outputs": [
    {
     "name": "stdout",
     "output_type": "stream",
     "text": [
      "Most similar documents to the user preferences: [Document(page_content='neighborhood: Cedarwood Village\\nprice: 225000\\nbedrooms: 3\\nbathrooms: 2\\nhouse_size: 1600\\ndescription: Cozy home with a spacious backyard and deck for outdoor gatherings and relaxation. The open floor plan and large windows create a bright and inviting atmosphere throughout the house.\\nneighborhood_description: Cedarwood Village is a family-friendly neighborhood with tree-lined streets and nearby parks for outdoor activities. Close to schools, shopping centers, and restaurants, making it a convenient and welcoming place to call home.', metadata={'row': 24, 'source': 'listings.csv'}), Document(page_content='neighborhood: Willow Creek\\nprice: 425000\\nbedrooms: 4\\nbathrooms: 2\\nhouse_size: 2000\\ndescription: Spacious two-story home with a large backyard and deck for outdoor gatherings and relaxation. The updated kitchen and cozy living room provide a comfortable and inviting space for families to enjoy.\\nneighborhood_description: Willow Creek is a family-friendly neighborhood with top-rated schools and community parks for children to play and explore. Close to shopping centers, restaurants, and recreational facilities, making it a convenient and desirable place to live for families and young professionals.', metadata={'row': 7, 'source': 'listings.csv'}), Document(page_content='neighborhood: Meadowbrook Heights\\nprice: 600000\\nbedrooms: 3\\nbathrooms: 2\\nhouse_size: 2300\\ndescription: Contemporary home with a sleek design and high-end finishes throughout, including a gourmet kitchen and spa-like bathrooms. The spacious backyard and deck offer a private retreat for outdoor entertaining and relaxation.\\nneighborhood_description: Meadowbrook Heights is a modern and upscale neighborhood with well-manicured lawns and upscale amenities. Residents enjoy access to community pools, tennis courts, and walking trails, as well as proximity to shopping centers, restaurants, and entertainment options.', metadata={'row': 8, 'source': 'listings.csv'}), Document(page_content='neighborhood: Meadowview Park\\nprice: 700000\\nbedrooms: 5\\nbathrooms: 2\\nhouse_size: 2500\\ndescription: Spacious two-story home with a large backyard and deck for outdoor gatherings and relaxation. The updated kitchen and cozy living room provide a comfortable and inviting space for families to enjoy.\\nneighborhood_description: Meadowview Park is a family-friendly neighborhood with top-rated schools and community parks for children to play and explore. Close to shopping centers, restaurants, and recreational facilities, making it a convenient and desirable place to live for families and young professionals.', metadata={'row': 26, 'source': 'listings.csv'})]\n"
     ]
    }
   ],
   "execution_count": 41
  },
  {
   "metadata": {
    "ExecuteTime": {
     "end_time": "2025-02-05T11:02:08.060612Z",
     "start_time": "2025-02-05T11:02:08.056439Z"
    }
   },
   "cell_type": "code",
   "source": [
    "most_similar_documents_string=\"\\n\\n---\\n\".join([most_similar_document.page_content for most_similar_document in most_similar_documents])\n",
    "print(most_similar_documents_string)"
   ],
   "id": "b6b360fef4cb7238",
   "outputs": [
    {
     "name": "stdout",
     "output_type": "stream",
     "text": [
      "neighborhood: Cedarwood Village\n",
      "price: 225000\n",
      "bedrooms: 3\n",
      "bathrooms: 2\n",
      "house_size: 1600\n",
      "description: Cozy home with a spacious backyard and deck for outdoor gatherings and relaxation. The open floor plan and large windows create a bright and inviting atmosphere throughout the house.\n",
      "neighborhood_description: Cedarwood Village is a family-friendly neighborhood with tree-lined streets and nearby parks for outdoor activities. Close to schools, shopping centers, and restaurants, making it a convenient and welcoming place to call home.\n",
      "\n",
      "---\n",
      "neighborhood: Willow Creek\n",
      "price: 425000\n",
      "bedrooms: 4\n",
      "bathrooms: 2\n",
      "house_size: 2000\n",
      "description: Spacious two-story home with a large backyard and deck for outdoor gatherings and relaxation. The updated kitchen and cozy living room provide a comfortable and inviting space for families to enjoy.\n",
      "neighborhood_description: Willow Creek is a family-friendly neighborhood with top-rated schools and community parks for children to play and explore. Close to shopping centers, restaurants, and recreational facilities, making it a convenient and desirable place to live for families and young professionals.\n",
      "\n",
      "---\n",
      "neighborhood: Meadowbrook Heights\n",
      "price: 600000\n",
      "bedrooms: 3\n",
      "bathrooms: 2\n",
      "house_size: 2300\n",
      "description: Contemporary home with a sleek design and high-end finishes throughout, including a gourmet kitchen and spa-like bathrooms. The spacious backyard and deck offer a private retreat for outdoor entertaining and relaxation.\n",
      "neighborhood_description: Meadowbrook Heights is a modern and upscale neighborhood with well-manicured lawns and upscale amenities. Residents enjoy access to community pools, tennis courts, and walking trails, as well as proximity to shopping centers, restaurants, and entertainment options.\n",
      "\n",
      "---\n",
      "neighborhood: Meadowview Park\n",
      "price: 700000\n",
      "bedrooms: 5\n",
      "bathrooms: 2\n",
      "house_size: 2500\n",
      "description: Spacious two-story home with a large backyard and deck for outdoor gatherings and relaxation. The updated kitchen and cozy living room provide a comfortable and inviting space for families to enjoy.\n",
      "neighborhood_description: Meadowview Park is a family-friendly neighborhood with top-rated schools and community parks for children to play and explore. Close to shopping centers, restaurants, and recreational facilities, making it a convenient and desirable place to live for families and young professionals.\n"
     ]
    }
   ],
   "execution_count": 42
  },
  {
   "metadata": {},
   "cell_type": "markdown",
   "source": "Finally, we hit the LLM now with the extended context involving the most similar documents found from the vector db",
   "id": "f026163820f9104f"
  },
  {
   "metadata": {
    "ExecuteTime": {
     "end_time": "2025-02-05T11:02:27.757429Z",
     "start_time": "2025-02-05T11:02:26.531675Z"
    }
   },
   "cell_type": "code",
   "source": "response=qa_chain_with_listings(inputs={\"question\":\"yes\",\"listings\":most_similar_documents_string})",
   "id": "34ad51e7a3b3b05f",
   "outputs": [],
   "execution_count": 43
  },
  {
   "metadata": {
    "ExecuteTime": {
     "end_time": "2025-02-05T11:02:30.023831Z",
     "start_time": "2025-02-05T11:02:30.019808Z"
    }
   },
   "cell_type": "code",
   "source": "print(f\"The smart assistant answered: {response['answer']}\")",
   "id": "5480751f6098d632",
   "outputs": [
    {
     "name": "stdout",
     "output_type": "stream",
     "text": [
      "The smart assistant answered: Yes\n"
     ]
    }
   ],
   "execution_count": 44
  },
  {
   "metadata": {},
   "cell_type": "markdown",
   "source": "Let's verify if the top listing indeed exists",
   "id": "5affcca3925ee771"
  },
  {
   "metadata": {
    "ExecuteTime": {
     "end_time": "2025-02-05T11:03:04.819369Z",
     "start_time": "2025-02-05T11:03:04.799546Z"
    }
   },
   "cell_type": "code",
   "source": [
    "import pandas as pd\n",
    "df=pd.read_csv(\"listings.csv\")\n",
    "filtered_df=df[df[\"neighborhood\"]==\"Meadowview Park\"]\n",
    "filtered_df.head()"
   ],
   "id": "4ef1bd9f3dbfedc0",
   "outputs": [
    {
     "data": {
      "text/plain": [
       "       neighborhood   price  bedrooms  bathrooms  house_size  \\\n",
       "26  Meadowview Park  700000         5          2        2500   \n",
       "\n",
       "                                          description  \\\n",
       "26  Spacious two-story home with a large backyard ...   \n",
       "\n",
       "                             neighborhood_description  \n",
       "26  Meadowview Park is a family-friendly neighborh...  "
      ],
      "text/html": [
       "<div>\n",
       "<style scoped>\n",
       "    .dataframe tbody tr th:only-of-type {\n",
       "        vertical-align: middle;\n",
       "    }\n",
       "\n",
       "    .dataframe tbody tr th {\n",
       "        vertical-align: top;\n",
       "    }\n",
       "\n",
       "    .dataframe thead th {\n",
       "        text-align: right;\n",
       "    }\n",
       "</style>\n",
       "<table border=\"1\" class=\"dataframe\">\n",
       "  <thead>\n",
       "    <tr style=\"text-align: right;\">\n",
       "      <th></th>\n",
       "      <th>neighborhood</th>\n",
       "      <th>price</th>\n",
       "      <th>bedrooms</th>\n",
       "      <th>bathrooms</th>\n",
       "      <th>house_size</th>\n",
       "      <th>description</th>\n",
       "      <th>neighborhood_description</th>\n",
       "    </tr>\n",
       "  </thead>\n",
       "  <tbody>\n",
       "    <tr>\n",
       "      <th>26</th>\n",
       "      <td>Meadowview Park</td>\n",
       "      <td>700000</td>\n",
       "      <td>5</td>\n",
       "      <td>2</td>\n",
       "      <td>2500</td>\n",
       "      <td>Spacious two-story home with a large backyard ...</td>\n",
       "      <td>Meadowview Park is a family-friendly neighborh...</td>\n",
       "    </tr>\n",
       "  </tbody>\n",
       "</table>\n",
       "</div>"
      ]
     },
     "execution_count": 46,
     "metadata": {},
     "output_type": "execute_result"
    }
   ],
   "execution_count": 46
  },
  {
   "metadata": {},
   "cell_type": "markdown",
   "source": "**q.e.d. Good job :)**",
   "id": "196fc1374498330c"
  },
  {
   "metadata": {},
   "cell_type": "markdown",
   "source": [
    "# Step 6: Personalized Response\n",
    "\n",
    "The assignment requires that the LLM is used to give a response of suitable listings wherein the listing is described in such a way such that the aspects of relevance to the user are highlighted"
   ],
   "id": "5fa463bc96ecedf5"
  },
  {
   "metadata": {
    "ExecuteTime": {
     "end_time": "2025-02-05T12:24:39.605555Z",
     "start_time": "2025-02-05T12:24:39.599959Z"
    }
   },
   "cell_type": "code",
   "source": [
    "from langchain.chains import ConversationChain\n",
    "from langchain.prompts import PromptTemplate\n",
    "\n",
    "\n",
    "memory_with_listings=ExtendedConversationBufferMemory(\n",
    "    llm=llm,\n",
    "    chat_memory=create_chat_message_history(questions,answers),\n",
    "    memory_key=\"context\",\n",
    "    extra_variables=[\"listings\"]) # resetting the memory with just the questions/answers\n",
    "\n",
    "# We do the personalization of the listing response by instructing the LLM to do so\n",
    "qa_template_with_listings_and_personalization=PromptTemplate(template=\n",
    "((\"\"\"%s. Only provide suggestions from the available listings.\n",
    "\n",
    "Context: {context}\n",
    "\n",
    "Listings: {listings}\n",
    "\n",
    "Question: {question}\n",
    "--------\n",
    "when you are recommending listings, craft a response in which a listing's **description** and **neighborhood description** are modified creatively from the original ones while preserving correctness. You should highlight aspects of relevance to the user's preferences as summarized by the AI.\n",
    "\"\"\") % base_system_prompt),\n",
    "                                         input_variables=[\"context\", \"listings\", \"question\"]\n",
    "                                         )\n",
    "\n",
    "\n",
    "\n",
    "qa_chain_with_listings_and_personalization = ConversationChain(\n",
    "    llm=llm,\n",
    "    memory=memory_with_listings,                                                   prompt=qa_template_with_listings_and_personalization,\n",
    "    input_key=\"question\",\n",
    "    output_key=\"answer\",\n",
    "    verbose=False)\n",
    "\n"
   ],
   "id": "ada33a6c76c6d3e4",
   "outputs": [],
   "execution_count": 223
  },
  {
   "metadata": {
    "ExecuteTime": {
     "end_time": "2025-02-05T12:24:43.467597Z",
     "start_time": "2025-02-05T12:24:41.128958Z"
    }
   },
   "cell_type": "code",
   "source": "response=ask_llm_and_print_question_and_response(qa_chain_with_listings_and_personalization,question=\"I am waiting for your recommendations\")\n",
   "id": "3c5705244af6f96",
   "outputs": [
    {
     "name": "stdout",
     "output_type": "stream",
     "text": [
      "The user asked: I am waiting for your recommendations\n",
      "The smart assistant answered: I see that you are looking for a comfortable three-bedroom house with a spacious kitchen and a cozy living room in a quiet neighborhood with good local schools and convenient shopping options. You also mentioned wanting a backyard for gardening, a two-car garage, and a modern, energy-efficient heating system. Additionally, you prefer easy access to a reliable bus line, proximity to a major highway, and bike-friendly roads.\n",
      "\n",
      "Are you ready to receive recommendations? Please type 'yes' or 'no'.\n"
     ]
    }
   ],
   "execution_count": 224
  },
  {
   "metadata": {
    "ExecuteTime": {
     "end_time": "2025-02-05T12:24:44.941611Z",
     "start_time": "2025-02-05T12:24:44.938124Z"
    }
   },
   "cell_type": "code",
   "source": "preference_summary_by_smart_assistant=response['answer']",
   "id": "361d2c667e176e2f",
   "outputs": [],
   "execution_count": 225
  },
  {
   "metadata": {
    "ExecuteTime": {
     "end_time": "2025-02-05T12:24:47.270372Z",
     "start_time": "2025-02-05T12:24:47.266759Z"
    }
   },
   "cell_type": "code",
   "source": "print(f\"{preference_summary_by_smart_assistant=}\")",
   "id": "52760e2dba314959",
   "outputs": [
    {
     "name": "stdout",
     "output_type": "stream",
     "text": [
      "preference_summary_by_smart_assistant=\"I see that you are looking for a comfortable three-bedroom house with a spacious kitchen and a cozy living room in a quiet neighborhood with good local schools and convenient shopping options. You also mentioned wanting a backyard for gardening, a two-car garage, and a modern, energy-efficient heating system. Additionally, you prefer easy access to a reliable bus line, proximity to a major highway, and bike-friendly roads.\\n\\nAre you ready to receive recommendations? Please type 'yes' or 'no'.\"\n"
     ]
    }
   ],
   "execution_count": 226
  },
  {
   "metadata": {
    "ExecuteTime": {
     "end_time": "2025-02-05T12:24:49.208538Z",
     "start_time": "2025-02-05T12:24:48.199377Z"
    }
   },
   "cell_type": "code",
   "source": [
    "most_similar_documents=listings_db.similarity_search(query=preference_summary_by_smart_assistant,k=4)\n",
    "most_similar_documents_string=\"\\n\\n---\\n\".join([most_similar_document.page_content for most_similar_document in most_similar_documents])"
   ],
   "id": "48ff6fb4a33eda2e",
   "outputs": [],
   "execution_count": 227
  },
  {
   "metadata": {
    "ExecuteTime": {
     "end_time": "2025-02-05T12:24:54.218980Z",
     "start_time": "2025-02-05T12:24:49.324565Z"
    }
   },
   "cell_type": "code",
   "source": [
    "response=qa_chain_with_listings_and_personalization(inputs={\"question\":\"yes\",\"listings\":most_similar_documents_string})\n",
    "print(f\"Here's the final response by the assistant which should have relevant listings rephrased to highlight relevant aspects of the description to the user's preferences:\\n\"\n",
    "      f\"{response['answer']}\")"
   ],
   "id": "96488fc1e3912af3",
   "outputs": [
    {
     "name": "stdout",
     "output_type": "stream",
     "text": [
      "Here's the final response by the assistant which should have relevant listings rephrased to highlight relevant aspects of the description to the user's preferences:\n",
      "Great! Based on your preferences for a comfortable three-bedroom house with a spacious kitchen and a cozy living room in a quiet neighborhood with good local schools and convenient shopping options, as well as a backyard for gardening, a two-car garage, and a modern, energy-efficient heating system, I have some listings for you:\n",
      "\n",
      "1. Listing in Oakridge Park:\n",
      "Price: $375,000\n",
      "Bedrooms: 3\n",
      "Bathrooms: 2\n",
      "House Size: 1900 sqft\n",
      "Description: Charming home with a beautifully landscaped backyard perfect for gardening enthusiasts. The open-concept kitchen and living room provide a warm and inviting space for families to relax and entertain.\n",
      "Neighborhood Description: Oakridge Park is a serene and family-friendly neighborhood with excellent schools and easy access to shopping centers and dining options. It's a peaceful retreat for those seeking a quiet yet convenient lifestyle.\n",
      "\n",
      "2. Listing in Willowbrook Park:\n",
      "Price: $475,000\n",
      "Bedrooms: 4\n",
      "Bathrooms: 2\n",
      "House Size: 2000 sqft\n",
      "Description: Elegant home with a chef's kitchen and luxurious bathrooms, ideal for those who appreciate modern design and high-end finishes. The expansive backyard and deck offer a private oasis for outdoor activities and relaxation.\n",
      "Neighborhood Description: Willowbrook Park is an upscale community with well-maintained parks and a strong sense of community. Residents enjoy top-rated schools, upscale shopping, and dining options, making it a desirable location for families and professionals alike.\n",
      "\n",
      "3. Listing in Meadowbrook Heights:\n",
      "Price: $600,000\n",
      "Bedrooms: 3\n",
      "Bathrooms: 2\n",
      "House Size: 2300 sqft\n",
      "Description: Stylish home with a gourmet kitchen and spa-like bathrooms, perfect for those who appreciate contemporary design and luxury. The spacious backyard and deck provide a tranquil space for outdoor entertaining and leisure.\n",
      "Neighborhood Description: Meadowbrook Heights is a modern and upscale neighborhood with exclusive amenities such as community pools, tennis courts, and walking trails. With its proximity to shopping centers, restaurants, and entertainment options, it offers a sophisticated lifestyle for discerning buyers. \n",
      "\n",
      "Would you like more details on any of these listings?\n"
     ]
    }
   ],
   "execution_count": 228
  },
  {
   "metadata": {},
   "cell_type": "markdown",
   "source": [
    "Now it is time to match the provided listings with the person's preferences and comparing to the original descriptions!\n",
    "\n",
    "First we review the original questions and user's answers"
   ],
   "id": "1c9d3a2199d9a461"
  },
  {
   "metadata": {
    "ExecuteTime": {
     "end_time": "2025-02-05T12:25:09.339251Z",
     "start_time": "2025-02-05T12:25:09.333152Z"
    }
   },
   "cell_type": "code",
   "source": [
    "for question, answer in zip(questions,answers):\n",
    "    print(f\"Q: {question}\")\n",
    "    print(f\"a: {answer}\")"
   ],
   "id": "2785fa6424bb8894",
   "outputs": [
    {
     "name": "stdout",
     "output_type": "stream",
     "text": [
      "Q: How big do you want your house to be?What are 3 most important things for you in choosing this property?\n",
      "a: A comfortable three-bedroom house with a spacious kitchen and a cozy living room.\n",
      "Q: Which amenities would you like?\n",
      "a: A quiet neighborhood, good local schools, and convenient shopping options.\n",
      "Q: Which transportation options are important to you?\n",
      "a: A backyard for gardening, a two-car garage, and a modern, energy-efficient heating system.\n",
      "Q: How urban do you want your neighborhood to be?\n",
      "a: Easy access to a reliable bus line, proximity to a major highway, and bike-friendly roads.\n"
     ]
    }
   ],
   "execution_count": 229
  },
  {
   "metadata": {},
   "cell_type": "markdown",
   "source": "As we see, the emphasis is on quiteness of neighborhood and having good schools with proximity to shopping options menioned last. Also the ability to do gardening and a good connection to public transport and roads\n",
   "id": "7393e98ebc77b9af"
  },
  {
   "metadata": {},
   "cell_type": "markdown",
   "source": [
    "Here's the description of the top match as recommended by the smart agent:\n",
    "\n",
    "\"\"\"\n",
    "\n",
    "Description: Charming home with a beautifully landscaped backyard perfect for gardening enthusiasts. The open-concept kitchen and living room provide a warm and inviting space for families to relax and entertain.\n",
    "\n",
    "Neighborhood Description: Oakridge Park is a serene and family-friendly neighborhood with excellent schools and easy access to shopping centers and dining options. It's a peaceful retreat for those seeking a quiet yet convenient lifestyle.\n",
    "\"\"\""
   ],
   "id": "a5cf229db3f85d8"
  },
  {
   "metadata": {},
   "cell_type": "markdown",
   "source": "Finally let's retrieve the original description and neighborhood description of the match",
   "id": "530b96a0f3ec4981"
  },
  {
   "metadata": {
    "ExecuteTime": {
     "end_time": "2025-02-05T12:25:40.017113Z",
     "start_time": "2025-02-05T12:25:40.008408Z"
    }
   },
   "cell_type": "code",
   "source": [
    "\n",
    "neighborhood_top_listing = \"Oakridge Park\"\n",
    "assert len(df[df[\"neighborhood\"] == neighborhood_top_listing]) == 1 # to justify fetching only first row with this neighborhood\n",
    "top_listing_from_df = df[df['neighborhood'] == neighborhood_top_listing].iloc[0]\n",
    "print(f\"The original description of the top listing:\\n{top_listing_from_df['description']}\")\n",
    "print(f\"The original neighborhood description of the top listing:\\n{top_listing_from_df['neighborhood_description']}\")"
   ],
   "id": "eaf36f2a4a0c74ca",
   "outputs": [
    {
     "name": "stdout",
     "output_type": "stream",
     "text": [
      "The original description of the top listing:\n",
      "Traditional home with a spacious backyard and deck for outdoor entertaining and relaxation. The cozy living room and updated kitchen provide a comfortable and inviting space for families to enjoy.\n",
      "The original neighborhood description of the top listing:\n",
      "Oakridge Park is a quiet and friendly neighborhood with well-maintained parks and playgrounds for children to play. Close to shopping centers, restaurants, and schools, making it a convenient and desirable place to live for families and young professionals. \n"
     ]
    }
   ],
   "execution_count": 231
  },
  {
   "metadata": {},
   "cell_type": "markdown",
   "source": [
    "Observing the details we notice, that the AI generated listing\n",
    "- Maintains references to coziness and family-friendliness while creatively rephrasing the description.\n",
    "- Maintains references to proximity to schools, shopping as well as restaurants (calling it 'dining' as opposed to 'restaurants' in the original description) without adding anything else not mentioned\n",
    "- Although the user's preferences mentioned access to public transport and proximity to highway, the LLM does not generate a fake description in this regard maintaining correctness.\n"
   ],
   "id": "33fc7627a35cf36"
  },
  {
   "metadata": {},
   "cell_type": "markdown",
   "source": "**Done! :)**",
   "id": "a25cfa7cdb07b82b"
  },
  {
   "metadata": {},
   "cell_type": "code",
   "outputs": [],
   "execution_count": null,
   "source": "",
   "id": "2d09300a2ce4571c"
  }
 ],
 "metadata": {
  "kernelspec": {
   "display_name": "Python 3 (ipykernel)",
   "language": "python",
   "name": "python3"
  },
  "language_info": {
   "codemirror_mode": {
    "name": "ipython",
    "version": 3
   },
   "file_extension": ".py",
   "mimetype": "text/x-python",
   "name": "python",
   "nbconvert_exporter": "python",
   "pygments_lexer": "ipython3",
   "version": "3.10.11"
  }
 },
 "nbformat": 4,
 "nbformat_minor": 5
}
