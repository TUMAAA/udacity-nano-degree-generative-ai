{
 "cells": [
  {
   "cell_type": "markdown",
   "id": "a108af04",
   "metadata": {},
   "source": "This is a starter notebook for the project, you'll have to import the libraries you'll need, you can find a list of the ones available in this workspace in the requirements.txt file in this workspace."
  },
  {
   "metadata": {},
   "cell_type": "markdown",
   "source": [
    "Step 1: Setup\n",
    "Simply install the provided requirements.txt file by running the following command:\n",
    "```bash\n",
    "pip install -r requirements.txt\n",
    "```"
   ],
   "id": "f16b33edf9bea0a4"
  },
  {
   "metadata": {
    "ExecuteTime": {
     "end_time": "2025-02-04T22:26:04.576042Z",
     "start_time": "2025-02-04T22:26:04.554073Z"
    }
   },
   "cell_type": "code",
   "source": [
    "import os\n",
    "def set_open_ai_api():\n",
    "    os.environ[\"OPENAI_API_KEY\"] =\n",
    "    os.environ[\"OPENAI_API_BASE\"] = \"https://openai.vocareum.com/v1\""
   ],
   "id": "2594c02e7038335f",
   "outputs": [],
   "execution_count": 1
  },
  {
   "metadata": {},
   "cell_type": "markdown",
   "source": "Step 2 & 3: Generating Fake Listings Using LLM and Saving Them",
   "id": "b889282e87639eb1"
  },
  {
   "metadata": {},
   "cell_type": "code",
   "source": [
    "import openai\n",
    "import os\n",
    "\n",
    "from langchain.memory import ConversationBufferMemory\n",
    "from langchain.prompts import FewShotPromptTemplate, PromptTemplate\n",
    "\n",
    "from langchain.llms import OpenAI\n"
   ],
   "id": "6554fd4c",
   "outputs": [],
   "execution_count": null
  },
  {
   "metadata": {},
   "cell_type": "code",
   "source": [
    "from langchain.prompts import PromptTemplate\n",
    "\n",
    "listing_template = PromptTemplate(template=\n",
    "\"\"\"Neighborhood: {neighborhood}\n",
    "Price: ${price}\n",
    "Bedrooms: {bathrooms}\n",
    "Bathrooms: {bedrooms}\n",
    "House Size: {house_size} sqft\n",
    "\n",
    "Description: {description}\n",
    "\n",
    "Neighborhood Description: {neighborhood_description}\n",
    "\"\"\",\n",
    "                                  input_variables=[\"neighborhood\", \"price\", \"bedrooms\", \"bathrooms\",\n",
    "                                                   \"house_size\", \"description\", \"neighborhood_description\"]\n",
    "                                  )\n",
    "\n"
   ],
   "id": "f36c64508ba32437",
   "outputs": [],
   "execution_count": null
  },
  {
   "metadata": {},
   "cell_type": "code",
   "source": [
    "example_inputs = [\n",
    "    {\n",
    "        \"neighborhood\": \"Downtown Abbey\",\n",
    "        \"price\": 300000,\n",
    "        \"bedrooms\": 3,\n",
    "        \"bathrooms\": 2,\n",
    "        \"house_size\": 2000,\n",
    "        \"description\": \"A beautiful appartment with a large terrace overlooking the city's skyscrapers with 3 well-lit bedrooms and 2 bathrooms means you have enough room even for the occasional guest coming over to celebrate new year's with you :)\",\n",
    "        \"neighborhood_description\": \"A vibrant neighborhood which is very centrally located and specially well connected public transport connections means you are close to everything you need for your everyday life from groceries to cafes and restaurants and shopping.\"\n",
    "    },\n",
    "    {\n",
    "        \"neighborhood\": \"City Heights\",\n",
    "        \"price\": 500000,\n",
    "        \"bedrooms\": 4,\n",
    "        \"bathrooms\": 3,\n",
    "        \"house_size\": 3000,\n",
    "        \"description\": \"A cozy house with a wonderful garden overlooking the city from its hillside location\",\n",
    "        \"neighborhood_description\": \"Located in the city outskirts, this neighborhood is known for its great views and quiet streets with a very family-friendly atmosphere. In no time you are in the midst of a beautiful forest where you can calm all your senses and breath in the cool fresh air. Sightings of deer and other wildlife are common.\"\n",
    "    },\n",
    "    {\n",
    "        \"neighborhood\": \"Green Oaks\",\n",
    "        \"price\": 800000,\n",
    "        \"bedrooms\": 3,\n",
    "        \"bathrooms\": 2,\n",
    "        \"house_size\": 2000,\n",
    "        \"description\": \"A luxurious villa with a large garden and a swimming pool with a winter garden, 2 parking spots, and a garage as well as a large terrace and wonderful finishing.\",\n",
    "        \"neighborhood_description\": \"Green Oaks is a close-knit, environmentally-conscious community with access to organic grocery stores, community gardens, and bike paths. Take a stroll through the nearby Green Oaks Park or grab a cup of coffee at the cozy Green Bean Cafe. With easy access to public transportation and bike lanes, commuting is a breeze.\"\n",
    "    }\n",
    "]"
   ],
   "id": "8094d416ccc65557",
   "outputs": [],
   "execution_count": null
  },
  {
   "metadata": {},
   "cell_type": "code",
   "source": [
    "from langchain.prompts import FewShotPromptTemplate\n",
    "\n",
    "few_shot_template = FewShotPromptTemplate(\n",
    "    example_prompt=listing_template,\n",
    "    input_variables=[\"input\"],\n",
    "    examples=example_inputs,\n",
    "    suffix=\"Use the examples above to generate the following: {input}\",\n",
    ")\n",
    "\n",
    "listing_seperator = \"====\"\n",
    "instruction = \"Generate {} listings of houses. Be creative in regards neighborhood_description, and description and keep it confined to three sentences each. Keep the prices between $125000 $1500000, the number of bedrooms under 6 and the number of bathrooms under 3 and the total area under 3500sqft. VERY IMPORTANT: Output the results in the same format as the examples keeping even the order of properties the same as in the examples. Add the characters {} before each new listing\"\n",
    "num_listings = 30\n",
    "prompt_to_use = few_shot_template.format(input=instruction.format(num_listings, listing_seperator))\n",
    "\n"
   ],
   "id": "6a9ee6cdc321048f",
   "outputs": [],
   "execution_count": null
  },
  {
   "metadata": {},
   "cell_type": "code",
   "source": "print(prompt_to_use)",
   "id": "3cfb03ee3d0c4801",
   "outputs": [],
   "execution_count": null
  },
  {
   "metadata": {},
   "cell_type": "code",
   "source": [
    "from langchain.chat_models import ChatOpenAI\n",
    "\n",
    "model_name = \"gpt-3.5-turbo\"\n",
    "llm = OpenAI(model_name=model_name, temperature=0.0, max_tokens=3500)"
   ],
   "id": "86884cbacd1ab1e8",
   "outputs": [],
   "execution_count": null
  },
  {
   "metadata": {},
   "cell_type": "code",
   "source": "result = llm(prompt=prompt_to_use)",
   "id": "3cf33c8cf1d7b096",
   "outputs": [],
   "execution_count": null
  },
  {
   "metadata": {},
   "cell_type": "code",
   "source": "print(f\"LLM result:\\n{result}\")",
   "id": "b8c37949bcf87a8c",
   "outputs": [],
   "execution_count": null
  },
  {
   "metadata": {},
   "cell_type": "code",
   "source": [
    "import pandas as pd\n",
    "import locale\n",
    "import re\n",
    "\n",
    "# Set the locale to 'en_US.UTF-8' for parsing numbers with commas\n",
    "locale.setlocale(locale.LC_ALL, 'en_US.UTF-8')\n",
    "\n",
    "# Split the result into individual listings\n",
    "listings = result.split(listing_seperator)[1:]\n",
    "# print(f\"Here are the listings in a list:\\n{listings}\")\n",
    "\n",
    "# Define the columns based on input_variables\n",
    "columns = [\"neighborhood\", \"price\", \"bedrooms\", \"bathrooms\", \"house_size\", \"description\", \"neighborhood_description\"]\n",
    "\n",
    "# Parse the listings into a list of dictionaries\n",
    "data = []\n",
    "for listing in listings:\n",
    "    print(f\"Parsing listing: {listing[1:150]} ...\\n\")\n",
    "    try:\n",
    "        entry = {\n",
    "            \"neighborhood\": re.search(r\"^Neighborhood: (.+)$\", listing, re.MULTILINE).group(1),\n",
    "            \"price\": locale.atoi(re.search(r\"^Price: \\$(.+)$\", listing, re.MULTILINE).group(1)),\n",
    "            \"bedrooms\": int(re.search(r\"^Bedrooms: (.+)$\", listing, re.MULTILINE).group(1)),\n",
    "            \"bathrooms\": int(re.search(r\"^Bathrooms: (.+)$\", listing, re.MULTILINE).group(1)),\n",
    "            \"house_size\": locale.atoi(re.search(r\"^House Size: (.+) sqft$\", listing, re.MULTILINE).group(1)),\n",
    "            \"description\": re.search(r\"^Description: (.+)$\", listing, re.MULTILINE).group(1),\n",
    "            \"neighborhood_description\": re.search(r\"^Neighborhood Description: (.+)$\", listing, re.MULTILINE).group(1)\n",
    "        }\n",
    "\n",
    "        data.append(entry)\n",
    "    except Exception as e:\n",
    "        print(\"Error parsing listing\")\n",
    "        print(listing)\n",
    "        print(f\"Because of \\n{e}\")\n",
    "        print(\"\\n\")\n",
    "        continue\n",
    "\n",
    "# Create a DataFrame\n",
    "df = pd.DataFrame(data, columns=columns)"
   ],
   "id": "89351e21daeb7518",
   "outputs": [],
   "execution_count": null
  },
  {
   "metadata": {},
   "cell_type": "markdown",
   "source": "Let's view the dataframe and assert the generated input makes sense and finally save into a csv.",
   "id": "efc06af90829babd"
  },
  {
   "metadata": {},
   "cell_type": "code",
   "source": "df.head(n=num_listings)",
   "id": "5b2439da5ae0b789",
   "outputs": [],
   "execution_count": null
  },
  {
   "metadata": {},
   "cell_type": "code",
   "source": "df.to_csv(\"listings.csv\", index=False)\n",
   "id": "6514bf1ff2822262",
   "outputs": [],
   "execution_count": null
  },
  {
   "metadata": {},
   "cell_type": "markdown",
   "source": "Step 4: Building the User Preference Interface",
   "id": "66a8a1af40f8cde1"
  },
  {
   "metadata": {
    "ExecuteTime": {
     "end_time": "2025-02-04T22:26:11.270609Z",
     "start_time": "2025-02-04T22:26:09.969376Z"
    }
   },
   "cell_type": "code",
   "source": [
    "from langchain.llms import OpenAIChat\n",
    "set_open_ai_api()\n",
    "llm = OpenAIChat(temperature=0)"
   ],
   "id": "ea443f3aea0c6b13",
   "outputs": [
    {
     "name": "stderr",
     "output_type": "stream",
     "text": [
      "/home/tumaaa/work/repos/udacity_nano_degree_generative_ai/.venv/lib/python3.10/site-packages/langchain/llms/openai.py:790: UserWarning: You are trying to use a chat model. This way of initializing it is no longer supported. Instead, please use: `from langchain.chat_models import ChatOpenAI`\n",
      "  warnings.warn(\n"
     ]
    }
   ],
   "execution_count": 2
  },
  {
   "metadata": {
    "ExecuteTime": {
     "end_time": "2025-02-04T22:26:11.283143Z",
     "start_time": "2025-02-04T22:26:11.277707Z"
    }
   },
   "cell_type": "code",
   "source": [
    "# Hard-coding the user preferences using the ones provided in the project - with minor modifications - for reproducibility purposes wit\n",
    "\n",
    "answers = [\n",
    "    \"A comfortable house with at least 3 bedrooms with a spacious kitchen and a cozy living room with at least 2000sqft\",\n",
    "    \"A quiet neighborhood, good local schools, and convenient shopping options.\",\n",
    "    \"$500,000\",\n",
    "    \"A backyard for gardening, a two-car garage, and a modern, energy-efficient heating system.\",\n",
    "    \"Easy access to a reliable bus line, proximity to a major highway, and bike-friendly roads.\",\n",
    "    \"A balance between suburban tranquility and access to urban amenities like restaurants and theaters.\"\n",
    "    ]\n",
    "questions = [\n",
    "    \"How big should your house be?\",\n",
    "    \"What are 3 most important things for you in choosing this property?\",\n",
    "    \"What is the maximum price you would be willing to pay?\"\n",
    "    \"Which amenities would you like?\",\n",
    "    \"Which transportation options are important to you?\",\n",
    "    \"How urban do you want your neighborhood to be?\",\n",
    "]"
   ],
   "id": "411154d8f358fe5b",
   "outputs": [],
   "execution_count": 3
  },
  {
   "metadata": {},
   "cell_type": "markdown",
   "source": "We create a conversation chain with memory and simulate the question - answer interaction such that we feed its memory with the questions and answers",
   "id": "ef82fb074335c953"
  },
  {
   "metadata": {
    "ExecuteTime": {
     "end_time": "2025-02-04T22:26:12.733519Z",
     "start_time": "2025-02-04T22:26:11.943189Z"
    }
   },
   "cell_type": "code",
   "source": [
    "from langchain.memory import ChatMessageHistory\n",
    "def create_chat_message_history(questions, answers):\n",
    "    chat_message_history=ChatMessageHistory()\n",
    "    for question, answer in zip(questions, answers):\n",
    "        chat_message_history.add_ai_message(question)\n",
    "        chat_message_history.add_user_message(answer)\n",
    "    return chat_message_history"
   ],
   "id": "84228141497c9b68",
   "outputs": [],
   "execution_count": 4
  },
  {
   "metadata": {
    "ExecuteTime": {
     "end_time": "2025-02-04T22:41:09.608719Z",
     "start_time": "2025-02-04T22:41:09.604741Z"
    }
   },
   "cell_type": "code",
   "source": [
    "base_system_prompt = \"\"\"You are a real estate agent. You have a new client who is looking for a new home.\n",
    "\n",
    "The client has provided answers to important questions in the context. First ask the user if he/she is ready to receive recommendations.\n",
    "\n",
    "If he/she enters says 'yes', summarize your understanding of the user preferences and ask the user if he/she is ready to receive recommendations telling the user to either type 'yes' or 'no'; If he types 'yes' you first write a summary of his/her preferences. Upon another 'yes' you make your recommednations.\"\"\""
   ],
   "id": "2632b1ae6bd53e9d",
   "outputs": [],
   "execution_count": 29
  },
  {
   "metadata": {
    "ExecuteTime": {
     "end_time": "2025-02-04T22:41:10.787046Z",
     "start_time": "2025-02-04T22:41:10.781041Z"
    }
   },
   "cell_type": "code",
   "source": [
    "from langchain.chains import ConversationChain\n",
    "from langchain.memory import ConversationBufferMemory\n",
    "from langchain.prompts import PromptTemplate\n",
    "\n",
    "memory=ConversationBufferMemory(conversation_history=create_chat_message_history(questions,answers), llm=llm, chat_memory=create_chat_message_history(questions,answers),memory_key=\"context\")\n",
    "\n",
    "qa_template = PromptTemplate(template=\n",
    "                             (\"\"\"%s\n",
    "\n",
    "Context: {context}\n",
    "\n",
    "Question: {question}\n",
    "\"\"\" % base_system_prompt),\n",
    "                             input_variables=[\"context\", \"question\"]\n",
    "                             )\n",
    "qa_chain = ConversationChain(llm=llm,  memory=memory, prompt=qa_template,input_key=\"question\",output_key=\"answer\", verbose=False)\n"
   ],
   "id": "36df5f4109fbe3fc",
   "outputs": [],
   "execution_count": 30
  },
  {
   "metadata": {
    "ExecuteTime": {
     "end_time": "2025-02-04T22:41:13.977233Z",
     "start_time": "2025-02-04T22:41:12.056424Z"
    }
   },
   "cell_type": "code",
   "source": [
    "\n",
    "\n",
    "question = \"I am waiting for your recommendations\"\n",
    "print(f\"The user asked: {question}\")\n",
    "response=qa_chain(inputs={\"question\": question})\n",
    "print(f\"The smart agent answered: {response['answer']}\")\n"
   ],
   "id": "41e31e5567e63757",
   "outputs": [
    {
     "name": "stdout",
     "output_type": "stream",
     "text": [
      "The user asked: I am waiting for your recommendations\n",
      "The smart agent answered: Are you ready to receive recommendations? Please type 'yes' or 'no'.\n"
     ]
    }
   ],
   "execution_count": 31
  },
  {
   "metadata": {
    "ExecuteTime": {
     "end_time": "2025-02-04T22:41:28.211346Z",
     "start_time": "2025-02-04T22:41:26.032114Z"
    }
   },
   "cell_type": "code",
   "source": [
    "question = \"yes\"\n",
    "print(f\"The user asked: {question}\")\n",
    "response=qa_chain(inputs={\"question\": question})\n",
    "print(f\"The smart agent answered: {response['answer']}\")"
   ],
   "id": "5baf0790ed822b12",
   "outputs": [
    {
     "name": "stdout",
     "output_type": "stream",
     "text": [
      "The user asked: yes\n",
      "The smart agent answered: Great! Based on your preferences, it sounds like you are looking for a comfortable home with at least 3 bedrooms, a spacious kitchen, and a cozy living room in a quiet neighborhood with good local schools and convenient shopping options. You are looking to spend up to $500,000 and would like a backyard for gardening, a two-car garage, and a modern, energy-efficient heating system. You also value easy access to transportation options such as a reliable bus line, proximity to a major highway, and bike-friendly roads.\n",
      "\n",
      "Are you ready to receive recommendations? Please type 'yes' or 'no'.\n"
     ]
    }
   ],
   "execution_count": 32
  },
  {
   "metadata": {
    "ExecuteTime": {
     "end_time": "2025-02-04T22:32:33.070431Z",
     "start_time": "2025-02-04T22:32:30.490560Z"
    }
   },
   "cell_type": "code",
   "source": [
    "question = \"yes\"\n",
    "print(f\"The user asked: {question}\")\n",
    "response=qa_chain(inputs={\"question\": question})\n",
    "print(f\"The smart agent answered: {response['answer']}\")"
   ],
   "id": "ebfac554041f7257",
   "outputs": [
    {
     "name": "stdout",
     "output_type": "stream",
     "text": [
      "The user asked: yes\n",
      "The smart agent answered: Based on your preferences, I recommend the following properties:\n",
      "\n",
      "1. A 3-bedroom house with a spacious kitchen, cozy living room, and backyard for gardening in a quiet neighborhood with good local schools and convenient shopping options. This property is within your budget of $500,000 and includes a two-car garage and modern, energy-efficient heating system. It is also located near a reliable bus line, major highway, and bike-friendly roads.\n",
      "\n",
      "2. A similar property with additional features such as a deck for outdoor entertaining and a home office space.\n",
      "\n",
      "3. A townhouse with 3 bedrooms, a modern kitchen, and a garage in a family-friendly neighborhood with access to schools and shopping. This property also includes a backyard and energy-efficient heating system.\n",
      "\n",
      "Let me know if you would like more details on any of these recommendations!\n"
     ]
    }
   ],
   "execution_count": 17
  },
  {
   "metadata": {},
   "cell_type": "markdown",
   "source": "We can see the result above is totally fake. Let's see what we can do about this using our generated listings and vector db'",
   "id": "f45debf39c598535"
  },
  {
   "metadata": {},
   "cell_type": "markdown",
   "source": "",
   "id": "756ab9e1be095345"
  },
  {
   "metadata": {},
   "cell_type": "markdown",
   "source": "Step 5: Using the Generated Listings to Provide Real Context",
   "id": "f0def69451805aa7"
  },
  {
   "metadata": {
    "ExecuteTime": {
     "end_time": "2025-02-04T23:00:30.211079Z",
     "start_time": "2025-02-04T23:00:30.084442Z"
    }
   },
   "cell_type": "code",
   "source": [
    "# Here is the error\n",
    "from langchain.chains import ConversationChain\n",
    "from langchain.memory import ConversationBufferMemory\n",
    "from langchain.prompts import PromptTemplate\n",
    "\n",
    "memory_with_listings=ConversationBufferMemory(conversation_history=create_chat_message_history(questions,answers), llm=llm, chat_memory=create_chat_message_history(questions,answers),memory_key=\"context\")\n",
    "\n",
    "\n",
    "def create_prompt_template_with_listings(most_similar_documents_string):\n",
    "    return PromptTemplate(template=\n",
    "                          ((\"\"\"%s. ONLY PROVIDE RECOMME. IF NO LISTINGS ANSWER 'I DON'T HAVE SUITABLE LISTINGS'\n",
    "\n",
    "Context: {context}\n",
    "\n",
    "Listings: {listings}\n",
    "\n",
    "Question: {question}\n",
    "\"\"\") % base_system_prompt),\n",
    "                          input_variables=[\"context\", \"listings\", \"question\"]\n",
    "                          )\n",
    "\n",
    "\n",
    "qa_template_with_listings = create_prompt_template_with_listings(\"\")\n",
    "\n",
    "qa_chain_with_listings = ConversationChain(llm=llm,  memory=memory_with_listings, prompt=qa_template_with_listings,input_key=\"question\" ,output_key=\"answer\", verbose=False)\n",
    "\n"
   ],
   "id": "641dc03f5ca9bdff",
   "outputs": [
    {
     "ename": "ValidationError",
     "evalue": "1 validation error for ConversationChain\n__root__\n  Got unexpected prompt input variables. The prompt expects ['context', 'listings', 'question'], but got ['context'] as inputs from memory, and question as the normal input key. (type=value_error)",
     "output_type": "error",
     "traceback": [
      "\u001B[0;31m---------------------------------------------------------------------------\u001B[0m",
      "\u001B[0;31mValidationError\u001B[0m                           Traceback (most recent call last)",
      "Cell \u001B[0;32mIn[65], line 24\u001B[0m\n\u001B[1;32m      9\u001B[0m     \u001B[38;5;28;01mreturn\u001B[39;00m PromptTemplate(template\u001B[38;5;241m=\u001B[39m\n\u001B[1;32m     10\u001B[0m                           ((\u001B[38;5;124m\"\"\"\u001B[39m\u001B[38;5;132;01m%s\u001B[39;00m\u001B[38;5;124m. ONLY PROVIDE RECOMME. IF NO LISTINGS ANSWER \u001B[39m\u001B[38;5;124m'\u001B[39m\u001B[38;5;124mI DON\u001B[39m\u001B[38;5;124m'\u001B[39m\u001B[38;5;124mT HAVE SUITABLE LISTINGS\u001B[39m\u001B[38;5;124m'\u001B[39m\n\u001B[1;32m     11\u001B[0m \n\u001B[0;32m   (...)\u001B[0m\n\u001B[1;32m     18\u001B[0m                           input_variables\u001B[38;5;241m=\u001B[39m[\u001B[38;5;124m\"\u001B[39m\u001B[38;5;124mcontext\u001B[39m\u001B[38;5;124m\"\u001B[39m, \u001B[38;5;124m\"\u001B[39m\u001B[38;5;124mlistings\u001B[39m\u001B[38;5;124m\"\u001B[39m, \u001B[38;5;124m\"\u001B[39m\u001B[38;5;124mquestion\u001B[39m\u001B[38;5;124m\"\u001B[39m]\n\u001B[1;32m     19\u001B[0m                           )\n\u001B[1;32m     22\u001B[0m qa_template_with_listings \u001B[38;5;241m=\u001B[39m create_prompt_template_with_listings(\u001B[38;5;124m\"\u001B[39m\u001B[38;5;124m\"\u001B[39m)\n\u001B[0;32m---> 24\u001B[0m qa_chain_with_listings \u001B[38;5;241m=\u001B[39m \u001B[43mConversationChain\u001B[49m\u001B[43m(\u001B[49m\u001B[43mllm\u001B[49m\u001B[38;5;241;43m=\u001B[39;49m\u001B[43mllm\u001B[49m\u001B[43m,\u001B[49m\u001B[43m  \u001B[49m\u001B[43mmemory\u001B[49m\u001B[38;5;241;43m=\u001B[39;49m\u001B[43mmemory_with_listings\u001B[49m\u001B[43m,\u001B[49m\u001B[43m \u001B[49m\u001B[43mprompt\u001B[49m\u001B[38;5;241;43m=\u001B[39;49m\u001B[43mqa_template_with_listings\u001B[49m\u001B[43m,\u001B[49m\u001B[43minput_key\u001B[49m\u001B[38;5;241;43m=\u001B[39;49m\u001B[38;5;124;43m\"\u001B[39;49m\u001B[38;5;124;43mquestion\u001B[39;49m\u001B[38;5;124;43m\"\u001B[39;49m\u001B[43m \u001B[49m\u001B[43m,\u001B[49m\u001B[43moutput_key\u001B[49m\u001B[38;5;241;43m=\u001B[39;49m\u001B[38;5;124;43m\"\u001B[39;49m\u001B[38;5;124;43manswer\u001B[39;49m\u001B[38;5;124;43m\"\u001B[39;49m\u001B[43m,\u001B[49m\u001B[43m \u001B[49m\u001B[43mverbose\u001B[49m\u001B[38;5;241;43m=\u001B[39;49m\u001B[38;5;28;43;01mFalse\u001B[39;49;00m\u001B[43m)\u001B[49m\n",
      "File \u001B[0;32m~/work/repos/udacity_nano_degree_generative_ai/.venv/lib/python3.10/site-packages/langchain/load/serializable.py:90\u001B[0m, in \u001B[0;36mSerializable.__init__\u001B[0;34m(self, **kwargs)\u001B[0m\n\u001B[1;32m     89\u001B[0m \u001B[38;5;28;01mdef\u001B[39;00m\u001B[38;5;250m \u001B[39m\u001B[38;5;21m__init__\u001B[39m(\u001B[38;5;28mself\u001B[39m, \u001B[38;5;241m*\u001B[39m\u001B[38;5;241m*\u001B[39mkwargs: Any) \u001B[38;5;241m-\u001B[39m\u001B[38;5;241m>\u001B[39m \u001B[38;5;28;01mNone\u001B[39;00m:\n\u001B[0;32m---> 90\u001B[0m     \u001B[38;5;28;43msuper\u001B[39;49m\u001B[43m(\u001B[49m\u001B[43m)\u001B[49m\u001B[38;5;241;43m.\u001B[39;49m\u001B[38;5;21;43m__init__\u001B[39;49m\u001B[43m(\u001B[49m\u001B[38;5;241;43m*\u001B[39;49m\u001B[38;5;241;43m*\u001B[39;49m\u001B[43mkwargs\u001B[49m\u001B[43m)\u001B[49m\n\u001B[1;32m     91\u001B[0m     \u001B[38;5;28mself\u001B[39m\u001B[38;5;241m.\u001B[39m_lc_kwargs \u001B[38;5;241m=\u001B[39m kwargs\n",
      "File \u001B[0;32m~/work/repos/udacity_nano_degree_generative_ai/.venv/lib/python3.10/site-packages/pydantic/main.py:347\u001B[0m, in \u001B[0;36mpydantic.main.BaseModel.__init__\u001B[0;34m()\u001B[0m\n",
      "\u001B[0;31mValidationError\u001B[0m: 1 validation error for ConversationChain\n__root__\n  Got unexpected prompt input variables. The prompt expects ['context', 'listings', 'question'], but got ['context'] as inputs from memory, and question as the normal input key. (type=value_error)"
     ]
    }
   ],
   "execution_count": 65
  },
  {
   "metadata": {
    "ExecuteTime": {
     "end_time": "2025-02-04T22:49:24.353052Z",
     "start_time": "2025-02-04T22:49:22.995848Z"
    }
   },
   "cell_type": "code",
   "source": "response=qa_chain_with_listings(inputs={\"question\":\"I am waiting for your recommendations\"})",
   "id": "89878df086aab691",
   "outputs": [],
   "execution_count": 51
  },
  {
   "metadata": {
    "ExecuteTime": {
     "end_time": "2025-02-04T22:49:26.667822Z",
     "start_time": "2025-02-04T22:49:26.660483Z"
    }
   },
   "cell_type": "code",
   "source": "print(f\"The smart assistant answered: {response['answer']}\")",
   "id": "b711560aaab4d626",
   "outputs": [
    {
     "name": "stdout",
     "output_type": "stream",
     "text": [
      "The smart assistant summarized the preferences as: Are you ready to receive recommendations? Please type 'yes' or 'no'.\n"
     ]
    }
   ],
   "execution_count": 52
  },
  {
   "metadata": {
    "ExecuteTime": {
     "end_time": "2025-02-04T22:49:31.440233Z",
     "start_time": "2025-02-04T22:49:29.042999Z"
    }
   },
   "cell_type": "code",
   "source": [
    "response=qa_chain_with_listings(inputs={\"question\":\"yes\"})\n",
    "print(f\"The smart assistant answered: {response['answer']}\")"
   ],
   "id": "e3a5ab93bf030bae",
   "outputs": [
    {
     "name": "stdout",
     "output_type": "stream",
     "text": [
      "The smart assistant answered: Great! Based on your preferences, it sounds like you are looking for a comfortable house with at least 3 bedrooms, a spacious kitchen, and a cozy living room with at least 2000sqft. You value a quiet neighborhood, good local schools, and convenient shopping options. Your maximum budget is $500,000 and you are looking for a property with a backyard for gardening, a two-car garage, and a modern, energy-efficient heating system. You also prefer easy access to a reliable bus line, proximity to a major highway, and bike-friendly roads.\n",
      "\n",
      "Are you ready to receive recommendations? Please type 'yes' or 'no'.\n"
     ]
    }
   ],
   "execution_count": 53
  },
  {
   "metadata": {
    "ExecuteTime": {
     "end_time": "2025-02-04T22:51:31.465537Z",
     "start_time": "2025-02-04T22:51:31.462347Z"
    }
   },
   "cell_type": "code",
   "source": "preference_summary_by_smart_assistant=response['answer']",
   "id": "742ba5ba22367f3a",
   "outputs": [],
   "execution_count": 55
  },
  {
   "metadata": {},
   "cell_type": "markdown",
   "source": "Now we use the preference summary by the smart assistant to retreive suitable listings from the vector db",
   "id": "5edf77780a1f761c"
  },
  {
   "metadata": {
    "ExecuteTime": {
     "end_time": "2025-02-04T22:51:32.458141Z",
     "start_time": "2025-02-04T22:51:32.452361Z"
    }
   },
   "cell_type": "code",
   "source": "preference_summary",
   "id": "fcb88bf07a48fa70",
   "outputs": [
    {
     "data": {
      "text/plain": [
       "\"Are you ready to receive recommendations? Please type 'yes' or 'no'.\""
      ]
     },
     "execution_count": 56,
     "metadata": {},
     "output_type": "execute_result"
    }
   ],
   "execution_count": 56
  },
  {
   "metadata": {
    "ExecuteTime": {
     "end_time": "2025-02-04T22:51:36.404265Z",
     "start_time": "2025-02-04T22:51:36.397276Z"
    }
   },
   "cell_type": "code",
   "source": [
    "from langchain.document_loaders import CSVLoader\n",
    "import random\n",
    "\n",
    "set_open_ai_api()\n",
    "listings_loader = CSVLoader(\"listings.csv\")\n",
    "listing_documents=listings_loader.load()\n",
    "print(f\"There are {len(listing_documents)} listings loaded\")\n",
    "sample_listings = random.sample(listing_documents, 2)\n",
    "print(f\"Here are two sample loaded listings:\\n{sample_listings}\")"
   ],
   "id": "84bd824b8f76f239",
   "outputs": [
    {
     "name": "stdout",
     "output_type": "stream",
     "text": [
      "There are 28 listings loaded\n",
      "Here are two sample loaded listings:\n",
      "[Document(page_content='neighborhood: Riverfront Estates\\nprice: 900000\\nbedrooms: 5\\nbathrooms: 2\\nhouse_size: 3200\\ndescription: Elegant waterfront property with a private dock and panoramic views of the river. The spacious bedrooms and gourmet kitchen make this home perfect for hosting gatherings and creating lasting memories.\\nneighborhood_description: Riverfront Estates is a prestigious neighborhood known for its luxury homes and serene waterfront living. Residents enjoy access to boating, fishing, and other water activities, as well as proximity to upscale dining and shopping options.', metadata={'source': 'listings.csv', 'row': 2}), Document(page_content='neighborhood: Meadowview Park\\nprice: 700000\\nbedrooms: 5\\nbathrooms: 2\\nhouse_size: 2500\\ndescription: Spacious two-story home with a large backyard and deck for outdoor gatherings and relaxation. The updated kitchen and cozy living room provide a comfortable and inviting space for families to enjoy.\\nneighborhood_description: Meadowview Park is a family-friendly neighborhood with top-rated schools and community parks for children to play and explore. Close to shopping centers, restaurants, and recreational facilities, making it a convenient and desirable place to live for families and young professionals.', metadata={'source': 'listings.csv', 'row': 26})]\n"
     ]
    }
   ],
   "execution_count": 57
  },
  {
   "metadata": {
    "ExecuteTime": {
     "end_time": "2025-02-04T22:51:45.854177Z",
     "start_time": "2025-02-04T22:51:43.234392Z"
    }
   },
   "cell_type": "code",
   "source": [
    "from langchain.vectorstores import Chroma\n",
    "from langchain.embeddings import OpenAIEmbeddings\n",
    "\n",
    "\n",
    "embeddings_model=OpenAIEmbeddings()\n",
    "listings_db=Chroma.from_documents(documents=listing_documents,embedding=embeddings_model)\n"
   ],
   "id": "58a49f888ac6ec21",
   "outputs": [],
   "execution_count": 58
  },
  {
   "metadata": {
    "ExecuteTime": {
     "end_time": "2025-02-04T22:51:47.953928Z",
     "start_time": "2025-02-04T22:51:46.734233Z"
    }
   },
   "cell_type": "code",
   "source": [
    "most_similar_documents=listings_db.similarity_search(query=preference_summary_by_smart_assistant,k=5)\n",
    "print(f\"Most similar documents to the user preferences: {most_similar_documents}\")"
   ],
   "id": "31209d85927197e8",
   "outputs": [
    {
     "name": "stdout",
     "output_type": "stream",
     "text": [
      "Most similar documents to the user preferences: [Document(page_content='neighborhood: Cedarwood Village\\nprice: 225000\\nbedrooms: 3\\nbathrooms: 2\\nhouse_size: 1600\\ndescription: Cozy home with a spacious backyard and deck for outdoor gatherings and relaxation. The open floor plan and large windows create a bright and inviting atmosphere throughout the house.\\nneighborhood_description: Cedarwood Village is a family-friendly neighborhood with tree-lined streets and nearby parks for outdoor activities. Close to schools, shopping centers, and restaurants, making it a convenient and welcoming place to call home.', metadata={'row': 24, 'source': 'listings.csv'}), Document(page_content='neighborhood: Cedarwood Village\\nprice: 225000\\nbedrooms: 3\\nbathrooms: 2\\nhouse_size: 1600\\ndescription: Cozy home with a spacious backyard and deck for outdoor gatherings and relaxation. The open floor plan and large windows create a bright and inviting atmosphere throughout the house.\\nneighborhood_description: Cedarwood Village is a family-friendly neighborhood with tree-lined streets and nearby parks for outdoor activities. Close to schools, shopping centers, and restaurants, making it a convenient and welcoming place to call home.', metadata={'row': 24, 'source': 'listings.csv'}), Document(page_content='neighborhood: Cedarwood Village\\nprice: 225000\\nbedrooms: 3\\nbathrooms: 2\\nhouse_size: 1600\\ndescription: Cozy home with a spacious backyard and deck for outdoor gatherings and relaxation. The open floor plan and large windows create a bright and inviting atmosphere throughout the house.\\nneighborhood_description: Cedarwood Village is a family-friendly neighborhood with tree-lined streets and nearby parks for outdoor activities. Close to schools, shopping centers, and restaurants, making it a convenient and welcoming place to call home.', metadata={'row': 24, 'source': 'listings.csv'}), Document(page_content='neighborhood: Oakridge Park\\nprice: 375000\\nbedrooms: 3\\nbathrooms: 2\\nhouse_size: 1900\\ndescription: Traditional home with a spacious backyard and deck for outdoor entertaining and relaxation. The cozy living room and updated kitchen provide a comfortable and inviting space for families to enjoy.\\nneighborhood_description: Oakridge Park is a quiet and friendly neighborhood with well-maintained parks and playgrounds for children to play. Close to shopping centers, restaurants, and schools, making it a convenient and desirable place to live for families and young professionals.', metadata={'row': 10, 'source': 'listings.csv'}), Document(page_content='neighborhood: Oakridge Park\\nprice: 375000\\nbedrooms: 3\\nbathrooms: 2\\nhouse_size: 1900\\ndescription: Traditional home with a spacious backyard and deck for outdoor entertaining and relaxation. The cozy living room and updated kitchen provide a comfortable and inviting space for families to enjoy.\\nneighborhood_description: Oakridge Park is a quiet and friendly neighborhood with well-maintained parks and playgrounds for children to play. Close to shopping centers, restaurants, and schools, making it a convenient and desirable place to live for families and young professionals.', metadata={'row': 10, 'source': 'listings.csv'})]\n"
     ]
    }
   ],
   "execution_count": 59
  },
  {
   "metadata": {
    "ExecuteTime": {
     "end_time": "2025-02-04T22:52:57.943431Z",
     "start_time": "2025-02-04T22:52:57.929068Z"
    }
   },
   "cell_type": "code",
   "source": "most_similar_documents_string=\"\\n\\n---\\n\".join([most_similar_document.page_content for most_similar_document in most_similar_documents])",
   "id": "b6b360fef4cb7238",
   "outputs": [
    {
     "ename": "SyntaxError",
     "evalue": "invalid syntax (4019695576.py, line 1)",
     "output_type": "error",
     "traceback": [
      "\u001B[0;36m  Cell \u001B[0;32mIn[61], line 1\u001B[0;36m\u001B[0m\n\u001B[0;31m    most_similar_documents_string=\"\\n\\n---\\n\".join([most_similar_document.page_content for qa_chain_with_listings_filled=most_similar_document in most_similar_documents])\u001B[0m\n\u001B[0m                                                                                                                        ^\u001B[0m\n\u001B[0;31mSyntaxError\u001B[0m\u001B[0;31m:\u001B[0m invalid syntax\n"
     ]
    }
   ],
   "execution_count": 61
  },
  {
   "metadata": {
    "ExecuteTime": {
     "end_time": "2025-02-04T22:53:50.823505Z",
     "start_time": "2025-02-04T22:53:50.816708Z"
    }
   },
   "cell_type": "code",
   "source": "qa_template_with_listings_filled=create_prompt_template_with_listings(most_similar_documents_string=most_similar_documents_string)",
   "id": "4434fb4171163bd",
   "outputs": [],
   "execution_count": 62
  },
  {
   "metadata": {
    "ExecuteTime": {
     "end_time": "2025-02-04T22:54:40.121522Z",
     "start_time": "2025-02-04T22:54:40.041327Z"
    }
   },
   "cell_type": "code",
   "source": "qa_chain_with_listings.template=qa_template_with_listings_filled",
   "id": "f536c9f8f2f0bf03",
   "outputs": [
    {
     "ename": "ValueError",
     "evalue": "\"ConversationChain\" object has no field \"template\"",
     "output_type": "error",
     "traceback": [
      "\u001B[0;31m---------------------------------------------------------------------------\u001B[0m",
      "\u001B[0;31mValueError\u001B[0m                                Traceback (most recent call last)",
      "Cell \u001B[0;32mIn[63], line 1\u001B[0m\n\u001B[0;32m----> 1\u001B[0m \u001B[43mqa_chain_with_listings\u001B[49m\u001B[38;5;241;43m.\u001B[39;49m\u001B[43mtemplate\u001B[49m\u001B[38;5;241m=\u001B[39mqa_template_with_listings_filled\n",
      "File \u001B[0;32m~/work/repos/udacity_nano_degree_generative_ai/.venv/lib/python3.10/site-packages/pydantic/main.py:363\u001B[0m, in \u001B[0;36mpydantic.main.BaseModel.__setattr__\u001B[0;34m()\u001B[0m\n",
      "\u001B[0;31mValueError\u001B[0m: \"ConversationChain\" object has no field \"template\""
     ]
    }
   ],
   "execution_count": 63
  },
  {
   "metadata": {},
   "cell_type": "code",
   "outputs": [],
   "execution_count": null,
   "source": "",
   "id": "34ad51e7a3b3b05f"
  }
 ],
 "metadata": {
  "kernelspec": {
   "display_name": "Python 3 (ipykernel)",
   "language": "python",
   "name": "python3"
  },
  "language_info": {
   "codemirror_mode": {
    "name": "ipython",
    "version": 3
   },
   "file_extension": ".py",
   "mimetype": "text/x-python",
   "name": "python",
   "nbconvert_exporter": "python",
   "pygments_lexer": "ipython3",
   "version": "3.10.11"
  }
 },
 "nbformat": 4,
 "nbformat_minor": 5
}
