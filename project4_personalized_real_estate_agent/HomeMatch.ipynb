{
 "cells": [
  {
   "cell_type": "markdown",
   "id": "a108af04",
   "metadata": {},
   "source": "This is a starter notebook for the project, you'll have to import the libraries you'll need, you can find a list of the ones available in this workspace in the requirements.txt file in this workspace."
  },
  {
   "metadata": {},
   "cell_type": "markdown",
   "source": [
    "Step 1: Setup\n",
    "Simply install the provided requirements.txt file by running the following command:\n",
    "```bash\n",
    "pip install -r requirements.txt\n",
    "```"
   ],
   "id": "f16b33edf9bea0a4"
  },
  {
   "metadata": {
    "ExecuteTime": {
     "end_time": "2025-02-05T00:38:02.900740Z",
     "start_time": "2025-02-05T00:38:02.897260Z"
    }
   },
   "cell_type": "code",
   "source": [
    "import os\n",
    "def set_open_ai_api():\n",
    "    os.environ[\"OPENAI_API_KEY\"] = # api key removed afger runningcell\n",
    "    os.environ[\"OPENAI_API_BASE\"] = \"https://openai.vocareum.com/v1\""
   ],
   "id": "2594c02e7038335f",
   "outputs": [],
   "execution_count": 242
  },
  {
   "metadata": {},
   "cell_type": "markdown",
   "source": "You can now directly skip to step 4 since the fake listings have been saved for you and since each new run of the cells of step 2&3 would generate a new set of listings (reproducibility!).",
   "id": "17995c2e2d714b20"
  },
  {
   "metadata": {},
   "cell_type": "markdown",
   "source": "Step 2 & 3: Generating Fake Listings Using LLM and Saving Them",
   "id": "b889282e87639eb1"
  },
  {
   "metadata": {},
   "cell_type": "code",
   "source": [
    "import openai\n",
    "import os\n",
    "\n",
    "from langchain.memory import ConversationBufferMemory\n",
    "from langchain.prompts import FewShotPromptTemplate, PromptTemplate\n",
    "\n",
    "from langchain.llms import OpenAI\n"
   ],
   "id": "6554fd4c",
   "outputs": [],
   "execution_count": null
  },
  {
   "metadata": {},
   "cell_type": "code",
   "source": [
    "from langchain.prompts import PromptTemplate\n",
    "\n",
    "listing_template = PromptTemplate(template=\n",
    "\"\"\"Neighborhood: {neighborhood}\n",
    "Price: ${price}\n",
    "Bedrooms: {bathrooms}\n",
    "Bathrooms: {bedrooms}\n",
    "House Size: {house_size} sqft\n",
    "\n",
    "Description: {description}\n",
    "\n",
    "Neighborhood Description: {neighborhood_description}\n",
    "\"\"\",\n",
    "                                  input_variables=[\"neighborhood\", \"price\", \"bedrooms\", \"bathrooms\",\n",
    "                                                   \"house_size\", \"description\", \"neighborhood_description\"]\n",
    "                                  )\n",
    "\n"
   ],
   "id": "f36c64508ba32437",
   "outputs": [],
   "execution_count": null
  },
  {
   "metadata": {},
   "cell_type": "code",
   "source": [
    "example_inputs = [\n",
    "    {\n",
    "        \"neighborhood\": \"Downtown Abbey\",\n",
    "        \"price\": 300000,\n",
    "        \"bedrooms\": 3,\n",
    "        \"bathrooms\": 2,\n",
    "        \"house_size\": 2000,\n",
    "        \"description\": \"A beautiful appartment with a large terrace overlooking the city's skyscrapers with 3 well-lit bedrooms and 2 bathrooms means you have enough room even for the occasional guest coming over to celebrate new year's with you :)\",\n",
    "        \"neighborhood_description\": \"A vibrant neighborhood which is very centrally located and specially well connected public transport connections means you are close to everything you need for your everyday life from groceries to cafes and restaurants and shopping.\"\n",
    "    },\n",
    "    {\n",
    "        \"neighborhood\": \"City Heights\",\n",
    "        \"price\": 500000,\n",
    "        \"bedrooms\": 4,\n",
    "        \"bathrooms\": 3,\n",
    "        \"house_size\": 3000,\n",
    "        \"description\": \"A cozy house with a wonderful garden overlooking the city from its hillside location\",\n",
    "        \"neighborhood_description\": \"Located in the city outskirts, this neighborhood is known for its great views and quiet streets with a very family-friendly atmosphere. In no time you are in the midst of a beautiful forest where you can calm all your senses and breath in the cool fresh air. Sightings of deer and other wildlife are common.\"\n",
    "    },\n",
    "    {\n",
    "        \"neighborhood\": \"Green Oaks\",\n",
    "        \"price\": 800000,\n",
    "        \"bedrooms\": 3,\n",
    "        \"bathrooms\": 2,\n",
    "        \"house_size\": 2000,\n",
    "        \"description\": \"A luxurious villa with a large garden and a swimming pool with a winter garden, 2 parking spots, and a garage as well as a large terrace and wonderful finishing.\",\n",
    "        \"neighborhood_description\": \"Green Oaks is a close-knit, environmentally-conscious community with access to organic grocery stores, community gardens, and bike paths. Take a stroll through the nearby Green Oaks Park or grab a cup of coffee at the cozy Green Bean Cafe. With easy access to public transportation and bike lanes, commuting is a breeze.\"\n",
    "    }\n",
    "]"
   ],
   "id": "8094d416ccc65557",
   "outputs": [],
   "execution_count": null
  },
  {
   "metadata": {},
   "cell_type": "code",
   "source": [
    "from langchain.prompts import FewShotPromptTemplate\n",
    "\n",
    "few_shot_template = FewShotPromptTemplate(\n",
    "    example_prompt=listing_template,\n",
    "    input_variables=[\"input\"],\n",
    "    examples=example_inputs,\n",
    "    suffix=\"Use the examples above to generate the following: {input}\",\n",
    ")\n",
    "\n",
    "listing_seperator = \"====\"\n",
    "instruction = \"Generate {} listings of houses. Be creative in regards neighborhood_description, and description and keep it confined to three sentences each. Keep the prices between $125000 $1500000, the number of bedrooms under 6 and the number of bathrooms under 3 and the total area under 3500sqft. VERY IMPORTANT: Output the results in the same format as the examples keeping even the order of properties the same as in the examples. Add the characters {} before each new listing\"\n",
    "num_listings = 30\n",
    "prompt_to_use = few_shot_template.format(input=instruction.format(num_listings, listing_seperator))\n",
    "\n"
   ],
   "id": "6a9ee6cdc321048f",
   "outputs": [],
   "execution_count": null
  },
  {
   "metadata": {},
   "cell_type": "code",
   "source": "print(prompt_to_use)",
   "id": "3cfb03ee3d0c4801",
   "outputs": [],
   "execution_count": null
  },
  {
   "metadata": {},
   "cell_type": "code",
   "source": [
    "from langchain.chat_models import ChatOpenAI\n",
    "\n",
    "model_name = \"gpt-3.5-turbo\"\n",
    "llm = OpenAI(model_name=model_name, temperature=0.0, max_tokens=3500)"
   ],
   "id": "86884cbacd1ab1e8",
   "outputs": [],
   "execution_count": null
  },
  {
   "metadata": {},
   "cell_type": "code",
   "source": "result = llm(prompt=prompt_to_use)",
   "id": "3cf33c8cf1d7b096",
   "outputs": [],
   "execution_count": null
  },
  {
   "metadata": {},
   "cell_type": "code",
   "source": "print(f\"LLM result:\\n{result}\")",
   "id": "b8c37949bcf87a8c",
   "outputs": [],
   "execution_count": null
  },
  {
   "metadata": {},
   "cell_type": "code",
   "source": [
    "import pandas as pd\n",
    "import locale\n",
    "import re\n",
    "\n",
    "# Set the locale to 'en_US.UTF-8' for parsing numbers with commas\n",
    "locale.setlocale(locale.LC_ALL, 'en_US.UTF-8')\n",
    "\n",
    "# Split the result into individual listings\n",
    "listings = result.split(listing_seperator)[1:]\n",
    "# print(f\"Here are the listings in a list:\\n{listings}\")\n",
    "\n",
    "# Define the columns based on input_variables\n",
    "columns = [\"neighborhood\", \"price\", \"bedrooms\", \"bathrooms\", \"house_size\", \"description\", \"neighborhood_description\"]\n",
    "\n",
    "# Parse the listings into a list of dictionaries\n",
    "data = []\n",
    "for listing in listings:\n",
    "    print(f\"Parsing listing: {listing[1:150]} ...\\n\")\n",
    "    try:\n",
    "        entry = {\n",
    "            \"neighborhood\": re.search(r\"^Neighborhood: (.+)$\", listing, re.MULTILINE).group(1),\n",
    "            \"price\": locale.atoi(re.search(r\"^Price: \\$(.+)$\", listing, re.MULTILINE).group(1)),\n",
    "            \"bedrooms\": int(re.search(r\"^Bedrooms: (.+)$\", listing, re.MULTILINE).group(1)),\n",
    "            \"bathrooms\": int(re.search(r\"^Bathrooms: (.+)$\", listing, re.MULTILINE).group(1)),\n",
    "            \"house_size\": locale.atoi(re.search(r\"^House Size: (.+) sqft$\", listing, re.MULTILINE).group(1)),\n",
    "            \"description\": re.search(r\"^Description: (.+)$\", listing, re.MULTILINE).group(1),\n",
    "            \"neighborhood_description\": re.search(r\"^Neighborhood Description: (.+)$\", listing, re.MULTILINE).group(1)\n",
    "        }\n",
    "\n",
    "        data.append(entry)\n",
    "    except Exception as e:\n",
    "        print(\"Error parsing listing\")\n",
    "        print(listing)\n",
    "        print(f\"Because of \\n{e}\")\n",
    "        print(\"\\n\")\n",
    "        continue\n",
    "\n",
    "# Create a DataFrame\n",
    "df = pd.DataFrame(data, columns=columns)"
   ],
   "id": "89351e21daeb7518",
   "outputs": [],
   "execution_count": null
  },
  {
   "metadata": {},
   "cell_type": "markdown",
   "source": "Let's view the dataframe and assert the generated input makes sense and finally save into a csv.",
   "id": "efc06af90829babd"
  },
  {
   "metadata": {},
   "cell_type": "code",
   "source": "df.head(n=num_listings)",
   "id": "5b2439da5ae0b789",
   "outputs": [],
   "execution_count": null
  },
  {
   "metadata": {},
   "cell_type": "code",
   "source": "df.to_csv(\"listings.csv\", index=False)\n",
   "id": "6514bf1ff2822262",
   "outputs": [],
   "execution_count": null
  },
  {
   "metadata": {},
   "cell_type": "markdown",
   "source": "Step 4: Building the User Preference Interface",
   "id": "66a8a1af40f8cde1"
  },
  {
   "metadata": {
    "ExecuteTime": {
     "end_time": "2025-02-05T00:38:30.854097Z",
     "start_time": "2025-02-05T00:38:30.849691Z"
    }
   },
   "cell_type": "code",
   "source": [
    "from langchain.llms import OpenAIChat\n",
    "set_open_ai_api()\n",
    "llm = OpenAIChat(temperature=0.0)"
   ],
   "id": "ea443f3aea0c6b13",
   "outputs": [
    {
     "name": "stderr",
     "output_type": "stream",
     "text": [
      "/home/tumaaa/work/repos/udacity_nano_degree_generative_ai/.venv/lib/python3.10/site-packages/langchain/llms/openai.py:790: UserWarning: You are trying to use a chat model. This way of initializing it is no longer supported. Instead, please use: `from langchain.chat_models import ChatOpenAI`\n",
      "  warnings.warn(\n"
     ]
    }
   ],
   "execution_count": 243
  },
  {
   "metadata": {
    "ExecuteTime": {
     "end_time": "2025-02-05T00:38:32.282312Z",
     "start_time": "2025-02-05T00:38:32.277224Z"
    }
   },
   "cell_type": "code",
   "source": [
    "# Hard-coding the user preferences using the ones provided in the project - with minor modifications - for reproducibility purposes wit\n",
    "\n",
    "answers = [\n",
    "    \"A comfortable house with at least 3 bedrooms with a spacious kitchen and a cozy living room with at least 2000sqft\",\n",
    "    \"A quiet neighborhood, good local schools, and convenient shopping options.\",\n",
    "    \"$500,000\",\n",
    "    \"A backyard for gardening, a two-car garage, and a modern, energy-efficient heating system.\",\n",
    "    \"Easy access to a reliable bus line, proximity to a major highway, and bike-friendly roads.\",\n",
    "    \"A balance between suburban tranquility and access to urban amenities like restaurants and theaters.\"\n",
    "    ]\n",
    "questions = [\n",
    "    \"How big should your house be?\",\n",
    "    \"What are 3 most important things for you in choosing this property?\",\n",
    "    \"What is the maximum price you would be willing to pay?\"\n",
    "    \"Which amenities would you like?\",\n",
    "    \"Which transportation options are important to you?\",\n",
    "    \"How urban do you want your neighborhood to be?\",\n",
    "]"
   ],
   "id": "411154d8f358fe5b",
   "outputs": [],
   "execution_count": 244
  },
  {
   "metadata": {},
   "cell_type": "markdown",
   "source": "We create a conversation chain with memory and simulate the question - answer interaction such that we feed its memory with the questions and answers since running the interaction for real might not necessarily lead the llm to asking the right questions due to its unpredictability",
   "id": "ef82fb074335c953"
  },
  {
   "metadata": {
    "ExecuteTime": {
     "end_time": "2025-02-05T00:39:31.560079Z",
     "start_time": "2025-02-05T00:39:31.547501Z"
    }
   },
   "cell_type": "code",
   "source": [
    "from langchain.memory import ChatMessageHistory\n",
    "def create_chat_message_history(questions, answers):\n",
    "    chat_message_history=ChatMessageHistory()\n",
    "    for question, answer in zip(questions, answers):\n",
    "        chat_message_history.add_ai_message(question)\n",
    "        chat_message_history.add_user_message(answer)\n",
    "    return chat_message_history"
   ],
   "id": "84228141497c9b68",
   "outputs": [],
   "execution_count": 245
  },
  {
   "metadata": {
    "ExecuteTime": {
     "end_time": "2025-02-05T00:39:32.491165Z",
     "start_time": "2025-02-05T00:39:32.487097Z"
    }
   },
   "cell_type": "code",
   "source": [
    "base_system_prompt = \"\"\"You are a real estate agent. You have a new client who is looking for a new home.\n",
    "\n",
    "The client has provided answers to important questions in the context.\n",
    "\n",
    "Proceed as follows:\n",
    "- 1. First ask the user if he/she is ready to receive recommendations.\n",
    "    -2. If he/she enters says 'yes', summarize your understanding of the user preferences and ask the user if he/she is ready to receive recommendations telling the user to either type 'yes' or 'no'\n",
    "        -3. If he types 'yes' you match the user preferences with listings and make suggestions.\"\"\""
   ],
   "id": "2632b1ae6bd53e9d",
   "outputs": [],
   "execution_count": 246
  },
  {
   "metadata": {
    "ExecuteTime": {
     "end_time": "2025-02-05T00:39:33.760553Z",
     "start_time": "2025-02-05T00:39:33.753439Z"
    }
   },
   "cell_type": "code",
   "source": [
    "from langchain.chains import ConversationChain\n",
    "from langchain.memory import ConversationBufferMemory\n",
    "from langchain.prompts import PromptTemplate\n",
    "\n",
    "memory=ConversationBufferMemory(conversation_history=create_chat_message_history(questions,answers), llm=llm, chat_memory=create_chat_message_history(questions,answers),memory_key=\"context\")\n",
    "\n",
    "qa_template = PromptTemplate(template=\n",
    "                             (\"\"\"%s\n",
    "\n",
    "Context: {context}\n",
    "\n",
    "Question: {question}\n",
    "\"\"\" % base_system_prompt),\n",
    "                             input_variables=[\"context\", \"question\"]\n",
    "                             )\n",
    "qa_chain = ConversationChain(llm=llm,  memory=memory, prompt=qa_template,input_key=\"question\",output_key=\"answer\", verbose=False)\n"
   ],
   "id": "36df5f4109fbe3fc",
   "outputs": [],
   "execution_count": 247
  },
  {
   "metadata": {
    "ExecuteTime": {
     "end_time": "2025-02-05T00:39:38.133755Z",
     "start_time": "2025-02-05T00:39:35.398565Z"
    }
   },
   "cell_type": "code",
   "source": [
    "\n",
    "\n",
    "question = \"I am waiting for your recommendations\"\n",
    "print(f\"The user asked: {question}\")\n",
    "response=qa_chain(inputs={\"question\": question})\n",
    "print(f\"The smart agent answered: {response['answer']}\")\n"
   ],
   "id": "41e31e5567e63757",
   "outputs": [
    {
     "name": "stdout",
     "output_type": "stream",
     "text": [
      "The user asked: I am waiting for your recommendations\n",
      "The smart agent answered: 1. Are you ready to receive recommendations based on your preferences?\n",
      "2. Based on your preferences, I understand that you are looking for a comfortable house with at least 3 bedrooms, a spacious kitchen, and a cozy living room with at least 2000sqft. You value a quiet neighborhood, good local schools, and convenient shopping options. Your maximum budget is $500,000 and you are looking for a property with a backyard for gardening, a two-car garage, and a modern, energy-efficient heating system. You also prefer easy access to a reliable bus line, proximity to a major highway, and bike-friendly roads. Are you ready to receive recommendations? Please type 'yes' or 'no'.\n"
     ]
    }
   ],
   "execution_count": 248
  },
  {
   "metadata": {
    "ExecuteTime": {
     "end_time": "2025-02-05T00:39:49.091580Z",
     "start_time": "2025-02-05T00:39:46.207846Z"
    }
   },
   "cell_type": "code",
   "source": [
    "question = \"yes\"\n",
    "print(f\"The user asked: {question}\")\n",
    "response=qa_chain(inputs={\"question\": question})\n",
    "print(f\"The smart agent answered: {response['answer']}\")"
   ],
   "id": "5baf0790ed822b12",
   "outputs": [
    {
     "name": "stdout",
     "output_type": "stream",
     "text": [
      "The user asked: yes\n",
      "The smart agent answered: Great! Based on your preferences, I have found a few listings that match what you are looking for. Here are some recommendations:\n",
      "\n",
      "1. A beautiful 3-bedroom house in a quiet neighborhood with good schools nearby. It features a spacious kitchen, cozy living room, and a backyard for gardening. The property also includes a two-car garage and a modern, energy-efficient heating system. It is conveniently located near a reliable bus line, major highway, and bike-friendly roads. The price is within your budget at $480,000.\n",
      "\n",
      "2. A charming 4-bedroom home with a large kitchen, inviting living room, and a backyard perfect for gardening. This property is located in a peaceful neighborhood with excellent schools and convenient shopping options. It also comes with a two-car garage and a modern heating system. Easy access to a reliable bus line, major highway, and bike-friendly roads. The price is $490,000.\n",
      "\n",
      "Please let me know if you would like more information on any of these listings or if you have any specific preferences in mind.\n"
     ]
    }
   ],
   "execution_count": 249
  },
  {
   "metadata": {},
   "cell_type": "markdown",
   "source": "We can see the result above is totally fake. Let's see what we can do about this using our generated listings and vector db'",
   "id": "f45debf39c598535"
  },
  {
   "metadata": {},
   "cell_type": "markdown",
   "source": "Step 5: Using the Generated Listings to Provide Real Context",
   "id": "f0def69451805aa7"
  },
  {
   "metadata": {
    "ExecuteTime": {
     "end_time": "2025-02-05T00:40:02.937519Z",
     "start_time": "2025-02-05T00:40:02.930084Z"
    }
   },
   "cell_type": "code",
   "source": [
    "from typing import List, Dict, Any\n",
    "from langchain.memory import ConversationBufferMemory\n",
    "\n",
    "# there is a solution to ConversationChain problem of not being able to use more than one input:\n",
    "# The ConversationBufferMemory is extended to be able to pass other information.\n",
    "# Thanks to https://github.com/langchain-ai/langchain/issues/1800#issuecomment-1598128244\n",
    "class ExtendedConversationBufferMemory(ConversationBufferMemory):\n",
    "    extra_variables:List[str] = []\n",
    "\n",
    "    @property\n",
    "    def memory_variables(self) -> List[str]:\n",
    "        \"\"\"Will always return list of memory variables.\"\"\"\n",
    "        return [self.memory_key] + self.extra_variables\n",
    "\n",
    "    def load_memory_variables(self, inputs: Dict[str, Any]) -> Dict[str, Any]:\n",
    "        \"\"\"Return buffer with history and extra variables\"\"\"\n",
    "        d = super().load_memory_variables(inputs)\n",
    "        d.update({k:inputs.get(k) for k in self.extra_variables})\n",
    "        return d"
   ],
   "id": "e46509327cd17e34",
   "outputs": [],
   "execution_count": 250
  },
  {
   "metadata": {
    "ExecuteTime": {
     "end_time": "2025-02-05T00:40:14.698511Z",
     "start_time": "2025-02-05T00:40:14.688864Z"
    }
   },
   "cell_type": "code",
   "source": [
    "from langchain.chains import ConversationChain\n",
    "from langchain.prompts import PromptTemplate\n",
    "\n",
    "\n",
    "memory_with_listings=ExtendedConversationBufferMemory(\n",
    "    conversation_history=create_chat_message_history(questions,answers),\n",
    "    llm=llm,\n",
    "    chat_memory=create_chat_message_history(questions,answers),\n",
    "    memory_key=\"context\",\n",
    "    extra_variables=[\"listings\"])\n",
    "\n",
    "\n",
    "qa_template_with_listings=PromptTemplate(template=\n",
    "                          ((\"\"\"%s. Only provide suggestions from the available listings. '\n",
    "\n",
    "Context: {context}\n",
    "\n",
    "Listings: {listings}\n",
    "\n",
    "Question: {question}\n",
    "\"\"\") % base_system_prompt),\n",
    "                          input_variables=[\"context\", \"listings\", \"question\"]\n",
    "                          )\n",
    "\n",
    "\n",
    "\n",
    "qa_chain_with_listings = ConversationChain(llm=llm,  memory=memory_with_listings, prompt=qa_template_with_listings,input_key=\"question\" ,output_key=\"answer\", verbose=False)\n",
    "\n"
   ],
   "id": "641dc03f5ca9bdff",
   "outputs": [],
   "execution_count": 253
  },
  {
   "metadata": {
    "ExecuteTime": {
     "end_time": "2025-02-05T00:40:18.273316Z",
     "start_time": "2025-02-05T00:40:16.180728Z"
    }
   },
   "cell_type": "code",
   "source": "response=qa_chain_with_listings(inputs={\"question\":\"I am waiting for your recommendations\"})",
   "id": "89878df086aab691",
   "outputs": [],
   "execution_count": 254
  },
  {
   "metadata": {
    "ExecuteTime": {
     "end_time": "2025-02-05T00:40:20.294045Z",
     "start_time": "2025-02-05T00:40:20.289049Z"
    }
   },
   "cell_type": "code",
   "source": "print(f\"The smart assistant answered: {response['answer']}\")",
   "id": "b711560aaab4d626",
   "outputs": [
    {
     "name": "stdout",
     "output_type": "stream",
     "text": [
      "The smart assistant answered: 1. Are you ready to receive recommendations based on your preferences?\n",
      "2. Yes, I am ready to receive recommendations. \n",
      "3. Based on your preferences for a comfortable house with at least 3 bedrooms, a spacious kitchen, and a cozy living room with at least 2000sqft, in a quiet neighborhood with good local schools and convenient shopping options, with a maximum budget of $500,000, amenities including a backyard for gardening, a two-car garage, and a modern, energy-efficient heating system, and transportation options such as easy access to a reliable bus line, proximity to a major highway, and bike-friendly roads, I will match your preferences with available listings and provide you with recommendations. Please wait while I search for suitable listings.\n"
     ]
    }
   ],
   "execution_count": 255
  },
  {
   "metadata": {
    "ExecuteTime": {
     "end_time": "2025-02-05T00:41:16.738413Z",
     "start_time": "2025-02-05T00:41:16.730727Z"
    }
   },
   "cell_type": "code",
   "source": "preference_summary_by_smart_assistant=response['answer']",
   "id": "742ba5ba22367f3a",
   "outputs": [],
   "execution_count": 258
  },
  {
   "metadata": {},
   "cell_type": "markdown",
   "source": "Now we use the preference summary by the smart assistant to retreive suitable listings from the vector db",
   "id": "5edf77780a1f761c"
  },
  {
   "metadata": {
    "ExecuteTime": {
     "end_time": "2025-02-05T00:41:20.401794Z",
     "start_time": "2025-02-05T00:41:20.395785Z"
    }
   },
   "cell_type": "code",
   "source": [
    "from langchain.document_loaders import CSVLoader\n",
    "import random\n",
    "\n",
    "set_open_ai_api()\n",
    "listings_loader = CSVLoader(\"listings.csv\")\n",
    "listing_documents=listings_loader.load()\n",
    "print(f\"There are {len(listing_documents)} listings loaded\")\n",
    "sample_listings = random.sample(listing_documents, 2)\n",
    "print(f\"Here are two sample loaded listings:\\n{sample_listings}\")"
   ],
   "id": "84bd824b8f76f239",
   "outputs": [
    {
     "name": "stdout",
     "output_type": "stream",
     "text": [
      "There are 28 listings loaded\n",
      "Here are two sample loaded listings:\n",
      "[Document(page_content='neighborhood: Oakwood Heights\\nprice: 200000\\nbedrooms: 2\\nbathrooms: 1\\nhouse_size: 1500\\ndescription: Cozy bungalow with a charming front porch and a backyard garden for relaxing outdoors. The sunlit living room and updated kitchen provide a comfortable living space for small families or couples.\\nneighborhood_description: Oakwood Heights is a quaint and peaceful neighborhood with tree-lined streets and friendly neighbors. Close to local parks, schools, and community centers, offering a sense of community and convenience.', metadata={'source': 'listings.csv', 'row': 3}), Document(page_content='neighborhood: Oakridge Heights\\nprice: 425000\\nbedrooms: 3\\nbathrooms: 2\\nhouse_size: 1800\\ndescription: Traditional home with a spacious backyard and deck for outdoor entertaining and relaxation. The cozy living room and updated kitchen provide a comfortable and inviting space for families to enjoy.\\nneighborhood_description: Oakridge Heights is a quiet and friendly neighborhood with well-maintained parks and playgrounds for children to play. Close to shopping centers, restaurants, and schools, making it a convenient and desirable place to live for families and young professionals.', metadata={'source': 'listings.csv', 'row': 22})]\n"
     ]
    }
   ],
   "execution_count": 259
  },
  {
   "metadata": {
    "ExecuteTime": {
     "end_time": "2025-02-05T00:42:43.345684Z",
     "start_time": "2025-02-05T00:42:39.024320Z"
    }
   },
   "cell_type": "code",
   "source": [
    "from langchain.vectorstores import Chroma\n",
    "from langchain.embeddings import OpenAIEmbeddings\n",
    "\n",
    "embeddings_model=OpenAIEmbeddings()\n",
    "# I found no better way to ensure the chromadb is reset other than running twice with first call including delete_collection()\n",
    "# Without these, each time the cell is rerun the documents are added all over new leading to wrong results in k-nearest similarity search\n",
    "listings_db=Chroma.from_documents(documents=listing_documents,embedding=embeddings_model).delete_collection()\n",
    "listings_db=Chroma.from_documents(documents=listing_documents,embedding=embeddings_model)"
   ],
   "id": "58a49f888ac6ec21",
   "outputs": [],
   "execution_count": 261
  },
  {
   "metadata": {
    "ExecuteTime": {
     "end_time": "2025-02-05T00:42:43.356165Z",
     "start_time": "2025-02-05T00:42:43.351079Z"
    }
   },
   "cell_type": "code",
   "source": "listings_db._collection.count()",
   "id": "2ef2d587ef25aa91",
   "outputs": [
    {
     "data": {
      "text/plain": [
       "28"
      ]
     },
     "execution_count": 262,
     "metadata": {},
     "output_type": "execute_result"
    }
   ],
   "execution_count": 262
  },
  {
   "metadata": {
    "ExecuteTime": {
     "end_time": "2025-02-05T00:42:44.818522Z",
     "start_time": "2025-02-05T00:42:43.483515Z"
    }
   },
   "cell_type": "code",
   "source": [
    "most_similar_documents=listings_db.similarity_search(query=preference_summary_by_smart_assistant,k=4)\n",
    "print(f\"Most similar documents to the user preferences: {most_similar_documents}\")"
   ],
   "id": "31209d85927197e8",
   "outputs": [
    {
     "name": "stdout",
     "output_type": "stream",
     "text": [
      "Most similar documents to the user preferences: [Document(page_content='neighborhood: Meadowview Village\\nprice: 700000\\nbedrooms: 5\\nbathrooms: 2\\nhouse_size: 2500\\ndescription: Spacious two-story home with a large backyard and deck for outdoor gatherings and relaxation. The updated kitchen and cozy living room provide a comfortable and inviting space for families to enjoy.\\nneighborhood_description: Meadowview Village is a family-friendly neighborhood with top-rated schools and community parks for children to play and explore. Close to shopping centers, restaurants, and recreational facilities, making it a convenient and desirable place to live for families and young professionals.', metadata={'row': 20, 'source': 'listings.csv'}), Document(page_content='neighborhood: Meadowbrook Heights\\nprice: 600000\\nbedrooms: 3\\nbathrooms: 2\\nhouse_size: 2300\\ndescription: Contemporary home with a sleek design and high-end finishes throughout, including a gourmet kitchen and spa-like bathrooms. The spacious backyard and deck offer a private retreat for outdoor entertaining and relaxation.\\nneighborhood_description: Meadowbrook Heights is a modern and upscale neighborhood with well-manicured lawns and upscale amenities. Residents enjoy access to community pools, tennis courts, and walking trails, as well as proximity to shopping centers, restaurants, and entertainment options.', metadata={'row': 8, 'source': 'listings.csv'}), Document(page_content='neighborhood: Meadowview Park\\nprice: 700000\\nbedrooms: 5\\nbathrooms: 2\\nhouse_size: 2500\\ndescription: Spacious two-story home with a large backyard and deck for outdoor gatherings and relaxation. The updated kitchen and cozy living room provide a comfortable and inviting space for families to enjoy.\\nneighborhood_description: Meadowview Park is a family-friendly neighborhood with top-rated schools and community parks for children to play and explore. Close to shopping centers, restaurants, and recreational facilities, making it a convenient and desirable place to live for families and young professionals.', metadata={'row': 26, 'source': 'listings.csv'}), Document(page_content='neighborhood: Hillside Village\\nprice: 200000\\nbedrooms: 2\\nbathrooms: 1\\nhouse_size: 1600\\ndescription: Charming cottage-style home with a cozy fireplace and a private backyard oasis with a deck and garden. The bright and airy living spaces create a warm and inviting atmosphere for relaxing and entertaining.\\nneighborhood_description: Hillside Village is a quaint and peaceful neighborhood with tree-lined streets and friendly neighbors. Surrounded by nature trails and parks, residents can enjoy outdoor activities and a peaceful setting while still being conveniently located near shopping and dining options.', metadata={'row': 27, 'source': 'listings.csv'})]\n"
     ]
    }
   ],
   "execution_count": 263
  },
  {
   "metadata": {
    "ExecuteTime": {
     "end_time": "2025-02-05T00:42:48.336389Z",
     "start_time": "2025-02-05T00:42:48.331988Z"
    }
   },
   "cell_type": "code",
   "source": [
    "most_similar_documents_string=\"\\n\\n---\\n\".join([most_similar_document.page_content for most_similar_document in most_similar_documents])\n",
    "print(most_similar_documents_string)"
   ],
   "id": "b6b360fef4cb7238",
   "outputs": [
    {
     "name": "stdout",
     "output_type": "stream",
     "text": [
      "neighborhood: Meadowview Village\n",
      "price: 700000\n",
      "bedrooms: 5\n",
      "bathrooms: 2\n",
      "house_size: 2500\n",
      "description: Spacious two-story home with a large backyard and deck for outdoor gatherings and relaxation. The updated kitchen and cozy living room provide a comfortable and inviting space for families to enjoy.\n",
      "neighborhood_description: Meadowview Village is a family-friendly neighborhood with top-rated schools and community parks for children to play and explore. Close to shopping centers, restaurants, and recreational facilities, making it a convenient and desirable place to live for families and young professionals.\n",
      "\n",
      "---\n",
      "neighborhood: Meadowbrook Heights\n",
      "price: 600000\n",
      "bedrooms: 3\n",
      "bathrooms: 2\n",
      "house_size: 2300\n",
      "description: Contemporary home with a sleek design and high-end finishes throughout, including a gourmet kitchen and spa-like bathrooms. The spacious backyard and deck offer a private retreat for outdoor entertaining and relaxation.\n",
      "neighborhood_description: Meadowbrook Heights is a modern and upscale neighborhood with well-manicured lawns and upscale amenities. Residents enjoy access to community pools, tennis courts, and walking trails, as well as proximity to shopping centers, restaurants, and entertainment options.\n",
      "\n",
      "---\n",
      "neighborhood: Meadowview Park\n",
      "price: 700000\n",
      "bedrooms: 5\n",
      "bathrooms: 2\n",
      "house_size: 2500\n",
      "description: Spacious two-story home with a large backyard and deck for outdoor gatherings and relaxation. The updated kitchen and cozy living room provide a comfortable and inviting space for families to enjoy.\n",
      "neighborhood_description: Meadowview Park is a family-friendly neighborhood with top-rated schools and community parks for children to play and explore. Close to shopping centers, restaurants, and recreational facilities, making it a convenient and desirable place to live for families and young professionals.\n",
      "\n",
      "---\n",
      "neighborhood: Hillside Village\n",
      "price: 200000\n",
      "bedrooms: 2\n",
      "bathrooms: 1\n",
      "house_size: 1600\n",
      "description: Charming cottage-style home with a cozy fireplace and a private backyard oasis with a deck and garden. The bright and airy living spaces create a warm and inviting atmosphere for relaxing and entertaining.\n",
      "neighborhood_description: Hillside Village is a quaint and peaceful neighborhood with tree-lined streets and friendly neighbors. Surrounded by nature trails and parks, residents can enjoy outdoor activities and a peaceful setting while still being conveniently located near shopping and dining options.\n"
     ]
    }
   ],
   "execution_count": 264
  },
  {
   "metadata": {},
   "cell_type": "markdown",
   "source": "Finally, we hit the LLM now with the extended context involving the most similar documents found from the vector db",
   "id": "f026163820f9104f"
  },
  {
   "metadata": {
    "ExecuteTime": {
     "end_time": "2025-02-05T00:43:01.706181Z",
     "start_time": "2025-02-05T00:42:58.392652Z"
    }
   },
   "cell_type": "code",
   "source": "response=qa_chain_with_listings(inputs={\"question\":\"yes\",\"listings\":most_similar_documents_string})",
   "id": "34ad51e7a3b3b05f",
   "outputs": [],
   "execution_count": 265
  },
  {
   "metadata": {
    "ExecuteTime": {
     "end_time": "2025-02-05T00:43:02.697752Z",
     "start_time": "2025-02-05T00:43:02.694131Z"
    }
   },
   "cell_type": "code",
   "source": "print(f\"The smart assistant answered: {response['answer']}\")",
   "id": "5480751f6098d632",
   "outputs": [
    {
     "name": "stdout",
     "output_type": "stream",
     "text": [
      "The smart assistant answered: Great! Based on your preferences, I have found a few listings that match your criteria:\n",
      "\n",
      "1. Meadowbrook Heights\n",
      "   - Neighborhood: Meadowbrook Heights\n",
      "   - Price: $600,000\n",
      "   - Bedrooms: 3\n",
      "   - Bathrooms: 2\n",
      "   - House Size: 2300 sqft\n",
      "   - Description: Contemporary home with high-end finishes, gourmet kitchen, and spa-like bathrooms. Spacious backyard and deck for outdoor entertaining.\n",
      "   - Neighborhood Description: Modern and upscale neighborhood with access to community pools, tennis courts, and walking trails. Close to shopping centers and restaurants.\n",
      "\n",
      "2. Hillside Village\n",
      "   - Neighborhood: Hillside Village\n",
      "   - Price: $200,000\n",
      "   - Bedrooms: 2\n",
      "   - Bathrooms: 1\n",
      "   - House Size: 1600 sqft\n",
      "   - Description: Charming cottage-style home with a cozy fireplace and private backyard oasis. Bright and airy living spaces for relaxing and entertaining.\n",
      "   - Neighborhood Description: Quaint and peaceful neighborhood with tree-lined streets and nature trails. Conveniently located near shopping and dining options.\n",
      "\n",
      "Please let me know if you would like more information on any of these listings or if you have any specific preferences for me to consider in finding your perfect home.\n"
     ]
    }
   ],
   "execution_count": 266
  },
  {
   "metadata": {},
   "cell_type": "markdown",
   "source": "Let's verify if the top listing indeed exists",
   "id": "5affcca3925ee771"
  },
  {
   "metadata": {
    "ExecuteTime": {
     "end_time": "2025-02-05T00:43:34.089021Z",
     "start_time": "2025-02-05T00:43:34.074797Z"
    }
   },
   "cell_type": "code",
   "source": [
    "import pandas as pd\n",
    "df=pd.read_csv(\"listings.csv\")\n",
    "filtered_df=df[df[\"neighborhood\"]==\"Meadowbrook Heights\"]\n",
    "filtered_df.head()"
   ],
   "id": "4ef1bd9f3dbfedc0",
   "outputs": [
    {
     "data": {
      "text/plain": [
       "          neighborhood   price  bedrooms  bathrooms  house_size  \\\n",
       "8  Meadowbrook Heights  600000         3          2        2300   \n",
       "\n",
       "                                         description  \\\n",
       "8  Contemporary home with a sleek design and high...   \n",
       "\n",
       "                            neighborhood_description  \n",
       "8  Meadowbrook Heights is a modern and upscale ne...  "
      ],
      "text/html": [
       "<div>\n",
       "<style scoped>\n",
       "    .dataframe tbody tr th:only-of-type {\n",
       "        vertical-align: middle;\n",
       "    }\n",
       "\n",
       "    .dataframe tbody tr th {\n",
       "        vertical-align: top;\n",
       "    }\n",
       "\n",
       "    .dataframe thead th {\n",
       "        text-align: right;\n",
       "    }\n",
       "</style>\n",
       "<table border=\"1\" class=\"dataframe\">\n",
       "  <thead>\n",
       "    <tr style=\"text-align: right;\">\n",
       "      <th></th>\n",
       "      <th>neighborhood</th>\n",
       "      <th>price</th>\n",
       "      <th>bedrooms</th>\n",
       "      <th>bathrooms</th>\n",
       "      <th>house_size</th>\n",
       "      <th>description</th>\n",
       "      <th>neighborhood_description</th>\n",
       "    </tr>\n",
       "  </thead>\n",
       "  <tbody>\n",
       "    <tr>\n",
       "      <th>8</th>\n",
       "      <td>Meadowbrook Heights</td>\n",
       "      <td>600000</td>\n",
       "      <td>3</td>\n",
       "      <td>2</td>\n",
       "      <td>2300</td>\n",
       "      <td>Contemporary home with a sleek design and high...</td>\n",
       "      <td>Meadowbrook Heights is a modern and upscale ne...</td>\n",
       "    </tr>\n",
       "  </tbody>\n",
       "</table>\n",
       "</div>"
      ]
     },
     "execution_count": 267,
     "metadata": {},
     "output_type": "execute_result"
    }
   ],
   "execution_count": 267
  },
  {
   "metadata": {},
   "cell_type": "markdown",
   "source": "q.e.d. Good job :)",
   "id": "196fc1374498330c"
  },
  {
   "metadata": {},
   "cell_type": "code",
   "source": "",
   "id": "de21e289626dbb16",
   "outputs": [],
   "execution_count": null
  }
 ],
 "metadata": {
  "kernelspec": {
   "display_name": "Python 3 (ipykernel)",
   "language": "python",
   "name": "python3"
  },
  "language_info": {
   "codemirror_mode": {
    "name": "ipython",
    "version": 3
   },
   "file_extension": ".py",
   "mimetype": "text/x-python",
   "name": "python",
   "nbconvert_exporter": "python",
   "pygments_lexer": "ipython3",
   "version": "3.10.11"
  }
 },
 "nbformat": 4,
 "nbformat_minor": 5
}
