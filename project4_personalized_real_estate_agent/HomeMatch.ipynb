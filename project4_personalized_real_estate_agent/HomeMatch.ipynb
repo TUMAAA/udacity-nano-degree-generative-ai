{
 "cells": [
  {
   "cell_type": "markdown",
   "id": "a108af04",
   "metadata": {},
   "source": "This is a starter notebook for the project, you'll have to import the libraries you'll need, you can find a list of the ones available in this workspace in the requirements.txt file in this workspace."
  },
  {
   "metadata": {},
   "cell_type": "markdown",
   "source": [
    "Step 1: Setup\n",
    "Simply install the provided requirements.txt file by running the following command:\n",
    "```bash\n",
    "pip install -r requirements.txt\n",
    "```"
   ],
   "id": "f16b33edf9bea0a4"
  },
  {
   "metadata": {
    "ExecuteTime": {
     "end_time": "2025-02-04T22:26:04.576042Z",
     "start_time": "2025-02-04T22:26:04.554073Z"
    }
   },
   "cell_type": "code",
   "source": [
    "import os\n",
    "def set_open_ai_api():\n",
    "    os.environ[\"OPENAI_API_KEY\"] =\n",
    "    os.environ[\"OPENAI_API_BASE\"] = \"https://openai.vocareum.com/v1\""
   ],
   "id": "2594c02e7038335f",
   "outputs": [],
   "execution_count": 1
  },
  {
   "metadata": {},
   "cell_type": "markdown",
   "source": "Step 2 & 3: Generating Fake Listings Using LLM and Saving Them",
   "id": "b889282e87639eb1"
  },
  {
   "metadata": {},
   "cell_type": "code",
   "source": [
    "import openai\n",
    "import os\n",
    "\n",
    "from langchain.memory import ConversationBufferMemory\n",
    "from langchain.prompts import FewShotPromptTemplate, PromptTemplate\n",
    "\n",
    "from langchain.llms import OpenAI\n"
   ],
   "id": "6554fd4c",
   "outputs": [],
   "execution_count": null
  },
  {
   "metadata": {},
   "cell_type": "code",
   "source": [
    "from langchain.prompts import PromptTemplate\n",
    "\n",
    "listing_template = PromptTemplate(template=\n",
    "\"\"\"Neighborhood: {neighborhood}\n",
    "Price: ${price}\n",
    "Bedrooms: {bathrooms}\n",
    "Bathrooms: {bedrooms}\n",
    "House Size: {house_size} sqft\n",
    "\n",
    "Description: {description}\n",
    "\n",
    "Neighborhood Description: {neighborhood_description}\n",
    "\"\"\",\n",
    "                                  input_variables=[\"neighborhood\", \"price\", \"bedrooms\", \"bathrooms\",\n",
    "                                                   \"house_size\", \"description\", \"neighborhood_description\"]\n",
    "                                  )\n",
    "\n"
   ],
   "id": "f36c64508ba32437",
   "outputs": [],
   "execution_count": null
  },
  {
   "metadata": {},
   "cell_type": "code",
   "source": [
    "example_inputs = [\n",
    "    {\n",
    "        \"neighborhood\": \"Downtown Abbey\",\n",
    "        \"price\": 300000,\n",
    "        \"bedrooms\": 3,\n",
    "        \"bathrooms\": 2,\n",
    "        \"house_size\": 2000,\n",
    "        \"description\": \"A beautiful appartment with a large terrace overlooking the city's skyscrapers with 3 well-lit bedrooms and 2 bathrooms means you have enough room even for the occasional guest coming over to celebrate new year's with you :)\",\n",
    "        \"neighborhood_description\": \"A vibrant neighborhood which is very centrally located and specially well connected public transport connections means you are close to everything you need for your everyday life from groceries to cafes and restaurants and shopping.\"\n",
    "    },\n",
    "    {\n",
    "        \"neighborhood\": \"City Heights\",\n",
    "        \"price\": 500000,\n",
    "        \"bedrooms\": 4,\n",
    "        \"bathrooms\": 3,\n",
    "        \"house_size\": 3000,\n",
    "        \"description\": \"A cozy house with a wonderful garden overlooking the city from its hillside location\",\n",
    "        \"neighborhood_description\": \"Located in the city outskirts, this neighborhood is known for its great views and quiet streets with a very family-friendly atmosphere. In no time you are in the midst of a beautiful forest where you can calm all your senses and breath in the cool fresh air. Sightings of deer and other wildlife are common.\"\n",
    "    },\n",
    "    {\n",
    "        \"neighborhood\": \"Green Oaks\",\n",
    "        \"price\": 800000,\n",
    "        \"bedrooms\": 3,\n",
    "        \"bathrooms\": 2,\n",
    "        \"house_size\": 2000,\n",
    "        \"description\": \"A luxurious villa with a large garden and a swimming pool with a winter garden, 2 parking spots, and a garage as well as a large terrace and wonderful finishing.\",\n",
    "        \"neighborhood_description\": \"Green Oaks is a close-knit, environmentally-conscious community with access to organic grocery stores, community gardens, and bike paths. Take a stroll through the nearby Green Oaks Park or grab a cup of coffee at the cozy Green Bean Cafe. With easy access to public transportation and bike lanes, commuting is a breeze.\"\n",
    "    }\n",
    "]"
   ],
   "id": "8094d416ccc65557",
   "outputs": [],
   "execution_count": null
  },
  {
   "metadata": {},
   "cell_type": "code",
   "source": [
    "from langchain.prompts import FewShotPromptTemplate\n",
    "\n",
    "few_shot_template = FewShotPromptTemplate(\n",
    "    example_prompt=listing_template,\n",
    "    input_variables=[\"input\"],\n",
    "    examples=example_inputs,\n",
    "    suffix=\"Use the examples above to generate the following: {input}\",\n",
    ")\n",
    "\n",
    "listing_seperator = \"====\"\n",
    "instruction = \"Generate {} listings of houses. Be creative in regards neighborhood_description, and description and keep it confined to three sentences each. Keep the prices between $125000 $1500000, the number of bedrooms under 6 and the number of bathrooms under 3 and the total area under 3500sqft. VERY IMPORTANT: Output the results in the same format as the examples keeping even the order of properties the same as in the examples. Add the characters {} before each new listing\"\n",
    "num_listings = 30\n",
    "prompt_to_use = few_shot_template.format(input=instruction.format(num_listings, listing_seperator))\n",
    "\n"
   ],
   "id": "6a9ee6cdc321048f",
   "outputs": [],
   "execution_count": null
  },
  {
   "metadata": {},
   "cell_type": "code",
   "source": "print(prompt_to_use)",
   "id": "3cfb03ee3d0c4801",
   "outputs": [],
   "execution_count": null
  },
  {
   "metadata": {},
   "cell_type": "code",
   "source": [
    "from langchain.chat_models import ChatOpenAI\n",
    "\n",
    "model_name = \"gpt-3.5-turbo\"\n",
    "llm = OpenAI(model_name=model_name, temperature=0.0, max_tokens=3500)"
   ],
   "id": "86884cbacd1ab1e8",
   "outputs": [],
   "execution_count": null
  },
  {
   "metadata": {},
   "cell_type": "code",
   "source": "result = llm(prompt=prompt_to_use)",
   "id": "3cf33c8cf1d7b096",
   "outputs": [],
   "execution_count": null
  },
  {
   "metadata": {},
   "cell_type": "code",
   "source": "print(f\"LLM result:\\n{result}\")",
   "id": "b8c37949bcf87a8c",
   "outputs": [],
   "execution_count": null
  },
  {
   "metadata": {},
   "cell_type": "code",
   "source": [
    "import pandas as pd\n",
    "import locale\n",
    "import re\n",
    "\n",
    "# Set the locale to 'en_US.UTF-8' for parsing numbers with commas\n",
    "locale.setlocale(locale.LC_ALL, 'en_US.UTF-8')\n",
    "\n",
    "# Split the result into individual listings\n",
    "listings = result.split(listing_seperator)[1:]\n",
    "# print(f\"Here are the listings in a list:\\n{listings}\")\n",
    "\n",
    "# Define the columns based on input_variables\n",
    "columns = [\"neighborhood\", \"price\", \"bedrooms\", \"bathrooms\", \"house_size\", \"description\", \"neighborhood_description\"]\n",
    "\n",
    "# Parse the listings into a list of dictionaries\n",
    "data = []\n",
    "for listing in listings:\n",
    "    print(f\"Parsing listing: {listing[1:150]} ...\\n\")\n",
    "    try:\n",
    "        entry = {\n",
    "            \"neighborhood\": re.search(r\"^Neighborhood: (.+)$\", listing, re.MULTILINE).group(1),\n",
    "            \"price\": locale.atoi(re.search(r\"^Price: \\$(.+)$\", listing, re.MULTILINE).group(1)),\n",
    "            \"bedrooms\": int(re.search(r\"^Bedrooms: (.+)$\", listing, re.MULTILINE).group(1)),\n",
    "            \"bathrooms\": int(re.search(r\"^Bathrooms: (.+)$\", listing, re.MULTILINE).group(1)),\n",
    "            \"house_size\": locale.atoi(re.search(r\"^House Size: (.+) sqft$\", listing, re.MULTILINE).group(1)),\n",
    "            \"description\": re.search(r\"^Description: (.+)$\", listing, re.MULTILINE).group(1),\n",
    "            \"neighborhood_description\": re.search(r\"^Neighborhood Description: (.+)$\", listing, re.MULTILINE).group(1)\n",
    "        }\n",
    "\n",
    "        data.append(entry)\n",
    "    except Exception as e:\n",
    "        print(\"Error parsing listing\")\n",
    "        print(listing)\n",
    "        print(f\"Because of \\n{e}\")\n",
    "        print(\"\\n\")\n",
    "        continue\n",
    "\n",
    "# Create a DataFrame\n",
    "df = pd.DataFrame(data, columns=columns)"
   ],
   "id": "89351e21daeb7518",
   "outputs": [],
   "execution_count": null
  },
  {
   "metadata": {},
   "cell_type": "markdown",
   "source": "Let's view the dataframe and assert the generated input makes sense and finally save into a csv.",
   "id": "efc06af90829babd"
  },
  {
   "metadata": {},
   "cell_type": "code",
   "source": "df.head(n=num_listings)",
   "id": "5b2439da5ae0b789",
   "outputs": [],
   "execution_count": null
  },
  {
   "metadata": {},
   "cell_type": "code",
   "source": "df.to_csv(\"listings.csv\", index=False)\n",
   "id": "6514bf1ff2822262",
   "outputs": [],
   "execution_count": null
  },
  {
   "metadata": {},
   "cell_type": "markdown",
   "source": "Step 4: Building the User Preference Interface",
   "id": "66a8a1af40f8cde1"
  },
  {
   "metadata": {
    "ExecuteTime": {
     "end_time": "2025-02-04T23:46:26.443314Z",
     "start_time": "2025-02-04T23:46:26.437945Z"
    }
   },
   "cell_type": "code",
   "source": [
    "from langchain.llms import OpenAIChat\n",
    "set_open_ai_api()\n",
    "llm = OpenAIChat(temperature=0.0)"
   ],
   "id": "ea443f3aea0c6b13",
   "outputs": [],
   "execution_count": 185
  },
  {
   "metadata": {
    "ExecuteTime": {
     "end_time": "2025-02-04T23:46:27.279541Z",
     "start_time": "2025-02-04T23:46:27.275191Z"
    }
   },
   "cell_type": "code",
   "source": [
    "# Hard-coding the user preferences using the ones provided in the project - with minor modifications - for reproducibility purposes wit\n",
    "\n",
    "answers = [\n",
    "    \"A comfortable house with at least 3 bedrooms with a spacious kitchen and a cozy living room with at least 2000sqft\",\n",
    "    \"A quiet neighborhood, good local schools, and convenient shopping options.\",\n",
    "    \"$500,000\",\n",
    "    \"A backyard for gardening, a two-car garage, and a modern, energy-efficient heating system.\",\n",
    "    \"Easy access to a reliable bus line, proximity to a major highway, and bike-friendly roads.\",\n",
    "    \"A balance between suburban tranquility and access to urban amenities like restaurants and theaters.\"\n",
    "    ]\n",
    "questions = [\n",
    "    \"How big should your house be?\",\n",
    "    \"What are 3 most important things for you in choosing this property?\",\n",
    "    \"What is the maximum price you would be willing to pay?\"\n",
    "    \"Which amenities would you like?\",\n",
    "    \"Which transportation options are important to you?\",\n",
    "    \"How urban do you want your neighborhood to be?\",\n",
    "]"
   ],
   "id": "411154d8f358fe5b",
   "outputs": [],
   "execution_count": 186
  },
  {
   "metadata": {},
   "cell_type": "markdown",
   "source": "We create a conversation chain with memory and simulate the question - answer interaction such that we feed its memory with the questions and answers",
   "id": "ef82fb074335c953"
  },
  {
   "metadata": {
    "ExecuteTime": {
     "end_time": "2025-02-04T23:46:27.850217Z",
     "start_time": "2025-02-04T23:46:27.845969Z"
    }
   },
   "cell_type": "code",
   "source": [
    "from langchain.memory import ChatMessageHistory\n",
    "def create_chat_message_history(questions, answers):\n",
    "    chat_message_history=ChatMessageHistory()\n",
    "    for question, answer in zip(questions, answers):\n",
    "        chat_message_history.add_ai_message(question)\n",
    "        chat_message_history.add_user_message(answer)\n",
    "    return chat_message_history"
   ],
   "id": "84228141497c9b68",
   "outputs": [],
   "execution_count": 187
  },
  {
   "metadata": {
    "ExecuteTime": {
     "end_time": "2025-02-04T23:47:36.571041Z",
     "start_time": "2025-02-04T23:47:36.562044Z"
    }
   },
   "cell_type": "code",
   "source": [
    "base_system_prompt = \"\"\"You are a real estate agent. You have a new client who is looking for a new home.\n",
    "\n",
    "The client has provided answers to important questions in the context.\n",
    "\n",
    "Proceed as follows:\n",
    "- 1. First ask the user if he/she is ready to receive recommendations.\n",
    "    -2. If he/she enters says 'yes', summarize your understanding of the user preferences and ask the user if he/she is ready to receive recommendations telling the user to either type 'yes' or 'no'\n",
    "        -3. If he types 'yes' you match the user preferences with listings and make suggestions.\"\"\""
   ],
   "id": "2632b1ae6bd53e9d",
   "outputs": [],
   "execution_count": 191
  },
  {
   "metadata": {
    "ExecuteTime": {
     "end_time": "2025-02-04T23:47:37.390673Z",
     "start_time": "2025-02-04T23:47:37.370331Z"
    }
   },
   "cell_type": "code",
   "source": [
    "from langchain.chains import ConversationChain\n",
    "from langchain.memory import ConversationBufferMemory\n",
    "from langchain.prompts import PromptTemplate\n",
    "\n",
    "memory=ConversationBufferMemory(conversation_history=create_chat_message_history(questions,answers), llm=llm, chat_memory=create_chat_message_history(questions,answers),memory_key=\"context\")\n",
    "\n",
    "qa_template = PromptTemplate(template=\n",
    "                             (\"\"\"%s\n",
    "\n",
    "Context: {context}\n",
    "\n",
    "Question: {question}\n",
    "\"\"\" % base_system_prompt),\n",
    "                             input_variables=[\"context\", \"question\"]\n",
    "                             )\n",
    "qa_chain = ConversationChain(llm=llm,  memory=memory, prompt=qa_template,input_key=\"question\",output_key=\"answer\", verbose=False)\n"
   ],
   "id": "36df5f4109fbe3fc",
   "outputs": [],
   "execution_count": 192
  },
  {
   "metadata": {
    "ExecuteTime": {
     "end_time": "2025-02-04T23:47:40.852271Z",
     "start_time": "2025-02-04T23:47:38.532005Z"
    }
   },
   "cell_type": "code",
   "source": [
    "\n",
    "\n",
    "question = \"I am waiting for your recommendations\"\n",
    "print(f\"The user asked: {question}\")\n",
    "response=qa_chain(inputs={\"question\": question})\n",
    "print(f\"The smart agent answered: {response['answer']}\")\n"
   ],
   "id": "41e31e5567e63757",
   "outputs": [
    {
     "name": "stdout",
     "output_type": "stream",
     "text": [
      "The user asked: I am waiting for your recommendations\n",
      "The smart agent answered: 1. Are you ready to receive recommendations based on your preferences?\n",
      "2. Based on your preferences, I understand that you are looking for a comfortable house with at least 3 bedrooms, a spacious kitchen, and a cozy living room with at least 2000sqft. You value a quiet neighborhood, good local schools, and convenient shopping options. Your maximum budget is $500,000 and you are looking for a property with a backyard for gardening, a two-car garage, and a modern, energy-efficient heating system. You also prefer easy access to a reliable bus line, proximity to a major highway, and bike-friendly roads. Are you ready to receive recommendations? Please type 'yes' or 'no'.\n"
     ]
    }
   ],
   "execution_count": 193
  },
  {
   "metadata": {
    "ExecuteTime": {
     "end_time": "2025-02-04T23:47:43.719150Z",
     "start_time": "2025-02-04T23:47:40.900132Z"
    }
   },
   "cell_type": "code",
   "source": [
    "question = \"yes\"\n",
    "print(f\"The user asked: {question}\")\n",
    "response=qa_chain(inputs={\"question\": question})\n",
    "print(f\"The smart agent answered: {response['answer']}\")"
   ],
   "id": "5baf0790ed822b12",
   "outputs": [
    {
     "name": "stdout",
     "output_type": "stream",
     "text": [
      "The user asked: yes\n",
      "The smart agent answered: Great! Based on your preferences, I have found a few listings that match your criteria. Here are some recommendations:\n",
      "\n",
      "1. A beautiful 3-bedroom house in a quiet neighborhood with good schools nearby. This property features a spacious kitchen, a cozy living room, and a backyard for gardening. It also includes a two-car garage and a modern, energy-efficient heating system. Convenient shopping options are just a short drive away. The price of this property is within your budget at $480,000.\n",
      "\n",
      "2. A charming 4-bedroom home with a large kitchen and a comfortable living room. Located in a peaceful neighborhood with easy access to a reliable bus line and bike-friendly roads. This property also offers a two-car garage, a backyard for gardening, and is close to major highways for convenient commuting. Priced at $490,000, this property is a great fit for your preferences.\n",
      "\n",
      "Please let me know if you would like more information on any of these listings or if you have any specific preferences in mind. I'm here to help you find your dream home!\n"
     ]
    }
   ],
   "execution_count": 194
  },
  {
   "metadata": {},
   "cell_type": "markdown",
   "source": "We can see the result above is totally fake. Let's see what we can do about this using our generated listings and vector db'",
   "id": "f45debf39c598535"
  },
  {
   "metadata": {},
   "cell_type": "markdown",
   "source": "",
   "id": "756ab9e1be095345"
  },
  {
   "metadata": {},
   "cell_type": "markdown",
   "source": "Step 5: Using the Generated Listings to Provide Real Context",
   "id": "f0def69451805aa7"
  },
  {
   "metadata": {
    "ExecuteTime": {
     "end_time": "2025-02-04T23:47:58.891982Z",
     "start_time": "2025-02-04T23:47:58.883065Z"
    }
   },
   "cell_type": "code",
   "source": [
    "from typing import List, Dict, Any\n",
    "from langchain.memory import ConversationBufferMemory\n",
    "\n",
    "# Thanks to https://github.com/langchain-ai/langchain/issues/1800#issuecomment-1598128244\n",
    "class ExtendedConversationBufferMemory(ConversationBufferMemory):\n",
    "    extra_variables:List[str] = []\n",
    "\n",
    "    @property\n",
    "    def memory_variables(self) -> List[str]:\n",
    "        \"\"\"Will always return list of memory variables.\"\"\"\n",
    "        return [self.memory_key] + self.extra_variables\n",
    "\n",
    "    def load_memory_variables(self, inputs: Dict[str, Any]) -> Dict[str, Any]:\n",
    "        \"\"\"Return buffer with history and extra variables\"\"\"\n",
    "        d = super().load_memory_variables(inputs)\n",
    "        d.update({k:inputs.get(k) for k in self.extra_variables})\n",
    "        return d"
   ],
   "id": "e46509327cd17e34",
   "outputs": [],
   "execution_count": 195
  },
  {
   "metadata": {
    "ExecuteTime": {
     "end_time": "2025-02-04T23:48:04.008669Z",
     "start_time": "2025-02-04T23:48:04.001071Z"
    }
   },
   "cell_type": "code",
   "source": [
    "from langchain.chains import ConversationChain\n",
    "from langchain.prompts import PromptTemplate\n",
    "\n",
    "\n",
    "memory_with_listings=ExtendedConversationBufferMemory(\n",
    "    conversation_history=create_chat_message_history(questions,answers),\n",
    "    llm=llm,\n",
    "    chat_memory=create_chat_message_history(questions,answers),\n",
    "    memory_key=\"context\",\n",
    "    extra_variables=[\"listings\"])\n",
    "\n",
    "\n",
    "qa_template_with_listings=PromptTemplate(template=\n",
    "                          ((\"\"\"%s. Only provide suggestions from the available listings. '\n",
    "\n",
    "Context: {context}\n",
    "\n",
    "Listings: {listings}\n",
    "\n",
    "Question: {question}\n",
    "\"\"\") % base_system_prompt),\n",
    "                          input_variables=[\"context\", \"listings\", \"question\"]\n",
    "                          )\n",
    "\n",
    "\n",
    "\n",
    "qa_chain_with_listings = ConversationChain(llm=llm,  memory=memory_with_listings, prompt=qa_template_with_listings,input_key=\"question\" ,output_key=\"answer\", verbose=True)\n",
    "\n"
   ],
   "id": "641dc03f5ca9bdff",
   "outputs": [],
   "execution_count": 196
  },
  {
   "metadata": {
    "ExecuteTime": {
     "end_time": "2025-02-04T23:48:08.595408Z",
     "start_time": "2025-02-04T23:48:05.518569Z"
    }
   },
   "cell_type": "code",
   "source": "response=qa_chain_with_listings(inputs={\"question\":\"I am waiting for your recommendations\"})",
   "id": "89878df086aab691",
   "outputs": [
    {
     "name": "stdout",
     "output_type": "stream",
     "text": [
      "\n",
      "\n",
      "\u001B[1m> Entering new ConversationChain chain...\u001B[0m\n",
      "Prompt after formatting:\n",
      "\u001B[32;1m\u001B[1;3mYou are a real estate agent. You have a new client who is looking for a new home.\n",
      "\n",
      "The client has provided answers to important questions in the context.\n",
      "\n",
      "Proceed as follows:\n",
      "- 1. First ask the user if he/she is ready to receive recommendations.\n",
      "    -2. If he/she enters says 'yes', summarize your understanding of the user preferences and ask the user if he/she is ready to receive recommendations telling the user to either type 'yes' or 'no'\n",
      "        -3. If he types 'yes' you match the user preferences with listings and make suggestions.. Only provide suggestions from the available listings. '\n",
      "\n",
      "Context: AI: How big should your house be?\n",
      "Human: A comfortable house with at least 3 bedrooms with a spacious kitchen and a cozy living room with at least 2000sqft\n",
      "AI: What are 3 most important things for you in choosing this property?\n",
      "Human: A quiet neighborhood, good local schools, and convenient shopping options.\n",
      "AI: What is the maximum price you would be willing to pay?Which amenities would you like?\n",
      "Human: $500,000\n",
      "AI: Which transportation options are important to you?\n",
      "Human: A backyard for gardening, a two-car garage, and a modern, energy-efficient heating system.\n",
      "AI: How urban do you want your neighborhood to be?\n",
      "Human: Easy access to a reliable bus line, proximity to a major highway, and bike-friendly roads.\n",
      "\n",
      "Listings: None\n",
      "\n",
      "Question: I am waiting for your recommendations\n",
      "\u001B[0m\n",
      "\n",
      "\u001B[1m> Finished chain.\u001B[0m\n"
     ]
    }
   ],
   "execution_count": 197
  },
  {
   "metadata": {
    "ExecuteTime": {
     "end_time": "2025-02-04T23:48:08.850625Z",
     "start_time": "2025-02-04T23:48:08.846480Z"
    }
   },
   "cell_type": "code",
   "source": "print(f\"The smart assistant answered: {response['answer']}\")",
   "id": "b711560aaab4d626",
   "outputs": [
    {
     "name": "stdout",
     "output_type": "stream",
     "text": [
      "The smart assistant answered: 1. Are you ready to receive recommendations based on your preferences?\n",
      "2. Based on your preferences for a comfortable house with at least 3 bedrooms, a spacious kitchen, and a cozy living room with at least 2000sqft, in a quiet neighborhood with good local schools and convenient shopping options, with a maximum budget of $500,000, amenities such as a backyard for gardening, a two-car garage, and a modern, energy-efficient heating system, and transportation options including easy access to a reliable bus line, proximity to a major highway, and bike-friendly roads, are you ready to receive recommendations? Please type 'yes' or 'no'.\n"
     ]
    }
   ],
   "execution_count": 198
  },
  {
   "metadata": {
    "ExecuteTime": {
     "end_time": "2025-02-04T23:48:12.046883Z",
     "start_time": "2025-02-04T23:48:12.043272Z"
    }
   },
   "cell_type": "code",
   "source": "preference_summary_by_smart_assistant=response['answer']",
   "id": "742ba5ba22367f3a",
   "outputs": [],
   "execution_count": 199
  },
  {
   "metadata": {},
   "cell_type": "markdown",
   "source": "Now we use the preference summary by the smart assistant to retreive suitable listings from the vector db",
   "id": "5edf77780a1f761c"
  },
  {
   "metadata": {
    "ExecuteTime": {
     "end_time": "2025-02-04T23:48:15.430938Z",
     "start_time": "2025-02-04T23:48:15.425422Z"
    }
   },
   "cell_type": "code",
   "source": [
    "from langchain.document_loaders import CSVLoader\n",
    "import random\n",
    "\n",
    "set_open_ai_api()\n",
    "listings_loader = CSVLoader(\"listings.csv\")\n",
    "listing_documents=listings_loader.load()\n",
    "print(f\"There are {len(listing_documents)} listings loaded\")\n",
    "sample_listings = random.sample(listing_documents, 2)\n",
    "print(f\"Here are two sample loaded listings:\\n{sample_listings}\")"
   ],
   "id": "84bd824b8f76f239",
   "outputs": [
    {
     "name": "stdout",
     "output_type": "stream",
     "text": [
      "There are 28 listings loaded\n",
      "Here are two sample loaded listings:\n",
      "[Document(page_content='neighborhood: Pinecrest Meadows\\nprice: 400000\\nbedrooms: 3\\nbathrooms: 2\\nhouse_size: 1800\\ndescription: Newly renovated home with modern finishes and a spacious backyard for outdoor entertaining. The open floor plan and large windows create a bright and inviting atmosphere throughout the house.\\nneighborhood_description: Pinecrest Meadows is a family-friendly neighborhood with well-maintained parks and playgrounds for children to enjoy. Conveniently located near shopping centers, restaurants, and schools, making it a desirable place to live for families and young professionals.', metadata={'source': 'listings.csv', 'row': 4}), Document(page_content='neighborhood: Cedarwood Village\\nprice: 225000\\nbedrooms: 3\\nbathrooms: 2\\nhouse_size: 1600\\ndescription: Cozy home with a spacious backyard and deck for outdoor gatherings and relaxation. The open floor plan and large windows create a bright and inviting atmosphere throughout the house.\\nneighborhood_description: Cedarwood Village is a family-friendly neighborhood with tree-lined streets and nearby parks for outdoor activities. Close to schools, shopping centers, and restaurants, making it a convenient and welcoming place to call home.', metadata={'source': 'listings.csv', 'row': 24})]\n"
     ]
    }
   ],
   "execution_count": 200
  },
  {
   "metadata": {
    "ExecuteTime": {
     "end_time": "2025-02-04T23:48:20.050127Z",
     "start_time": "2025-02-04T23:48:17.634108Z"
    }
   },
   "cell_type": "code",
   "source": [
    "from langchain.vectorstores import Chroma\n",
    "from langchain.embeddings import OpenAIEmbeddings\n",
    "\n",
    "\n",
    "embeddings_model=OpenAIEmbeddings()\n",
    "listings_db=Chroma.from_documents(documents=listing_documents,embedding=embeddings_model)\n"
   ],
   "id": "58a49f888ac6ec21",
   "outputs": [],
   "execution_count": 201
  },
  {
   "metadata": {
    "ExecuteTime": {
     "end_time": "2025-02-04T23:48:21.204849Z",
     "start_time": "2025-02-04T23:48:20.059047Z"
    }
   },
   "cell_type": "code",
   "source": [
    "most_similar_documents=listings_db.similarity_search(query=preference_summary_by_smart_assistant,k=5)\n",
    "print(f\"Most similar documents to the user preferences: {most_similar_documents}\")"
   ],
   "id": "31209d85927197e8",
   "outputs": [
    {
     "name": "stdout",
     "output_type": "stream",
     "text": [
      "Most similar documents to the user preferences: [Document(page_content='neighborhood: Meadowview Village\\nprice: 700000\\nbedrooms: 5\\nbathrooms: 2\\nhouse_size: 2500\\ndescription: Spacious two-story home with a large backyard and deck for outdoor gatherings and relaxation. The updated kitchen and cozy living room provide a comfortable and inviting space for families to enjoy.\\nneighborhood_description: Meadowview Village is a family-friendly neighborhood with top-rated schools and community parks for children to play and explore. Close to shopping centers, restaurants, and recreational facilities, making it a convenient and desirable place to live for families and young professionals.', metadata={'row': 20, 'source': 'listings.csv'}), Document(page_content='neighborhood: Meadowview Village\\nprice: 700000\\nbedrooms: 5\\nbathrooms: 2\\nhouse_size: 2500\\ndescription: Spacious two-story home with a large backyard and deck for outdoor gatherings and relaxation. The updated kitchen and cozy living room provide a comfortable and inviting space for families to enjoy.\\nneighborhood_description: Meadowview Village is a family-friendly neighborhood with top-rated schools and community parks for children to play and explore. Close to shopping centers, restaurants, and recreational facilities, making it a convenient and desirable place to live for families and young professionals.', metadata={'row': 20, 'source': 'listings.csv'}), Document(page_content='neighborhood: Meadowview Village\\nprice: 700000\\nbedrooms: 5\\nbathrooms: 2\\nhouse_size: 2500\\ndescription: Spacious two-story home with a large backyard and deck for outdoor gatherings and relaxation. The updated kitchen and cozy living room provide a comfortable and inviting space for families to enjoy.\\nneighborhood_description: Meadowview Village is a family-friendly neighborhood with top-rated schools and community parks for children to play and explore. Close to shopping centers, restaurants, and recreational facilities, making it a convenient and desirable place to live for families and young professionals.', metadata={'row': 20, 'source': 'listings.csv'}), Document(page_content='neighborhood: Meadowview Village\\nprice: 700000\\nbedrooms: 5\\nbathrooms: 2\\nhouse_size: 2500\\ndescription: Spacious two-story home with a large backyard and deck for outdoor gatherings and relaxation. The updated kitchen and cozy living room provide a comfortable and inviting space for families to enjoy.\\nneighborhood_description: Meadowview Village is a family-friendly neighborhood with top-rated schools and community parks for children to play and explore. Close to shopping centers, restaurants, and recreational facilities, making it a convenient and desirable place to live for families and young professionals.', metadata={'row': 20, 'source': 'listings.csv'}), Document(page_content='neighborhood: Meadowview Village\\nprice: 700000\\nbedrooms: 5\\nbathrooms: 2\\nhouse_size: 2500\\ndescription: Spacious two-story home with a large backyard and deck for outdoor gatherings and relaxation. The updated kitchen and cozy living room provide a comfortable and inviting space for families to enjoy.\\nneighborhood_description: Meadowview Village is a family-friendly neighborhood with top-rated schools and community parks for children to play and explore. Close to shopping centers, restaurants, and recreational facilities, making it a convenient and desirable place to live for families and young professionals.', metadata={'row': 20, 'source': 'listings.csv'})]\n"
     ]
    }
   ],
   "execution_count": 202
  },
  {
   "metadata": {
    "ExecuteTime": {
     "end_time": "2025-02-04T23:48:54.315287Z",
     "start_time": "2025-02-04T23:48:54.309701Z"
    }
   },
   "cell_type": "code",
   "source": [
    "most_similar_documents_string=\"\\n\\n---\\n\".join([most_similar_document.page_content for most_similar_document in most_similar_documents])\n",
    "print(most_similar_documents_string)"
   ],
   "id": "b6b360fef4cb7238",
   "outputs": [
    {
     "name": "stdout",
     "output_type": "stream",
     "text": [
      "neighborhood: Meadowview Village\n",
      "price: 700000\n",
      "bedrooms: 5\n",
      "bathrooms: 2\n",
      "house_size: 2500\n",
      "description: Spacious two-story home with a large backyard and deck for outdoor gatherings and relaxation. The updated kitchen and cozy living room provide a comfortable and inviting space for families to enjoy.\n",
      "neighborhood_description: Meadowview Village is a family-friendly neighborhood with top-rated schools and community parks for children to play and explore. Close to shopping centers, restaurants, and recreational facilities, making it a convenient and desirable place to live for families and young professionals.\n",
      "\n",
      "---\n",
      "neighborhood: Meadowview Village\n",
      "price: 700000\n",
      "bedrooms: 5\n",
      "bathrooms: 2\n",
      "house_size: 2500\n",
      "description: Spacious two-story home with a large backyard and deck for outdoor gatherings and relaxation. The updated kitchen and cozy living room provide a comfortable and inviting space for families to enjoy.\n",
      "neighborhood_description: Meadowview Village is a family-friendly neighborhood with top-rated schools and community parks for children to play and explore. Close to shopping centers, restaurants, and recreational facilities, making it a convenient and desirable place to live for families and young professionals.\n",
      "\n",
      "---\n",
      "neighborhood: Meadowview Village\n",
      "price: 700000\n",
      "bedrooms: 5\n",
      "bathrooms: 2\n",
      "house_size: 2500\n",
      "description: Spacious two-story home with a large backyard and deck for outdoor gatherings and relaxation. The updated kitchen and cozy living room provide a comfortable and inviting space for families to enjoy.\n",
      "neighborhood_description: Meadowview Village is a family-friendly neighborhood with top-rated schools and community parks for children to play and explore. Close to shopping centers, restaurants, and recreational facilities, making it a convenient and desirable place to live for families and young professionals.\n",
      "\n",
      "---\n",
      "neighborhood: Meadowview Village\n",
      "price: 700000\n",
      "bedrooms: 5\n",
      "bathrooms: 2\n",
      "house_size: 2500\n",
      "description: Spacious two-story home with a large backyard and deck for outdoor gatherings and relaxation. The updated kitchen and cozy living room provide a comfortable and inviting space for families to enjoy.\n",
      "neighborhood_description: Meadowview Village is a family-friendly neighborhood with top-rated schools and community parks for children to play and explore. Close to shopping centers, restaurants, and recreational facilities, making it a convenient and desirable place to live for families and young professionals.\n",
      "\n",
      "---\n",
      "neighborhood: Meadowview Village\n",
      "price: 700000\n",
      "bedrooms: 5\n",
      "bathrooms: 2\n",
      "house_size: 2500\n",
      "description: Spacious two-story home with a large backyard and deck for outdoor gatherings and relaxation. The updated kitchen and cozy living room provide a comfortable and inviting space for families to enjoy.\n",
      "neighborhood_description: Meadowview Village is a family-friendly neighborhood with top-rated schools and community parks for children to play and explore. Close to shopping centers, restaurants, and recreational facilities, making it a convenient and desirable place to live for families and young professionals.\n"
     ]
    }
   ],
   "execution_count": 205
  },
  {
   "metadata": {
    "ExecuteTime": {
     "end_time": "2025-02-04T23:49:35.438932Z",
     "start_time": "2025-02-04T23:49:32.529006Z"
    }
   },
   "cell_type": "code",
   "source": "response=qa_chain_with_listings(inputs={\"question\":\"yes\",\"listings\":most_similar_documents_string})",
   "id": "34ad51e7a3b3b05f",
   "outputs": [
    {
     "name": "stdout",
     "output_type": "stream",
     "text": [
      "\n",
      "\n",
      "\u001B[1m> Entering new ConversationChain chain...\u001B[0m\n",
      "Prompt after formatting:\n",
      "\u001B[32;1m\u001B[1;3mYou are a real estate agent. You have a new client who is looking for a new home.\n",
      "\n",
      "The client has provided answers to important questions in the context.\n",
      "\n",
      "Proceed as follows:\n",
      "- 1. First ask the user if he/she is ready to receive recommendations.\n",
      "    -2. If he/she enters says 'yes', summarize your understanding of the user preferences and ask the user if he/she is ready to receive recommendations telling the user to either type 'yes' or 'no'\n",
      "        -3. If he types 'yes' you match the user preferences with listings and make suggestions.. Only provide suggestions from the available listings. '\n",
      "\n",
      "Context: AI: How big should your house be?\n",
      "Human: A comfortable house with at least 3 bedrooms with a spacious kitchen and a cozy living room with at least 2000sqft\n",
      "AI: What are 3 most important things for you in choosing this property?\n",
      "Human: A quiet neighborhood, good local schools, and convenient shopping options.\n",
      "AI: What is the maximum price you would be willing to pay?Which amenities would you like?\n",
      "Human: $500,000\n",
      "AI: Which transportation options are important to you?\n",
      "Human: A backyard for gardening, a two-car garage, and a modern, energy-efficient heating system.\n",
      "AI: How urban do you want your neighborhood to be?\n",
      "Human: Easy access to a reliable bus line, proximity to a major highway, and bike-friendly roads.\n",
      "Human: I am waiting for your recommendations\n",
      "AI: 1. Are you ready to receive recommendations based on your preferences?\n",
      "2. Based on your preferences for a comfortable house with at least 3 bedrooms, a spacious kitchen, and a cozy living room with at least 2000sqft, in a quiet neighborhood with good local schools and convenient shopping options, with a maximum budget of $500,000, amenities such as a backyard for gardening, a two-car garage, and a modern, energy-efficient heating system, and transportation options including easy access to a reliable bus line, proximity to a major highway, and bike-friendly roads, are you ready to receive recommendations? Please type 'yes' or 'no'.\n",
      "\n",
      "Listings: neighborhood: Meadowview Village\n",
      "price: 700000\n",
      "bedrooms: 5\n",
      "bathrooms: 2\n",
      "house_size: 2500\n",
      "description: Spacious two-story home with a large backyard and deck for outdoor gatherings and relaxation. The updated kitchen and cozy living room provide a comfortable and inviting space for families to enjoy.\n",
      "neighborhood_description: Meadowview Village is a family-friendly neighborhood with top-rated schools and community parks for children to play and explore. Close to shopping centers, restaurants, and recreational facilities, making it a convenient and desirable place to live for families and young professionals.\n",
      "\n",
      "---\n",
      "neighborhood: Meadowview Village\n",
      "price: 700000\n",
      "bedrooms: 5\n",
      "bathrooms: 2\n",
      "house_size: 2500\n",
      "description: Spacious two-story home with a large backyard and deck for outdoor gatherings and relaxation. The updated kitchen and cozy living room provide a comfortable and inviting space for families to enjoy.\n",
      "neighborhood_description: Meadowview Village is a family-friendly neighborhood with top-rated schools and community parks for children to play and explore. Close to shopping centers, restaurants, and recreational facilities, making it a convenient and desirable place to live for families and young professionals.\n",
      "\n",
      "---\n",
      "neighborhood: Meadowview Village\n",
      "price: 700000\n",
      "bedrooms: 5\n",
      "bathrooms: 2\n",
      "house_size: 2500\n",
      "description: Spacious two-story home with a large backyard and deck for outdoor gatherings and relaxation. The updated kitchen and cozy living room provide a comfortable and inviting space for families to enjoy.\n",
      "neighborhood_description: Meadowview Village is a family-friendly neighborhood with top-rated schools and community parks for children to play and explore. Close to shopping centers, restaurants, and recreational facilities, making it a convenient and desirable place to live for families and young professionals.\n",
      "\n",
      "---\n",
      "neighborhood: Meadowview Village\n",
      "price: 700000\n",
      "bedrooms: 5\n",
      "bathrooms: 2\n",
      "house_size: 2500\n",
      "description: Spacious two-story home with a large backyard and deck for outdoor gatherings and relaxation. The updated kitchen and cozy living room provide a comfortable and inviting space for families to enjoy.\n",
      "neighborhood_description: Meadowview Village is a family-friendly neighborhood with top-rated schools and community parks for children to play and explore. Close to shopping centers, restaurants, and recreational facilities, making it a convenient and desirable place to live for families and young professionals.\n",
      "\n",
      "---\n",
      "neighborhood: Meadowview Village\n",
      "price: 700000\n",
      "bedrooms: 5\n",
      "bathrooms: 2\n",
      "house_size: 2500\n",
      "description: Spacious two-story home with a large backyard and deck for outdoor gatherings and relaxation. The updated kitchen and cozy living room provide a comfortable and inviting space for families to enjoy.\n",
      "neighborhood_description: Meadowview Village is a family-friendly neighborhood with top-rated schools and community parks for children to play and explore. Close to shopping centers, restaurants, and recreational facilities, making it a convenient and desirable place to live for families and young professionals.\n",
      "\n",
      "Question: yes\n",
      "\u001B[0m\n",
      "\n",
      "\u001B[1m> Finished chain.\u001B[0m\n"
     ]
    }
   ],
   "execution_count": 206
  },
  {
   "metadata": {
    "ExecuteTime": {
     "end_time": "2025-02-04T23:49:38.226598Z",
     "start_time": "2025-02-04T23:49:38.222285Z"
    }
   },
   "cell_type": "code",
   "source": "print(f\"The smart assistant answered: {response['answer']}\")",
   "id": "5480751f6098d632",
   "outputs": [
    {
     "name": "stdout",
     "output_type": "stream",
     "text": [
      "The smart assistant answered: Based on your preferences for a comfortable house with at least 3 bedrooms, a spacious kitchen, and a cozy living room with at least 2000sqft, in a quiet neighborhood with good local schools and convenient shopping options, with a maximum budget of $500,000, amenities such as a backyard for gardening, a two-car garage, and a modern, energy-efficient heating system, and transportation options including easy access to a reliable bus line, proximity to a major highway, and bike-friendly roads, I recommend the following listing:\n",
      "\n",
      "Listing in Meadowview Village:\n",
      "- Price: $700,000\n",
      "- Bedrooms: 5\n",
      "- Bathrooms: 2\n",
      "- House Size: 2500 sqft\n",
      "- Description: Spacious two-story home with a large backyard and deck for outdoor gatherings and relaxation. The updated kitchen and cozy living room provide a comfortable and inviting space for families to enjoy.\n",
      "- Neighborhood Description: Meadowview Village is a family-friendly neighborhood with top-rated schools and community parks for children to play and explore. Close to shopping centers, restaurants, and recreational facilities, making it a convenient and desirable place to live for families and young professionals.\n",
      "\n",
      "Would you like more information on this listing or are you interested in exploring other options?\n"
     ]
    }
   ],
   "execution_count": 207
  },
  {
   "metadata": {},
   "cell_type": "markdown",
   "source": "Let's verify if the listing indeed exists",
   "id": "5affcca3925ee771"
  },
  {
   "metadata": {
    "ExecuteTime": {
     "end_time": "2025-02-04T23:54:27.411947Z",
     "start_time": "2025-02-04T23:54:27.397750Z"
    }
   },
   "cell_type": "code",
   "source": [
    "import pandas as pd\n",
    "df=pd.read_csv(\"listings.csv\")\n",
    "filtered_df=df[df[\"neighborhood\"]==\"Meadowview Village\"]\n",
    "filtered_df.head()"
   ],
   "id": "4ef1bd9f3dbfedc0",
   "outputs": [
    {
     "data": {
      "text/plain": [
       "          neighborhood   price  bedrooms  bathrooms  house_size  \\\n",
       "20  Meadowview Village  700000         5          2        2500   \n",
       "\n",
       "                                          description  \\\n",
       "20  Spacious two-story home with a large backyard ...   \n",
       "\n",
       "                             neighborhood_description  \n",
       "20  Meadowview Village is a family-friendly neighb...  "
      ],
      "text/html": [
       "<div>\n",
       "<style scoped>\n",
       "    .dataframe tbody tr th:only-of-type {\n",
       "        vertical-align: middle;\n",
       "    }\n",
       "\n",
       "    .dataframe tbody tr th {\n",
       "        vertical-align: top;\n",
       "    }\n",
       "\n",
       "    .dataframe thead th {\n",
       "        text-align: right;\n",
       "    }\n",
       "</style>\n",
       "<table border=\"1\" class=\"dataframe\">\n",
       "  <thead>\n",
       "    <tr style=\"text-align: right;\">\n",
       "      <th></th>\n",
       "      <th>neighborhood</th>\n",
       "      <th>price</th>\n",
       "      <th>bedrooms</th>\n",
       "      <th>bathrooms</th>\n",
       "      <th>house_size</th>\n",
       "      <th>description</th>\n",
       "      <th>neighborhood_description</th>\n",
       "    </tr>\n",
       "  </thead>\n",
       "  <tbody>\n",
       "    <tr>\n",
       "      <th>20</th>\n",
       "      <td>Meadowview Village</td>\n",
       "      <td>700000</td>\n",
       "      <td>5</td>\n",
       "      <td>2</td>\n",
       "      <td>2500</td>\n",
       "      <td>Spacious two-story home with a large backyard ...</td>\n",
       "      <td>Meadowview Village is a family-friendly neighb...</td>\n",
       "    </tr>\n",
       "  </tbody>\n",
       "</table>\n",
       "</div>"
      ]
     },
     "execution_count": 214,
     "metadata": {},
     "output_type": "execute_result"
    }
   ],
   "execution_count": 214
  },
  {
   "metadata": {},
   "cell_type": "code",
   "outputs": [],
   "execution_count": null,
   "source": "Good job :)",
   "id": "f8a53765fb9f87f8"
  }
 ],
 "metadata": {
  "kernelspec": {
   "display_name": "Python 3 (ipykernel)",
   "language": "python",
   "name": "python3"
  },
  "language_info": {
   "codemirror_mode": {
    "name": "ipython",
    "version": 3
   },
   "file_extension": ".py",
   "mimetype": "text/x-python",
   "name": "python",
   "nbconvert_exporter": "python",
   "pygments_lexer": "ipython3",
   "version": "3.10.11"
  }
 },
 "nbformat": 4,
 "nbformat_minor": 5
}
