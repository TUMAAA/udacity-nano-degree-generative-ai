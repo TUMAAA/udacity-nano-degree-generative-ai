{
 "cells": [
  {
   "cell_type": "markdown",
   "id": "cf9d6626",
   "metadata": {},
   "source": [
    "EXPLANATION: https://www.youtube.com/watch?v=fmN19jXkH5o&t=1s\n",
    "\n",
    "# Steps 3 & 4: Querying a Completion Model with a Custom Text Prompt"
   ]
  },
  {
   "cell_type": "markdown",
   "id": "e0478d18",
   "metadata": {},
   "source": [
    "Add your API key to the cell below then run it."
   ]
  },
  {
   "cell_type": "code",
   "id": "186b2c28",
   "metadata": {
    "ExecuteTime": {
     "end_time": "2025-01-26T21:09:12.076947Z",
     "start_time": "2025-01-26T21:09:12.060121Z"
    }
   },
   "source": [
    "import openai\n",
    "openai.api_base = \"https://openai.vocareum.com/v1\"\n",
    "openai.api_key ="
   ],
   "outputs": [],
   "execution_count": 4
  },
  {
   "cell_type": "markdown",
   "id": "8fa50906",
   "metadata": {},
   "source": [
    "The code below loads in the data sorted by cosine distance that you previously created. Run it as-is."
   ]
  },
  {
   "cell_type": "code",
   "id": "3fd3a3ae",
   "metadata": {
    "ExecuteTime": {
     "end_time": "2025-01-26T21:09:13.942523Z",
     "start_time": "2025-01-26T21:09:13.925283Z"
    }
   },
   "source": [
    "import pandas as pd\n",
    "\n",
    "df = pd.read_csv(\"distances.csv\", index_col=0)\n",
    "df"
   ],
   "outputs": [
    {
     "data": {
      "text/plain": [
       "                                                 text  \\\n",
       "2   There was widespread damage in an area of abou...   \n",
       "45  The USGS Prompt Assessment of Global Earthquak...   \n",
       "46  The United Nations Development Programme estim...   \n",
       "0   On 6 February 2023, at 04:17 TRT (01:17 UTC), ...   \n",
       "70  The Turkish Government was criticized on socia...   \n",
       "..                                                ...   \n",
       "27                                             \\t\\t\\t   \n",
       "28                                             \\t\\t\\t   \n",
       "36                                             \\t\\t\\t   \n",
       "31                                             \\t\\t\\t   \n",
       "35                                             \\t\\t\\t   \n",
       "\n",
       "                                           embeddings  distances  \n",
       "2   [-0.00367865 -0.02011255 -0.01324833 ...  0.00...   0.087936  \n",
       "45  [-0.00564726 -0.02702904  0.00706243 ...  0.00...   0.102309  \n",
       "46  [ 0.01216849 -0.00288201 -0.00684733 ... -0.00...   0.116451  \n",
       "0   [-0.00786579 -0.01488738 -0.01354739 ... -0.00...   0.116957  \n",
       "70  [-5.34295512e-04 -8.55211547e-05 -6.40815916e-...   0.122179  \n",
       "..                                                ...        ...  \n",
       "27  [-0.01989811 -0.02768373 -0.02324662 ... -0.01...   0.296139  \n",
       "28  [-0.01989811 -0.02768373 -0.02324662 ... -0.01...   0.296139  \n",
       "36  [-0.01992117 -0.02773259 -0.02331025 ... -0.01...   0.296254  \n",
       "31  [-0.01992117 -0.02773259 -0.02331025 ... -0.01...   0.296254  \n",
       "35  [-0.01992117 -0.02773259 -0.02331025 ... -0.01...   0.296254  \n",
       "\n",
       "[101 rows x 3 columns]"
      ],
      "text/html": [
       "<div>\n",
       "<style scoped>\n",
       "    .dataframe tbody tr th:only-of-type {\n",
       "        vertical-align: middle;\n",
       "    }\n",
       "\n",
       "    .dataframe tbody tr th {\n",
       "        vertical-align: top;\n",
       "    }\n",
       "\n",
       "    .dataframe thead th {\n",
       "        text-align: right;\n",
       "    }\n",
       "</style>\n",
       "<table border=\"1\" class=\"dataframe\">\n",
       "  <thead>\n",
       "    <tr style=\"text-align: right;\">\n",
       "      <th></th>\n",
       "      <th>text</th>\n",
       "      <th>embeddings</th>\n",
       "      <th>distances</th>\n",
       "    </tr>\n",
       "  </thead>\n",
       "  <tbody>\n",
       "    <tr>\n",
       "      <th>2</th>\n",
       "      <td>There was widespread damage in an area of abou...</td>\n",
       "      <td>[-0.00367865 -0.02011255 -0.01324833 ...  0.00...</td>\n",
       "      <td>0.087936</td>\n",
       "    </tr>\n",
       "    <tr>\n",
       "      <th>45</th>\n",
       "      <td>The USGS Prompt Assessment of Global Earthquak...</td>\n",
       "      <td>[-0.00564726 -0.02702904  0.00706243 ...  0.00...</td>\n",
       "      <td>0.102309</td>\n",
       "    </tr>\n",
       "    <tr>\n",
       "      <th>46</th>\n",
       "      <td>The United Nations Development Programme estim...</td>\n",
       "      <td>[ 0.01216849 -0.00288201 -0.00684733 ... -0.00...</td>\n",
       "      <td>0.116451</td>\n",
       "    </tr>\n",
       "    <tr>\n",
       "      <th>0</th>\n",
       "      <td>On 6 February 2023, at 04:17 TRT (01:17 UTC), ...</td>\n",
       "      <td>[-0.00786579 -0.01488738 -0.01354739 ... -0.00...</td>\n",
       "      <td>0.116957</td>\n",
       "    </tr>\n",
       "    <tr>\n",
       "      <th>70</th>\n",
       "      <td>The Turkish Government was criticized on socia...</td>\n",
       "      <td>[-5.34295512e-04 -8.55211547e-05 -6.40815916e-...</td>\n",
       "      <td>0.122179</td>\n",
       "    </tr>\n",
       "    <tr>\n",
       "      <th>...</th>\n",
       "      <td>...</td>\n",
       "      <td>...</td>\n",
       "      <td>...</td>\n",
       "    </tr>\n",
       "    <tr>\n",
       "      <th>27</th>\n",
       "      <td>\\t\\t\\t</td>\n",
       "      <td>[-0.01989811 -0.02768373 -0.02324662 ... -0.01...</td>\n",
       "      <td>0.296139</td>\n",
       "    </tr>\n",
       "    <tr>\n",
       "      <th>28</th>\n",
       "      <td>\\t\\t\\t</td>\n",
       "      <td>[-0.01989811 -0.02768373 -0.02324662 ... -0.01...</td>\n",
       "      <td>0.296139</td>\n",
       "    </tr>\n",
       "    <tr>\n",
       "      <th>36</th>\n",
       "      <td>\\t\\t\\t</td>\n",
       "      <td>[-0.01992117 -0.02773259 -0.02331025 ... -0.01...</td>\n",
       "      <td>0.296254</td>\n",
       "    </tr>\n",
       "    <tr>\n",
       "      <th>31</th>\n",
       "      <td>\\t\\t\\t</td>\n",
       "      <td>[-0.01992117 -0.02773259 -0.02331025 ... -0.01...</td>\n",
       "      <td>0.296254</td>\n",
       "    </tr>\n",
       "    <tr>\n",
       "      <th>35</th>\n",
       "      <td>\\t\\t\\t</td>\n",
       "      <td>[-0.01992117 -0.02773259 -0.02331025 ... -0.01...</td>\n",
       "      <td>0.296254</td>\n",
       "    </tr>\n",
       "  </tbody>\n",
       "</table>\n",
       "<p>101 rows × 3 columns</p>\n",
       "</div>"
      ]
     },
     "execution_count": 5,
     "metadata": {},
     "output_type": "execute_result"
    }
   ],
   "execution_count": 5
  },
  {
   "cell_type": "markdown",
   "id": "757505cb",
   "metadata": {},
   "source": [
    "## TODO 1: Build the Custom Text Prompt\n",
    "\n",
    "Run the cell below as-is:"
   ]
  },
  {
   "cell_type": "code",
   "id": "d2c16528",
   "metadata": {
    "ExecuteTime": {
     "end_time": "2025-01-26T21:09:19.223303Z",
     "start_time": "2025-01-26T21:09:16.289723Z"
    }
   },
   "source": [
    "import tiktoken\n",
    "# Create a tokenizer that is designed to align with our embeddings\n",
    "tokenizer = tiktoken.get_encoding(\"cl100k_base\")\n",
    "\n",
    "token_limit = 1000\n",
    "USER_QUESTION = \"\"\"What were the estimated damages of the 2023 \\\n",
    "Turkey-Syria earthquake?\"\"\""
   ],
   "outputs": [],
   "execution_count": 6
  },
  {
   "cell_type": "markdown",
   "id": "e04c0ca1",
   "metadata": {},
   "source": [
    "Now your task is to compose the custom text prompt.\n",
    "\n",
    "The overall structure of the prompt should look like this:\n",
    "\n",
    "```\n",
    "Answer the question based on the context below, and if the\n",
    "question can't be answered based on the context, say \"I don't\n",
    "know\"\n",
    "\n",
    "Context:\n",
    "\n",
    "{context}\n",
    "\n",
    "---\n",
    "\n",
    "Question: {question}\n",
    "Answer:\n",
    "```\n",
    "\n",
    "In the place marked `context`, provide as much information from `df['text']` as possible without exceeding `token_limit`. In the place marked `question`, add `USER_QUESTION`.\n",
    "\n",
    "Your overall goal is to create a string called `prompt` that contains all of the relevant information."
   ]
  },
  {
   "cell_type": "markdown",
   "id": "6de013ac",
   "metadata": {},
   "source": [
    "If you're getting stuck, you can click to reveal the solution then copy and paste this into the cell below.\n",
    "\n",
    "---\n",
    "\n",
    "<details>\n",
    "    <summary style=\"cursor: pointer\"><strong>Solution (click to show/hide)</strong></summary>\n",
    "\n",
    "```python\n",
    "# Count the number of tokens in the prompt template and question\n",
    "prompt_template = \"\"\"\n",
    "Answer the question based on the context below, and if the \n",
    "question can't be answered based on the context, say \n",
    "\"I don't know\"\n",
    "\n",
    "Context: \n",
    "\n",
    "{}\n",
    "\n",
    "---\n",
    "\n",
    "Question: {}\n",
    "Answer:\"\"\"\n",
    "token_count = len(tokenizer.encode(prompt_template)) + \\\n",
    "                        len(tokenizer.encode(USER_QUESTION))\n",
    "\n",
    "# Create a list to store text for context\n",
    "context_list = []\n",
    "\n",
    "# Loop over rows of the sorted dataframe\n",
    "for text in df[\"text\"].values:\n",
    "    \n",
    "    # Append text to context_list if there is enough room\n",
    "    token_count += len(tokenizer.encode(text))\n",
    "    if token_count <= token_limit:\n",
    "        context_list.append(text)\n",
    "    else:\n",
    "        # Break once we're over the token limit\n",
    "        break\n",
    "\n",
    "# Use string formatting to complete the prompt\n",
    "prompt = prompt_template.format(\n",
    "    \"\\n\\n###\\n\\n\".join(context_list),\n",
    "    USER_QUESTION\n",
    ")\n",
    "print(prompt)\n",
    "```\n",
    "\n",
    "</details>"
   ]
  },
  {
   "cell_type": "code",
   "id": "06acf260",
   "metadata": {
    "ExecuteTime": {
     "end_time": "2025-01-26T21:14:58.032404Z",
     "start_time": "2025-01-26T21:14:57.936504Z"
    }
   },
   "source": [
    "# Count the number of tokens in the prompt template and question\n",
    "prompt_template = \"\"\"\n",
    "Answer the question based on the context below, and if the \n",
    "question can't be answered based on the context, say \n",
    "\"I don't know\"\n",
    "\n",
    "Context: \n",
    "\n",
    "{}\n",
    "\n",
    "---\n",
    "\n",
    "Question: {}\n",
    "Answer:\"\"\"\n",
    "token_count = len(tiktoken.get_encoding(\"cl100k_base\").encode(prompt_template)) + len(tiktoken.get_encoding(\"cl100k_base\").encode(USER_QUESTION))\n",
    "\n",
    "remaining_tokens = token_limit - token_count\n",
    "\n",
    "# Create a list to store text for context\n",
    "context_list = list()\n",
    "\n",
    "# Loop over rows of the sorted dataframe\n",
    "added_token_count = 0\n",
    "for text in df[\"text\"].values:\n",
    "    \n",
    "    # Append text to context_list if there is enough room\n",
    "    num_new_tokens = len(tiktoken.get_encoding(\"cl100k_base\").encode(text))\n",
    "    if num_new_tokens + added_token_count <= remaining_tokens:\n",
    "        context_list.append(text)\n",
    "        added_token_count+=num_new_tokens\n",
    "\n",
    "# Use string formatting to complete the prompt\n",
    "prompt = prompt_template.format(\n",
    "    \"\\n\\n###\\n\\n\".join(context_list),\n",
    "    USER_QUESTION\n",
    ")\n",
    "print(prompt)"
   ],
   "outputs": [
    {
     "name": "stdout",
     "output_type": "stream",
     "text": [
      "\n",
      "Answer the question based on the context below, and if the \n",
      "question can't be answered based on the context, say \n",
      "\"I don't know\"\n",
      "\n",
      "Context: \n",
      "\n",
      "There was widespread damage in an area of about 350,000 km2 (140,000 sq mi), about the size of Germany. An estimated 14 million people, or 16 percent of Turkey's population, were affected. Development experts from the United Nations estimated that about 1.5 million people were left homeless.The confirmed death toll in Turkey was 53,537; estimates of the number of dead in Syria were between 5,951 and 8,476. It is the deadliest earthquake in what is now present-day Turkey since the 526 Antioch earthquake and the deadliest natural disaster in its modern history. It is also the deadliest in present-day Syria since the 1822 Aleppo earthquake; the deadliest worldwide since the 2010 Haiti earthquake; and the fifth-deadliest of the 21st century. Damages were estimated at US$148.8 billion in Turkey, or nine-percent of the country's GDP, and US$14.8 billion in Syria.Damaged roads, winter storms, and disruption to communications hampered the Disaster and Emergency Management Presidency's rescue and relief effort, which included a 60,000-strong search-and-rescue force, 5,000 health workers and 30,000 volunteers. Following Turkey's call for international help, more than 141,000 people from 94 countries joined the rescue effort.\n",
      "\n",
      "###\n",
      "\n",
      "The USGS Prompt Assessment of Global Earthquakes for Response (PAGER) service estimated a 35 percent probability of economic losses between US$10 billion and US$100 billion. There was a 34 percent probability of economic losses exceeding US$100 billion. The service estimated a 36 percent probability of deaths between 10,000 and 100,000; 26 percent probability of deaths exceeding 100,000. For the second large earthquake, there was a 46 percent probability of deaths between 1,000 and 10,000; 30 percent probability of deaths between 100 and 1,000. The service also estimated a 35 percent percent probability of economic losses between US$1 billion and US$10 billion; 27 percent probability of economic losses between US$10 billion and US$100 billion.Risklayer estimated a death toll of between 23,284 and 105,671. According to geophysics professor, Övgün Ahmet Ercan, \"180,000 people or more may be trapped under the rubble, nearly all of them dead.\" On 11 February, when the death toll was reported at about 28,000, United Nations emergency relief coordinator Martin Griffiths said the death toll was expected to \"more than double\". The World Health Organization said up to 26 million people may have been affected; 15 million in Turkey and 11 million in Syria.Immediately after the earthquakes the Turkish lira value struck a record low of 18.85 against the US dollar, but rebounded to its starting position at the end of the day. Turkish stock markets fell; main equities benchmark fell as much as 5 percent and banks fell 5.5 percent but recovered from the losses. The country's main stock market dropped 1.35 percent on 6 February. The Borsa Istanbul fell 8.6 percent on 7 February, and declined by more than 7 percent on the morning of 8 February before trading was suspended; the exchange then announced it would close for five days. When the exchange reopened, Turkey's stock soared nearly 10 percent while the lira fell to a record low of 18.9010 against the dollar. Total cost of earthquake damage in Turkey was estimated by TÜRKONFED at $84.1 billion US dollars; $70.75 billion on rebuilding, $10.4 billion loss in national income, and an additional $2.91 billion loss in workforce. Turkish president Recep Tayyip Erdogan said rebuilding would cost $105 billion. The European Bank for Reconstruction and Development said potential losses may be up to 1 percent of Turkey's GDP in 2023. The Turkish government released a preliminary report estimating the total damage cost at $103.6 billion; corresponding to 9 percent of its GDP in 2023. About half of residential property in the affected area is thought to be covered by Compulsory Earthquake Insurance.\n",
      "\n",
      "###\n",
      "\n",
      "Zhe Jia et al., The complex dynamics of the 2023 Kahramanmaraş, Turkey, Mw 7.8-7.7 earthquake doublet.Science doi:10.1126/science.adi0685\n",
      "\n",
      "###\n",
      "\n",
      "List of earthquakes in Turkey\n",
      "\n",
      "###\n",
      "\n",
      "List of earthquakes in 2023\n",
      "\n",
      "###\n",
      "\n",
      "\t\t\n",
      "\n",
      "---\n",
      "\n",
      "Question: What were the estimated damages of the 2023 Turkey-Syria earthquake?\n",
      "Answer:\n"
     ]
    }
   ],
   "execution_count": 8
  },
  {
   "cell_type": "markdown",
   "id": "a097f24d",
   "metadata": {},
   "source": [
    "## TODO 2: Send Custom Text Prompt to Completion Model\n",
    "\n",
    "Using the `prompt` string you created, query an OpenAI `Completion` model to get an answer. Specify a `max_tokens` of 150.\n",
    "\n",
    "If you're getting stuck, you can click to reveal the solution then copy and paste this into the cell below.\n",
    "\n",
    "---\n",
    "\n",
    "<details>\n",
    "    <summary style=\"cursor: pointer\"><strong>Solution (click to show/hide)</strong></summary>\n",
    "\n",
    "```python\n",
    "COMPLETION_MODEL_NAME = \"gpt-3.5-turbo-instruct\"\n",
    "response = openai.Completion.create(\n",
    "    model=COMPLETION_MODEL_NAME,\n",
    "    prompt=prompt,\n",
    "    max_tokens=150\n",
    ")\n",
    "answer = response[\"choices\"][0][\"text\"].strip()\n",
    "print(answer)\n",
    "```\n",
    "\n",
    "</details>"
   ]
  },
  {
   "cell_type": "code",
   "id": "05b35a58",
   "metadata": {
    "ExecuteTime": {
     "end_time": "2025-01-26T21:17:54.163287Z",
     "start_time": "2025-01-26T21:17:52.144537Z"
    }
   },
   "source": [
    "COMPLETION_MODEL_NAME = \"gpt-3.5-turbo-instruct\"\n",
    "\n",
    "response = openai.Completion.create(model=COMPLETION_MODEL_NAME, prompt=prompt)\n",
    "answer = response[\"choices\"][0][\"text\"].strip()\n",
    "print(answer)"
   ],
   "outputs": [
    {
     "name": "stdout",
     "output_type": "stream",
     "text": [
      "The estimated damages for the 2023 Turkey-Syria earthquake were at least\n"
     ]
    }
   ],
   "execution_count": 12
  },
  {
   "cell_type": "markdown",
   "id": "70191209",
   "metadata": {},
   "source": [
    "## 🎉 Congratulations 🎉\n",
    "\n",
    "You have now completed the prompt engineering process using unsupervised ML to get a custom answer from an OpenAI model!"
   ]
  }
 ],
 "metadata": {
  "kernelspec": {
   "display_name": "Python 3 (ipykernel)",
   "language": "python",
   "name": "python3"
  },
  "language_info": {
   "codemirror_mode": {
    "name": "ipython",
    "version": 3
   },
   "file_extension": ".py",
   "mimetype": "text/x-python",
   "name": "python",
   "nbconvert_exporter": "python",
   "pygments_lexer": "ipython3",
   "version": "3.9.18"
  }
 },
 "nbformat": 4,
 "nbformat_minor": 5
}
