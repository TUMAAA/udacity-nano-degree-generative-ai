{
 "cells": [
  {
   "cell_type": "markdown",
   "id": "32a86128",
   "metadata": {},
   "source": [
    "EXPLANATION/SOLUTION: https://www.youtube.com/watch?v=IC_NMg7TP2s&t=164s\n",
    "\n",
    "# Step 2: Finding Relevant Data"
   ]
  },
  {
   "cell_type": "markdown",
   "id": "6e411bad",
   "metadata": {},
   "source": [
    "Add your API key to the cell below then run it."
   ]
  },
  {
   "cell_type": "code",
   "id": "bda6008b",
   "metadata": {
    "ExecuteTime": {
     "end_time": "2025-01-26T20:39:20.050548Z",
     "start_time": "2025-01-26T20:39:15.166378Z"
    }
   },
   "source": [
    "import openai\n",
    "openai.api_base = \"https://openai.vocareum.com/v1\"\n",
    "openai.api_key ="
   ],
   "outputs": [],
   "execution_count": 1
  },
  {
   "metadata": {
    "ExecuteTime": {
     "end_time": "2025-01-26T20:39:20.067662Z",
     "start_time": "2025-01-26T20:39:20.064852Z"
    }
   },
   "cell_type": "code",
   "source": "",
   "id": "2a6ff67f202417f8",
   "outputs": [],
   "execution_count": null
  },
  {
   "cell_type": "markdown",
   "id": "c94891e7",
   "metadata": {},
   "source": [
    "The code below loads in the embeddings you previously created. Run it as-is."
   ]
  },
  {
   "cell_type": "code",
   "id": "8079085d",
   "metadata": {
    "ExecuteTime": {
     "end_time": "2025-01-26T20:39:25.607642Z",
     "start_time": "2025-01-26T20:39:20.559599Z"
    }
   },
   "source": [
    "import numpy as np\n",
    "import pandas as pd\n",
    "\n",
    "df = pd.read_csv(\"embeddings.csv\", index_col=0)\n",
    "df[\"embeddings\"] = df[\"embeddings\"].apply(eval).apply(np.array)\n",
    "df"
   ],
   "outputs": [
    {
     "data": {
      "text/plain": [
       "                                                  text  \\\n",
       "0    On 6 February 2023, at 04:17 TRT (01:17 UTC), ...   \n",
       "1    The Mw 7.8 earthquake is the largest in Turkey...   \n",
       "2    There was widespread damage in an area of abou...   \n",
       "3    Central southern Turkey and northwestern Syria...   \n",
       "4    The EAF has produced large or damaging earthqu...   \n",
       "..                                                 ...   \n",
       "96   The International Seismological Centre has a b...   \n",
       "97   The International Seismological Centre has a b...   \n",
       "98   Erdik, M., Tümsa, M. B. D., Pınar, A., Altunel...   \n",
       "99   \"Kahramanmaraş Supersite science page\". Group ...   \n",
       "100  Schmitt, R.; Herman, M.; Barnhart, W.; Furlong...   \n",
       "\n",
       "                                            embeddings  \n",
       "0    [-0.007865791209042072, -0.01488738413900137, ...  \n",
       "1    [0.00019888307724613696, -0.022314351052045822...  \n",
       "2    [-0.003678650129586458, -0.020112549886107445,...  \n",
       "3    [-0.005976187530905008, -0.011475914157927036,...  \n",
       "4    [0.0002380282385274768, -0.02387528494000435, ...  \n",
       "..                                                 ...  \n",
       "96   [-0.004583664704114199, -0.009662682190537453,...  \n",
       "97   [-0.004807258490473032, -0.01684679090976715, ...  \n",
       "98   [-0.006729048676788807, -0.04049292206764221, ...  \n",
       "99   [0.0036264623049646616, -0.007848413661122322,...  \n",
       "100  [-0.01565597392618656, -0.022238751873373985, ...  \n",
       "\n",
       "[101 rows x 2 columns]"
      ],
      "text/html": [
       "<div>\n",
       "<style scoped>\n",
       "    .dataframe tbody tr th:only-of-type {\n",
       "        vertical-align: middle;\n",
       "    }\n",
       "\n",
       "    .dataframe tbody tr th {\n",
       "        vertical-align: top;\n",
       "    }\n",
       "\n",
       "    .dataframe thead th {\n",
       "        text-align: right;\n",
       "    }\n",
       "</style>\n",
       "<table border=\"1\" class=\"dataframe\">\n",
       "  <thead>\n",
       "    <tr style=\"text-align: right;\">\n",
       "      <th></th>\n",
       "      <th>text</th>\n",
       "      <th>embeddings</th>\n",
       "    </tr>\n",
       "  </thead>\n",
       "  <tbody>\n",
       "    <tr>\n",
       "      <th>0</th>\n",
       "      <td>On 6 February 2023, at 04:17 TRT (01:17 UTC), ...</td>\n",
       "      <td>[-0.007865791209042072, -0.01488738413900137, ...</td>\n",
       "    </tr>\n",
       "    <tr>\n",
       "      <th>1</th>\n",
       "      <td>The Mw 7.8 earthquake is the largest in Turkey...</td>\n",
       "      <td>[0.00019888307724613696, -0.022314351052045822...</td>\n",
       "    </tr>\n",
       "    <tr>\n",
       "      <th>2</th>\n",
       "      <td>There was widespread damage in an area of abou...</td>\n",
       "      <td>[-0.003678650129586458, -0.020112549886107445,...</td>\n",
       "    </tr>\n",
       "    <tr>\n",
       "      <th>3</th>\n",
       "      <td>Central southern Turkey and northwestern Syria...</td>\n",
       "      <td>[-0.005976187530905008, -0.011475914157927036,...</td>\n",
       "    </tr>\n",
       "    <tr>\n",
       "      <th>4</th>\n",
       "      <td>The EAF has produced large or damaging earthqu...</td>\n",
       "      <td>[0.0002380282385274768, -0.02387528494000435, ...</td>\n",
       "    </tr>\n",
       "    <tr>\n",
       "      <th>...</th>\n",
       "      <td>...</td>\n",
       "      <td>...</td>\n",
       "    </tr>\n",
       "    <tr>\n",
       "      <th>96</th>\n",
       "      <td>The International Seismological Centre has a b...</td>\n",
       "      <td>[-0.004583664704114199, -0.009662682190537453,...</td>\n",
       "    </tr>\n",
       "    <tr>\n",
       "      <th>97</th>\n",
       "      <td>The International Seismological Centre has a b...</td>\n",
       "      <td>[-0.004807258490473032, -0.01684679090976715, ...</td>\n",
       "    </tr>\n",
       "    <tr>\n",
       "      <th>98</th>\n",
       "      <td>Erdik, M., Tümsa, M. B. D., Pınar, A., Altunel...</td>\n",
       "      <td>[-0.006729048676788807, -0.04049292206764221, ...</td>\n",
       "    </tr>\n",
       "    <tr>\n",
       "      <th>99</th>\n",
       "      <td>\"Kahramanmaraş Supersite science page\". Group ...</td>\n",
       "      <td>[0.0036264623049646616, -0.007848413661122322,...</td>\n",
       "    </tr>\n",
       "    <tr>\n",
       "      <th>100</th>\n",
       "      <td>Schmitt, R.; Herman, M.; Barnhart, W.; Furlong...</td>\n",
       "      <td>[-0.01565597392618656, -0.022238751873373985, ...</td>\n",
       "    </tr>\n",
       "  </tbody>\n",
       "</table>\n",
       "<p>101 rows × 2 columns</p>\n",
       "</div>"
      ]
     },
     "execution_count": 2,
     "metadata": {},
     "output_type": "execute_result"
    }
   ],
   "execution_count": 2
  },
  {
   "cell_type": "markdown",
   "id": "f9f55c03",
   "metadata": {},
   "source": [
    "## TODO 1: Create Embeddings for the User's Question\n",
    "\n",
    "In the previous exercise, you were given the code to create embeddings for everything in the dataset. Now your task is to create embeddings for just one string: the user's question. Assign the result to the variable `question_embeddings`. This variable should contain a list of 1,536 floating point numbers, and the provided code will print the first 100 once `question_embeddings` has been created correctly.\n",
    "\n",
    "If you're getting stuck, you can click to reveal the solution then copy and paste this into the cell below.\n",
    "\n",
    "---\n",
    "\n",
    "<details>\n",
    "    <summary style=\"cursor: pointer\"><strong>Solution (click to show/hide)</strong></summary>\n",
    "\n",
    "```python\n",
    "EMBEDDING_MODEL_NAME = \"text-embedding-ada-002\"\n",
    "USER_QUESTION = \"\"\"What were the estimated damages of the 2023 \\\n",
    "Turkey-Syria earthquake?\"\"\"\n",
    "\n",
    "# Generate the embedding response\n",
    "response = openai.Embedding.create(\n",
    "    input=USER_QUESTION,\n",
    "    engine=EMBEDDING_MODEL_NAME\n",
    ")\n",
    "\n",
    "# Extract the embeddings from the response\n",
    "question_embeddings = response[\"data\"][0][\"embedding\"]\n",
    "\n",
    "print(question_embeddings[:100])\n",
    "```\n",
    "\n",
    "</details>"
   ]
  },
  {
   "cell_type": "code",
   "id": "fd5e0998",
   "metadata": {
    "ExecuteTime": {
     "end_time": "2025-01-26T20:41:25.860854Z",
     "start_time": "2025-01-26T20:41:24.314591Z"
    }
   },
   "source": [
    "EMBEDDING_MODEL_NAME = \"text-embedding-ada-002\"\n",
    "USER_QUESTION = \"\"\"What were the estimated damages of the 2023 \\\n",
    "Turkey-Syria earthquake?\"\"\"\n",
    "\n",
    "# Generate the embedding response\n",
    "response = openai.Embedding.create(\n",
    "    input=[USER_QUESTION],\n",
    "    engine=EMBEDDING_MODEL_NAME\n",
    ")\n",
    "\n",
    "# Extract the embeddings from the response\n",
    "question_embeddings = response[\"data\"][0][\"embedding\"]\n",
    "\n",
    "print(question_embeddings[:100])"
   ],
   "outputs": [
    {
     "name": "stdout",
     "output_type": "stream",
     "text": [
      "[0.0055134412832558155, -0.024900270625948906, 0.0023327376693487167, -0.012057743035256863, -0.02148180454969406, 0.0025389099027961493, -0.03381222486495972, -0.013101905584335327, 0.002271218691021204, -0.015004009008407593, 0.0162410419434309, 0.044320352375507355, -0.010262050665915012, -0.013308077119290829, 0.015070516616106033, -0.005400379188358784, 0.012456785887479782, -0.013135158456861973, 0.008339994587004185, -0.0057362401857972145, -0.0074754017405211926, 0.011472480371594429, 0.012396929785609245, -0.009018367156386375, 0.015123722143471241, 0.032162848860025406, 0.008027411065995693, -0.0023377256002277136, -0.0007943445816636086, -0.012204058468341827, 0.005523417145013809, -0.006550952792167664, -0.023450415581464767, 0.015256736427545547, -0.03240227326750755, -0.007575162220746279, 0.0068834880366921425, -0.0048450445756316185, 0.023344002664089203, -0.007927650585770607, 0.010075830854475498, 0.028624670580029488, 0.01296889130026102, -0.007708176504820585, -0.01754458248615265, -0.00427973410114646, 0.01725194975733757, 0.0030925816390663385, -0.004825092386454344, 0.021295584738254547, 0.013068651780486107, 0.026762470602989197, -0.03782925754785538, -0.020377784967422485, -0.015589271672070026, -0.016440562903881073, -0.0014066258445382118, -0.019579699262976646, -0.0001513037277618423, -0.011572240851819515, 0.009291046299040318, -0.006836933083832264, -0.02875768393278122, 0.00137919164262712, -0.013939894735813141, -0.015270037576556206, 0.007575162220746279, -0.02098965086042881, -0.019606303423643112, 0.010867265053093433, 0.05009317398071289, 0.04764571040868759, 0.0009219550993293524, -0.05708972364664078, 0.0352487787604332, -0.004791839048266411, 0.017917022109031677, -0.006517698988318443, -0.0072958325035870075, 0.0024241849314421415, 0.03644590824842453, -0.020244771614670753, -0.003784255823120475, 0.0014623255701735616, 0.03155098482966423, -0.0008463032427243888, 0.005207508336752653, 0.009377505630254745, -0.029236534610390663, 0.017877116799354553, 0.012835877016186714, 0.03040706180036068, -0.0034384187310934067, 0.009856357239186764, 0.0007860311889089644, -0.007674923166632652, -0.02565845102071762, 0.01703912764787674, -0.015615874901413918, -0.045889921486377716]\n"
     ]
    }
   ],
   "execution_count": 5
  },
  {
   "cell_type": "markdown",
   "id": "ee9cc40d",
   "metadata": {},
   "source": [
    "## TODO 2: Find Cosine Distances"
   ]
  },
  {
   "cell_type": "markdown",
   "id": "5a68de2b",
   "metadata": {},
   "source": [
    "Create a new list called `distances`, which represents the cosine distances between `question_embeddings` and each value in the `'embeddings'` column of `df`.\n",
    "\n",
    "If you're getting stuck, you can click to reveal the solution then copy and paste this into the cell below.\n",
    "\n",
    "---\n",
    "\n",
    "<details>\n",
    "    <summary style=\"cursor: pointer\"><strong>Solution (click to show/hide)</strong></summary>\n",
    "\n",
    "```python\n",
    "from openai.embeddings_utils import distances_from_embeddings\n",
    "\n",
    "# Create a list containing the distances from question_embeddings\n",
    "distances = distances_from_embeddings(\n",
    "    question_embeddings,\n",
    "    df[\"embeddings\"],\n",
    "    distance_metric=\"cosine\"\n",
    ")\n",
    "\n",
    "print(distances[:100])\n",
    "```\n",
    "\n",
    "</details>"
   ]
  },
  {
   "cell_type": "code",
   "id": "7fd30911",
   "metadata": {
    "ExecuteTime": {
     "end_time": "2025-01-26T20:48:18.560563Z",
     "start_time": "2025-01-26T20:48:18.542219Z"
    }
   },
   "source": [
    "from openai.embeddings_utils import distances_from_embeddings\n",
    "\n",
    "# Create a list containing the distances from question_embeddings\n",
    "distances = distances_from_embeddings(question_embeddings,df[\"embeddings\"].tolist())\n",
    "\n",
    "print(distances[:100])"
   ],
   "outputs": [
    {
     "name": "stdout",
     "output_type": "stream",
     "text": [
      "[0.11680920651973559, 0.13425348660279068, 0.08788036609447791, 0.17517923221232434, 0.15367085650797774, 0.14492131396243746, 0.14775697880875083, 0.15935300150433263, 0.14752053002356003, 0.16198672215288168, 0.19435548085926013, 0.14276406037143297, 0.16905621941011317, 0.18120243879979459, 0.16958621221992454, 0.18445703167759597, 0.12379760165159637, 0.1597856863240409, 0.16502861780429257, 0.16986085780715654, 0.1597849518435459, 0.16133452753617883, 0.14730919036105194, 0.1520681797649044, 0.17780499399558958, 0.18989790881775404, 0.28042572824119927, 0.296023162197683, 0.296023162197683, 0.28036399429011827, 0.28042572824119927, 0.2961383213044788, 0.2960066607739491, 0.2803146458626622, 0.2803146458626622, 0.2961383213044788, 0.2961383213044788, 0.2803146458626622, 0.2805110546042373, 0.2958320567077499, 0.2958320567077499, 0.2805110546042373, 0.16217995764056392, 0.1714939784784022, 0.14954191079273937, 0.10236716471210339, 0.11647027671568044, 0.17283112979525228, 0.1868069139921712, 0.18013376222851474, 0.15284383720932881, 0.15710283555811022, 0.19234132578797236, 0.15569469572182693, 0.14800630659382286, 0.18681406629029818, 0.1737695299980151, 0.19594514734056845, 0.2056541984307858, 0.23351488760511707, 0.16291091535241609, 0.19517269310835383, 0.16799712253311927, 0.1865837339328884, 0.22202753501965278, 0.1761471272387587, 0.15130423583307584, 0.21754733401463744, 0.18259421986744728, 0.16963850468082964, 0.12209207552131729, 0.20100958021578796, 0.19557495317831075, 0.1563986769957192, 0.22653048173363333, 0.1832224898968624, 0.23747209375097278, 0.18008396428471118, 0.15889731649842653, 0.18507796468152926, 0.17842091777771973, 0.1647776111963961, 0.13019483115287678, 0.13649616151644495, 0.1981845043021092, 0.14263246647708838, 0.12367201915434267, 0.14220186393513234, 0.14790135136579885, 0.13922987835636425, 0.14418989752475486, 0.15152714597472605, 0.15904143809515026, 0.1487155867983727, 0.1292829960830233, 0.22767050005030265, 0.19239289028245166, 0.19390513693514766, 0.1315300131995365, 0.21130835180540408]\n"
     ]
    }
   ],
   "execution_count": 11
  },
  {
   "cell_type": "markdown",
   "id": "f557de6a",
   "metadata": {},
   "source": [
    "## Sorting by Distance\n",
    "\n",
    "The code below uses the `distances` list to update `df` then sorts `df` to find the most related rows. Shorter distance means more similarity, so we'll use an ascending sorting order. Run the cell below as-is."
   ]
  },
  {
   "cell_type": "code",
   "id": "338c33f1",
   "metadata": {
    "ExecuteTime": {
     "end_time": "2025-01-26T20:48:32.430175Z",
     "start_time": "2025-01-26T20:48:32.303220Z"
    }
   },
   "source": [
    "df[\"distances\"] = distances\n",
    "df.sort_values(by=\"distances\", ascending=True, inplace=True)\n",
    "df.head(5)"
   ],
   "outputs": [
    {
     "data": {
      "text/plain": [
       "                                                 text  \\\n",
       "2   There was widespread damage in an area of abou...   \n",
       "45  The USGS Prompt Assessment of Global Earthquak...   \n",
       "46  The United Nations Development Programme estim...   \n",
       "0   On 6 February 2023, at 04:17 TRT (01:17 UTC), ...   \n",
       "70  The Turkish Government was criticized on socia...   \n",
       "\n",
       "                                           embeddings  distances  \n",
       "2   [-0.003678650129586458, -0.020112549886107445,...   0.087880  \n",
       "45  [-0.005647257436066866, -0.02702903561294079, ...   0.102367  \n",
       "46  [0.012168490327894688, -0.0028820110019296408,...   0.116470  \n",
       "0   [-0.007865791209042072, -0.01488738413900137, ...   0.116809  \n",
       "70  [-0.0005342955118976533, -8.552115468773991e-0...   0.122092  "
      ],
      "text/html": [
       "<div>\n",
       "<style scoped>\n",
       "    .dataframe tbody tr th:only-of-type {\n",
       "        vertical-align: middle;\n",
       "    }\n",
       "\n",
       "    .dataframe tbody tr th {\n",
       "        vertical-align: top;\n",
       "    }\n",
       "\n",
       "    .dataframe thead th {\n",
       "        text-align: right;\n",
       "    }\n",
       "</style>\n",
       "<table border=\"1\" class=\"dataframe\">\n",
       "  <thead>\n",
       "    <tr style=\"text-align: right;\">\n",
       "      <th></th>\n",
       "      <th>text</th>\n",
       "      <th>embeddings</th>\n",
       "      <th>distances</th>\n",
       "    </tr>\n",
       "  </thead>\n",
       "  <tbody>\n",
       "    <tr>\n",
       "      <th>2</th>\n",
       "      <td>There was widespread damage in an area of abou...</td>\n",
       "      <td>[-0.003678650129586458, -0.020112549886107445,...</td>\n",
       "      <td>0.087880</td>\n",
       "    </tr>\n",
       "    <tr>\n",
       "      <th>45</th>\n",
       "      <td>The USGS Prompt Assessment of Global Earthquak...</td>\n",
       "      <td>[-0.005647257436066866, -0.02702903561294079, ...</td>\n",
       "      <td>0.102367</td>\n",
       "    </tr>\n",
       "    <tr>\n",
       "      <th>46</th>\n",
       "      <td>The United Nations Development Programme estim...</td>\n",
       "      <td>[0.012168490327894688, -0.0028820110019296408,...</td>\n",
       "      <td>0.116470</td>\n",
       "    </tr>\n",
       "    <tr>\n",
       "      <th>0</th>\n",
       "      <td>On 6 February 2023, at 04:17 TRT (01:17 UTC), ...</td>\n",
       "      <td>[-0.007865791209042072, -0.01488738413900137, ...</td>\n",
       "      <td>0.116809</td>\n",
       "    </tr>\n",
       "    <tr>\n",
       "      <th>70</th>\n",
       "      <td>The Turkish Government was criticized on socia...</td>\n",
       "      <td>[-0.0005342955118976533, -8.552115468773991e-0...</td>\n",
       "      <td>0.122092</td>\n",
       "    </tr>\n",
       "  </tbody>\n",
       "</table>\n",
       "</div>"
      ]
     },
     "execution_count": 12,
     "metadata": {},
     "output_type": "execute_result"
    }
   ],
   "execution_count": 12
  },
  {
   "cell_type": "markdown",
   "id": "b08c82d1",
   "metadata": {},
   "source": [
    "Great, now we have the dataset sorted from most relevant to least relevant! Let's save this as a CSV so we can load it in the next step and compose a custom prompt.\n",
    "\n",
    "Run the cell below as-is."
   ]
  },
  {
   "cell_type": "code",
   "id": "89beaf82",
   "metadata": {
    "ExecuteTime": {
     "end_time": "2025-01-26T20:49:03.069672Z",
     "start_time": "2025-01-26T20:49:02.937427Z"
    }
   },
   "source": [
    "df.to_csv(\"distances.csv\")"
   ],
   "outputs": [],
   "execution_count": 13
  },
  {
   "cell_type": "code",
   "execution_count": null,
   "id": "15aaf8cd",
   "metadata": {},
   "outputs": [],
   "source": []
  }
 ],
 "metadata": {
  "kernelspec": {
   "display_name": "Python 3 (ipykernel)",
   "language": "python",
   "name": "python3"
  },
  "language_info": {
   "codemirror_mode": {
    "name": "ipython",
    "version": 3
   },
   "file_extension": ".py",
   "mimetype": "text/x-python",
   "name": "python",
   "nbconvert_exporter": "python",
   "pygments_lexer": "ipython3",
   "version": "3.9.18"
  }
 },
 "nbformat": 4,
 "nbformat_minor": 5
}
