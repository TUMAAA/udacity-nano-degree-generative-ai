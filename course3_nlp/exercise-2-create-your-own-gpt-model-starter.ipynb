{
 "cells": [
  {
   "cell_type": "markdown",
   "id": "47f54f39-d32a-4173-a35f-cfd6581d7617",
   "metadata": {},
   "source": [
    "# Exercise: Train your own transformer!\n",
    "\n",
    "EXPLANAINTION: https://www.youtube.com/watch?v=kE6leQAjTyA\n",
    "\n",
    "In this exercise, we will construct and train a minified GPT implementation. GPT refers to the \"Generative Pre-trained Transformers\" from OpenAI, originally described in [\"Improving language understanding with unsupervised learning\"](https://s3-us-west-2.amazonaws.com/openai-assets/research-covers/language-unsupervised/language_understanding_paper.pdf). This specific GPT implementation is heavily inspired by the [minGPT implementation](https://github.com/karpathy/minGPT) provided by [Andrej Karpathy](https://github.com/karpathy/).\n",
    "\n",
    "There are three important PyTorch modules here:\n",
    "* `MultiHeadSelfAttention`: a self-attention implementation which will be provided for you;\n",
    "* `Block`: a transformer block which is repeated n_layer times in a GPT model;\n",
    "* `GPT`: the full GPT model itself, including intial embeddings, the GPT blocks, and the token decoding logic.\n",
    "\n",
    "\n",
    "The `GPT` module uses the `Block` module, which in turn uses the `MultiHeadSelfAttention` module.\n",
    "```                                   \n",
    "    ┌────────────────────────┐     \n",
    "    │          GPT           │     \n",
    "    └────────────────────────┘     \n",
    "                ▲                  \n",
    "    ┌───────────┴────────────┐     \n",
    "    │         Block          │     \n",
    "    └────────────────────────┘     \n",
    "                ▲                  \n",
    "    ┌───────────┴────────────┐     \n",
    "    │ MultiHeadSelfAttention │     \n",
    "    └────────────────────────┘     \n",
    "\n",
    "```"
   ]
  },
  {
   "cell_type": "markdown",
   "id": "25d50337",
   "metadata": {},
   "source": [
    "## Step: Import and show MultiHeadSelfAttention"
   ]
  },
  {
   "cell_type": "code",
   "id": "d72f45f1",
   "metadata": {
    "ExecuteTime": {
     "end_time": "2025-01-23T13:50:05.692295Z",
     "start_time": "2025-01-23T13:50:03.322828Z"
    }
   },
   "source": [
    "from common_exercise_2_create_your_own_gpt_model_starter import GPTConfig, MultiHeadSelfAttention\n",
    "\n",
    "# Let's use a placeholder config to show how the attention layer works\n",
    "config = GPTConfig(\n",
    "    vocab_size=10,\n",
    "    n_layer=3,\n",
    "    n_embd=12,\n",
    "    n_head=4,\n",
    "    block_size=5,\n",
    ")\n",
    "\n",
    "attention = MultiHeadSelfAttention(config)\n",
    "\n",
    "print(attention)"
   ],
   "outputs": [
    {
     "name": "stderr",
     "output_type": "stream",
     "text": [
      "/home/tumaaa/work/repos/udacity_nano_degree_generative_ai/.venv/lib/python3.10/site-packages/tqdm/auto.py:21: TqdmWarning: IProgress not found. Please update jupyter and ipywidgets. See https://ipywidgets.readthedocs.io/en/stable/user_install.html\n",
      "  from .autonotebook import tqdm as notebook_tqdm\n"
     ]
    },
    {
     "name": "stdout",
     "output_type": "stream",
     "text": [
      "MultiHeadSelfAttention(\n",
      "  (key): Linear(in_features=12, out_features=12, bias=True)\n",
      "  (query): Linear(in_features=12, out_features=12, bias=True)\n",
      "  (value): Linear(in_features=12, out_features=12, bias=True)\n",
      "  (attn_drop): Dropout(p=0.1, inplace=False)\n",
      "  (resid_drop): Dropout(p=0.1, inplace=False)\n",
      "  (proj): Linear(in_features=12, out_features=12, bias=True)\n",
      ")\n"
     ]
    }
   ],
   "execution_count": 6
  },
  {
   "cell_type": "markdown",
   "id": "c036f69e-77cf-49b9-9c6d-cd2ecd449642",
   "metadata": {},
   "source": [
    "## Step: Create the Transformer Block\n",
    "\n",
    "Now we are going to create the GPT model using the `MultiHeadSelfAttention` module. Please fill in the sections marked `TODO`.\n",
    "\n",
    "In this cell, we are going to implement what is called a residual connection, which takes the form:\n",
    "\n",
    "```\n",
    "x := x + MultiHeadSelfAttention(LayerNorm(x)) + MLP(LayerNorm(x))\n",
    "```"
   ]
  },
  {
   "cell_type": "code",
   "id": "0d2f2605-b960-4ef0-9917-f44e1ee24894",
   "metadata": {
    "ExecuteTime": {
     "end_time": "2025-01-23T14:19:13.274770Z",
     "start_time": "2025-01-23T14:19:13.264143Z"
    }
   },
   "source": [
    "import torch.nn as nn\n",
    "\n",
    "\n",
    "class Block(nn.Module):\n",
    "    \"\"\"an unassuming Transformer block\"\"\"\n",
    "\n",
    "    # === EXERCISE PART 1 START: CONSTRUCT A TRANSFORMER BLOCK ===\n",
    "    def __init__(self, config):\n",
    "        super().__init__()\n",
    "        self.ln1 = nn.LayerNorm(config.n_embd)\n",
    "        self.ln2 = nn.LayerNorm(config.n_embd)\n",
    "\n",
    "        # TODO: Instantiate the MultiHeadSelfAttention module\n",
    "        self.attn = MultiHeadSelfAttention(config=config)\n",
    "\n",
    "        self.mlp = nn.Sequential(\n",
    "            nn.Linear(config.n_embd, 4 * config.n_embd),\n",
    "            nn.GELU(),\n",
    "            nn.Linear(4 * config.n_embd, config.n_embd),\n",
    "            nn.Dropout(config.resid_pdrop),\n",
    "        )\n",
    "\n",
    "    def forward(self, x):\n",
    "        # TODO: implement a residual connection of the following form\n",
    "\n",
    "        # x := x + MultiHeadSelfAttention(LayerNorm(x)) + MLP(LayerNorm(x))\n",
    "        x = x + self.attn(self.ln1(x)) + self.mlp(self.ln2(x))\n",
    "\n",
    "        # Hint: MultiHeadSelfAttention, LayerNorm, and MLP were all instantiated in __init__\n",
    "        # and are available as properties of self, e.g. self.attn\n",
    "\n",
    "        return x\n",
    "\n",
    "    # === EXERCISE PART 1 END: CONSTRUCT A TRANSFORMER BLOCK ===\n",
    "\n",
    "\n",
    "# Check that the block instantiates\n",
    "block = Block(config)\n",
    "block"
   ],
   "outputs": [
    {
     "data": {
      "text/plain": [
       "Block(\n",
       "  (ln1): LayerNorm((12,), eps=1e-05, elementwise_affine=True)\n",
       "  (ln2): LayerNorm((12,), eps=1e-05, elementwise_affine=True)\n",
       "  (attn): MultiHeadSelfAttention(\n",
       "    (key): Linear(in_features=12, out_features=12, bias=True)\n",
       "    (query): Linear(in_features=12, out_features=12, bias=True)\n",
       "    (value): Linear(in_features=12, out_features=12, bias=True)\n",
       "    (attn_drop): Dropout(p=0.1, inplace=False)\n",
       "    (resid_drop): Dropout(p=0.1, inplace=False)\n",
       "    (proj): Linear(in_features=12, out_features=12, bias=True)\n",
       "  )\n",
       "  (mlp): Sequential(\n",
       "    (0): Linear(in_features=12, out_features=48, bias=True)\n",
       "    (1): GELU(approximate='none')\n",
       "    (2): Linear(in_features=48, out_features=12, bias=True)\n",
       "    (3): Dropout(p=0.1, inplace=False)\n",
       "  )\n",
       ")"
      ]
     },
     "execution_count": 19,
     "metadata": {},
     "output_type": "execute_result"
    }
   ],
   "execution_count": 19
  },
  {
   "cell_type": "code",
   "id": "cc9632d1",
   "metadata": {
    "ExecuteTime": {
     "end_time": "2025-01-23T14:19:14.033118Z",
     "start_time": "2025-01-23T14:19:14.007019Z"
    }
   },
   "source": [
    "# Let's check some aspects of the block\n",
    "block = Block(config)\n",
    "assert isinstance(block.attn, MultiHeadSelfAttention)"
   ],
   "outputs": [],
   "execution_count": 20
  },
  {
   "cell_type": "markdown",
   "id": "5956be1b",
   "metadata": {},
   "source": [
    "## Step: Let's construct the GPT module\n",
    "It's time to put it all together and make our GPT PyTorch model. As before, fill in the `TODO` sections."
   ]
  },
  {
   "cell_type": "code",
   "id": "cdf27dcc",
   "metadata": {
    "ExecuteTime": {
     "end_time": "2025-01-23T14:21:21.665335Z",
     "start_time": "2025-01-23T14:21:21.646153Z"
    }
   },
   "source": [
    "import torch\n",
    "import torch.nn.functional as F\n",
    "\n",
    "\n",
    "class GPT(nn.Module):\n",
    "    \"\"\"the full GPT language model, with a context size of block_size\"\"\"\n",
    "\n",
    "    # === EXERCISE PART 2 START: COMPLETE THE GPT MODEL ===\n",
    "\n",
    "    def __init__(self, config):\n",
    "        super().__init__()\n",
    "\n",
    "        # input embedding stem\n",
    "        self.tok_emb = nn.Embedding(config.vocab_size, config.n_embd)\n",
    "        self.pos_emb = nn.Parameter(torch.zeros(1, config.block_size, config.n_embd))\n",
    "        self.drop = nn.Dropout(config.embd_pdrop)\n",
    "\n",
    "        # transformer\n",
    "        # TODO: Instantiate a sequence of N=config.n_layer transformer blocks.\n",
    "        # Hint: use nn.Sequential to chain N instances of the Block module.\n",
    "        self.blocks = nn.Sequential(*[Block(config)]*config.n_layer)\n",
    "\n",
    "        # decoder head\n",
    "        self.ln_f = nn.LayerNorm(config.n_embd)\n",
    "        self.head = nn.Linear(config.n_embd, config.vocab_size, bias=False)\n",
    "\n",
    "        self.block_size = config.block_size\n",
    "        self.apply(self._init_weights)\n",
    "\n",
    "        print(\n",
    "            \"number of parameters: {}\".format(sum(p.numel() for p in self.parameters()))\n",
    "        )\n",
    "\n",
    "    def _init_weights(self, module):\n",
    "        if isinstance(module, (nn.Linear, nn.Embedding)):\n",
    "            module.weight.data.normal_(mean=0.0, std=0.02)\n",
    "            if isinstance(module, nn.Linear) and module.bias is not None:\n",
    "                module.bias.data.zero_()\n",
    "        elif isinstance(module, nn.LayerNorm):\n",
    "            module.bias.data.zero_()\n",
    "            module.weight.data.fill_(1.0)\n",
    "\n",
    "    def get_block_size(self):\n",
    "        return self.block_size\n",
    "\n",
    "    def forward(self, idx, targets=None):\n",
    "        b, t = idx.size()\n",
    "        assert t <= self.block_size, \"Cannot forward, model block size is exhausted.\"\n",
    "\n",
    "        # Create token embeddings and add positional embeddings\n",
    "        token_embeddings = self.tok_emb(idx)  # each index maps to a (learnable) vector\n",
    "        position_embeddings = self.pos_emb[\n",
    "            :, :t, :\n",
    "        ]  # each position maps to a (learnable) vector\n",
    "        x = self.drop(token_embeddings + position_embeddings)\n",
    "\n",
    "        # TODO: Pass the embeddings through the transformer blocks, created previously in __init__\n",
    "        x = self.blocks(x)\n",
    "\n",
    "        # Decode the output of the transformer blocks\n",
    "        x = self.ln_f(x)\n",
    "        logits = self.head(x)\n",
    "\n",
    "        # If we are given some desired targets also calculate the loss, e.g. during training\n",
    "        if targets is not None:\n",
    "            loss = F.cross_entropy(\n",
    "                logits.view(-1, logits.size(-1)), targets.view(-1), ignore_index=-1\n",
    "            )\n",
    "        else:\n",
    "            loss = None\n",
    "\n",
    "        return logits, loss\n",
    "\n",
    "    # === EXERCISE PART 2 END: COMPLETE THE GPT MODEL ===\n",
    "\n",
    "    @torch.no_grad()\n",
    "    def generate(\n",
    "        self, idx, max_new_tokens, temperature=1.0, top_k=None, stop_tokens=None\n",
    "    ):\n",
    "        \"\"\"\n",
    "        Take a conditioning sequence of indices idx (LongTensor of shape (b,t)) and complete\n",
    "        the sequence max_new_tokens times, feeding the predictions back into the model each time.\n",
    "        Most likely you'll want to make sure to be in model.eval() mode of operation for this.\n",
    "        \"\"\"\n",
    "\n",
    "        # === EXERCISE PART 3 START: COMPLETE THE GENERATION LOGIC ===\n",
    "        for _ in range(max_new_tokens):\n",
    "            # if the sequence context is growing too long we must crop it at block_size\n",
    "            idx_cond = (\n",
    "                idx if idx.size(1) <= self.block_size else idx[:, -self.block_size :]\n",
    "            )\n",
    "\n",
    "            # forward the model to get the logits for the index in the sequence\n",
    "            logits, _ = self(idx_cond)\n",
    "\n",
    "            # pluck the logits at the final step and scale by desired temperature\n",
    "            logits = logits[:, -1, :] / temperature\n",
    "\n",
    "            # optionally crop the logits to only the top k options\n",
    "            if top_k is not None:\n",
    "                v, _ = torch.topk(logits, top_k)\n",
    "                logits[logits < v[:, [-1]]] = -float(\"Inf\")\n",
    "\n",
    "            # TODO: apply softmax to convert logits to (normalized) probabilities\n",
    "            # using F.softmax. Remember the dim=-1 parameter.\n",
    "            probs = F.softmax(logits, dim=-1)\n",
    "\n",
    "            # TODO: sample from the distribution (if top_k=1 this is equivalent to greedy sampling)\n",
    "            # using torch.multinomial. You only need to sample a single token.\n",
    "            idx_next = torch.multinomial(probs, num_samples=1)\n",
    "\n",
    "            # append sampled index to the running sequence and continue\n",
    "            idx = torch.cat((idx, idx_next), dim=1)\n",
    "\n",
    "            # stop prediction if we produced a stop token\n",
    "            if stop_tokens is not None and idx_next.item() in stop_tokens:\n",
    "                return idx\n",
    "        # === EXERCISE PART 3 END: COMPLETE THE GENERATION LOGIC ===\n",
    "\n",
    "        return idx"
   ],
   "outputs": [],
   "execution_count": 29
  },
  {
   "cell_type": "code",
   "id": "229e808a",
   "metadata": {
    "ExecuteTime": {
     "end_time": "2025-01-23T14:21:22.596282Z",
     "start_time": "2025-01-23T14:21:22.025473Z"
    }
   },
   "source": [
    "# Let's check this model runs real quickly\n",
    "\n",
    "\n",
    "model = GPT(config)\n",
    "input_seq = torch.tensor([[1, 2, 3]])\n",
    "output_seq = model.generate(input_seq, max_new_tokens=30)\n",
    "\n",
    "# Check the generated sequence shape\n",
    "assert output_seq.shape == (1, 33)\n",
    "\n",
    "print(\"input sequence:\", input_seq.tolist()[0])\n",
    "print(\"output sequence:\", output_seq.tolist()[0])\n",
    "\n",
    "print(\"Success!\")"
   ],
   "outputs": [
    {
     "name": "stdout",
     "output_type": "stream",
     "text": [
      "number of parameters: 2208\n",
      "input sequence: [1, 2, 3]\n",
      "output sequence: [1, 2, 3, 3, 5, 6, 3, 2, 5, 8, 8, 0, 0, 3, 5, 6, 9, 7, 9, 5, 5, 9, 8, 4, 5, 5, 5, 7, 1, 1, 7, 6, 1]\n",
      "Success!\n"
     ]
    }
   ],
   "execution_count": 30
  },
  {
   "cell_type": "markdown",
   "id": "d5ff8012-95d6-4000-b526-952f6c275bc7",
   "metadata": {},
   "source": [
    "## Step: Load a dataset\n",
    "\n",
    "We will now train our GPT model on a dataset consisting of one- to three-digit addition problems, e.g.\n",
    "\n",
    "```\n",
    "111+222=3+30+300=333\n",
    "```\n",
    "\n",
    "We break the addition up into two steps (first `=3+30+300` and then finally `=333`) to help the model train more quickly and successfully."
   ]
  },
  {
   "cell_type": "code",
   "id": "0b4aef1f",
   "metadata": {
    "ExecuteTime": {
     "end_time": "2025-01-23T14:21:59.225221Z",
     "start_time": "2025-01-23T14:21:59.101616Z"
    }
   },
   "source": [
    "# Run this cell to create a dataset. No modifications are needed.\n",
    "\n",
    "import numpy as np\n",
    "from common_exercise_2_create_your_own_gpt_model_starter import AdditionDataset, CharacterTokenizer\n",
    "\n",
    "BLOCK_SIZE = 32\n",
    "\n",
    "tokenizer = CharacterTokenizer(\n",
    "    characters=[\"0\", \"1\", \"2\", \"3\", \"4\", \"5\", \"6\", \"7\", \"8\", \"9\", \"+\", \" \", \"=\"],\n",
    "    model_max_length=BLOCK_SIZE,\n",
    ")\n",
    "\n",
    "dataset = AdditionDataset(\n",
    "    tokenizer=tokenizer,\n",
    "    block_size=BLOCK_SIZE,\n",
    "    numbers=list(range(0, 1000, 2)),\n",
    "    include_intermediate_steps=True,\n",
    ")\n",
    "\n",
    "for ix in [11177, 22222]:\n",
    "    x, y = dataset[ix]\n",
    "\n",
    "    print(f\"=== Example {ix} ===\")\n",
    "\n",
    "    np.set_printoptions(linewidth=999)\n",
    "    print(f\"x = {x.numpy()}\")\n",
    "    print(f\"y = {y.numpy()}\")\n",
    "\n",
    "    # show lengths\n",
    "    print(f\"x length = {len(x)}\")\n",
    "    print(f\"y length = {len(y)}\")\n",
    "\n",
    "    # print x decoded\n",
    "    x = tokenizer.decode(x, skip_special_tokens=True)\n",
    "    print(f\"x decoded = {x}\")\n",
    "\n",
    "    # print y decoded, replacing the -1 token with _\n",
    "    num_unknowns = y.tolist().count(-1)\n",
    "    y = tokenizer.decode(y[num_unknowns:], skip_special_tokens=True)\n",
    "    print(f\"y decoded = {'_'*(num_unknowns-1)}{y}\")"
   ],
   "outputs": [
    {
     "name": "stdout",
     "output_type": "stream",
     "text": [
      "=== Example 11177 ===\n",
      "x = [ 0 11 11 17 10 12 11 19 15 17 16  7 17 10  7  7 19 10 16 15  1  4  4  4  4  4  4  4  4  4  4  4]\n",
      "y = [-1 -1 -1 -1 -1 -1 -1 15 17 16  7 17 10  7  7 19 10 16 15  1  4  4  4  4  4  4  4  4  4  4  4  4]\n",
      "x length = 32\n",
      "y length = 32\n",
      "x decoded = 44+354=8+90+300=398\n",
      "y decoded = ______8+90+300=398\n",
      "=== Example 22222 ===\n",
      "x = [ 0 15 15 17 11 11 11 19  9 17 10  7 17 12  7  7 19 12 10  9  1  4  4  4  4  4  4  4  4  4  4  4]\n",
      "y = [-1 -1 -1 -1 -1 -1 -1  9 17 10  7 17 12  7  7 19 12 10  9  1  4  4  4  4  4  4  4  4  4  4  4  4]\n",
      "x length = 32\n",
      "y length = 32\n",
      "x decoded = 88+444=2+30+500=532\n",
      "y decoded = ______2+30+500=532\n"
     ]
    }
   ],
   "execution_count": 32
  },
  {
   "cell_type": "markdown",
   "id": "40a0627c",
   "metadata": {},
   "source": [
    "Let's take a minute to examine our dataset.\n",
    "\n",
    "* What do you notice about the x, the input, and y the target?\n",
    "* Are they the same length?\n",
    "* What can you say about the alignment of the sequences?\n",
    "* What else is different between them?"
   ]
  },
  {
   "cell_type": "markdown",
   "id": "3e8d622a",
   "metadata": {},
   "source": [
    "# Step: Train the model!\n",
    "\n",
    "Now we will train a small GPT model using this dataset. Along the way we should see how the model's performance improves on real data."
   ]
  },
  {
   "cell_type": "code",
   "id": "d76955ef",
   "metadata": {
    "ExecuteTime": {
     "end_time": "2025-01-23T14:22:43.375357Z",
     "start_time": "2025-01-23T14:22:42.717270Z"
    }
   },
   "source": [
    "# Instantiate the model and a trainer. No modifications are needed.\n",
    "\n",
    "from common_exercise_2_create_your_own_gpt_model_starter import GPTConfig, Trainer, TrainerConfig\n",
    "\n",
    "# instantiate a mini-GPT type model\n",
    "model_config = GPTConfig(\n",
    "    vocab_size=tokenizer.vocab_size,\n",
    "    block_size=BLOCK_SIZE,\n",
    "    n_layer=3,\n",
    "    n_head=3,\n",
    "    n_embd=48,\n",
    ")\n",
    "\n",
    "model = GPT(model_config)\n",
    "\n",
    "# create a trainer\n",
    "train_config = TrainerConfig(\n",
    "    max_epochs=1,\n",
    "    batch_size=1000,\n",
    "    learning_rate=4e-3,\n",
    ")\n",
    "\n",
    "trainer = Trainer(model, dataset, train_config)\n",
    "\n",
    "# Print the device the trainer will use (cpu, gpu, ...)\n",
    "print(f\"Using device: {trainer.device}\")"
   ],
   "outputs": [
    {
     "name": "stdout",
     "output_type": "stream",
     "text": [
      "number of parameters: 31824\n",
      "Using device: cpu\n"
     ]
    }
   ],
   "execution_count": 33
  },
  {
   "cell_type": "code",
   "id": "7d62900f",
   "metadata": {
    "ExecuteTime": {
     "end_time": "2025-01-23T14:23:28.972825Z",
     "start_time": "2025-01-23T14:23:27.956258Z"
    }
   },
   "source": [
    "# Let's see the performance on real data before training. No modifications are needed.\n",
    "from common_exercise_2_create_your_own_gpt_model_starter import show_examples\n",
    "\n",
    "show_examples(model, dataset, tokenizer, trainer.device, top_k=1, temperature=1.0)"
   ],
   "outputs": [
    {
     "name": "stdout",
     "output_type": "stream",
     "text": [
      "❌ input->output: [CLS]550+84= 👉 07[UNK]22[MASK][UNK]52762[MASK]2[UNK]5[PAD][PAD]2[MASK][UNK]5[PAD][MASK][UNK]1115 =[UNK] expected: 634, got: None\n",
      "❌ input->output: [CLS]558+504= 👉 02[MASK][UNK]5[PAD][PAD]27[UNK][SEP] expected: 1062, got: None\n",
      "❌ input->output: [CLS]278+88= 👉 862[MASK]27[UNK]02[MASK]2[MASK][UNK]7[UNK]02[MASK] =02[MASK][UNK] =02[MASK][UNK] = expected: 366, got: 2\n",
      "❌ input->output: [CLS]422+740= 👉 02[MASK][UNK]02[MASK]2[MASK]962[MASK] 02[MASK] =[CLS] expected: 1162, got: None\n",
      "❌ input->output: [CLS]760+660= 👉 [CLS] expected: 1420, got: None\n",
      "❌ input->output: [CLS]256+630= 👉 [CLS] expected: 886, got: None\n",
      "❌ input->output: [CLS]120+672= 👉 0[MASK]2[MASK][UNK]02[MASK][UNK]27[UNK]2[MASK][UNK][UNK]02[UNK]5 =[UNK]027[UNK]5[PAD][MASK] 0 expected: 792, got: None\n",
      "❌ input->output: [CLS]94+418= 👉 02[MASK] 07[UNK]0[MASK][UNK]07[UNK]0[MASK] =0[MASK] =02[MASK][UNK] 3 =0[PAD]3 expected: 512, got: 0\n",
      "❌ input->output: [CLS]464+796= 👉 08[MASK]2[MASK][UNK]0[MASK]5027[UNK]0[MASK][UNK]1 =02[MASK][UNK]0[MASK][UNK]0[PAD][MASK]463 expected: 1260, got: 2\n",
      "❌ input->output: [CLS]624+106= 👉 02[MASK][UNK]5[PAD][PAD][MASK]627[UNK]15[PAD][PAD]27[UNK][SEP] expected: 730, got: None\n",
      "\n",
      "Correct: 0 out of 10: 0.0%\n"
     ]
    }
   ],
   "execution_count": 36
  },
  {
   "cell_type": "code",
   "id": "56dbee61",
   "metadata": {
    "jupyter": {
     "is_executing": true
    },
    "ExecuteTime": {
     "start_time": "2025-01-23T14:23:30.306229Z"
    }
   },
   "source": [
    "# Let's train the model for an epoch, and see the performance again.\n",
    "# We will repeat this a few times to see the model improve.\n",
    "# No modifications are needed.\n",
    "\n",
    "# Note, depending on your hardware, you may need to reduce the batch size\n",
    "# if you get any out-of-memory errors.\n",
    "\n",
    "for _ in range(6):\n",
    "    trainer.train()  # train just one epoch each time\n",
    "    show_examples(model, dataset, tokenizer, trainer.device, top_k=3, temperature=1.0)"
   ],
   "outputs": [
    {
     "name": "stderr",
     "output_type": "stream",
     "text": [
      "epoch 1 iter 249: train loss 0.27415. lr 4.000000e-03: 100%|██████████| 250/250 [02:40<00:00,  1.55it/s]\n"
     ]
    },
    {
     "name": "stdout",
     "output_type": "stream",
     "text": [
      "❌ input->output: [CLS]550+84= 👉 2+40+700=720[SEP] expected: 634, got: 720\n",
      "❌ input->output: [CLS]558+504= 👉 0+0+600+1000=1600[SEP] expected: 1062, got: 1600\n",
      "❌ input->output: [CLS]278+88= 👉 8+30+300=338[SEP] expected: 366, got: 338\n",
      "❌ input->output: [CLS]422+740= 👉 4+40+400+1000=1444[SEP] expected: 1162, got: 1444\n",
      "❌ input->output: [CLS]760+660= 👉 2+60+200+1000=1262[SEP] expected: 1420, got: 1262\n",
      "❌ input->output: [CLS]256+630= 👉 4+0+600=604[SEP] expected: 886, got: 604\n",
      "❌ input->output: [CLS]120+672= 👉 4+40+500+1000=1544[SEP] expected: 792, got: 1544\n",
      "❌ input->output: [CLS]94+418= 👉 4+40+400+1440=1404[SEP] expected: 512, got: 1404\n",
      "❌ input->output: [CLS]464+796= 👉 4+60+0+1000=1064[SEP] expected: 1260, got: 1064\n",
      "❌ input->output: [CLS]624+106= 👉 4+40+400+1000=1444[SEP] expected: 730, got: 1444\n",
      "\n",
      "Correct: 0 out of 10: 0.0%\n"
     ]
    },
    {
     "name": "stderr",
     "output_type": "stream",
     "text": [
      "epoch 1 iter 249: train loss 0.16108. lr 4.000000e-03: 100%|██████████| 250/250 [02:46<00:00,  1.50it/s]\n"
     ]
    },
    {
     "name": "stdout",
     "output_type": "stream",
     "text": [
      "❌ input->output: [CLS]550+84= 👉 4+50+500=554[SEP] expected: 634, got: 554\n",
      "❌ input->output: [CLS]558+504= 👉 2+90+0+1000=1092[SEP] expected: 1062, got: 1092\n",
      "❌ input->output: [CLS]278+88= 👉 6+0+900=906[SEP] expected: 366, got: 906\n",
      "❌ input->output: [CLS]422+740= 👉 2+50+200+1000=1252[SEP] expected: 1162, got: 1252\n",
      "❌ input->output: [CLS]760+660= 👉 0+50+300+1000=1350[SEP] expected: 1420, got: 1350\n",
      "❌ input->output: [CLS]256+630= 👉 6+70+800=876[SEP] expected: 886, got: 876\n",
      "❌ input->output: [CLS]120+672= 👉 2+60+700=762[SEP] expected: 792, got: 762\n",
      "❌ input->output: [CLS]94+418= 👉 4+40+500=544[SEP] expected: 512, got: 544\n",
      "❌ input->output: [CLS]464+796= 👉 0+50+200+1000=1150[SEP] expected: 1260, got: 1150\n",
      "❌ input->output: [CLS]624+106= 👉 0+50+700=750[SEP] expected: 730, got: 750\n",
      "\n",
      "Correct: 0 out of 10: 0.0%\n"
     ]
    },
    {
     "name": "stderr",
     "output_type": "stream",
     "text": [
      "epoch 1 iter 249: train loss 0.07180. lr 4.000000e-03: 100%|██████████| 250/250 [02:50<00:00,  1.46it/s]\n"
     ]
    },
    {
     "name": "stdout",
     "output_type": "stream",
     "text": [
      "✅ input->output: [CLS]550+84= 👉 4+30+600=634[SEP]\n",
      "✅ input->output: [CLS]558+504= 👉 2+60+0+1000=1062[SEP]\n",
      "❌ input->output: [CLS]278+88= 👉 6+60+200+1000=1206[SEP] expected: 366, got: 1206\n",
      "❌ input->output: [CLS]422+740= 👉 2+60+200+1000=1262[SEP] expected: 1162, got: 1262\n",
      "❌ input->output: [CLS]760+660= 👉 6+20+400+1000=1426[SEP] expected: 1420, got: 1426\n",
      "✅ input->output: [CLS]256+630= 👉 6+80+800=886[SEP]\n",
      "✅ input->output: [CLS]120+672= 👉 2+90+700=792[SEP]\n",
      "❌ input->output: [CLS]94+418= 👉 2+40+500=542[SEP] expected: 512, got: 542\n",
      "❌ input->output: [CLS]464+796= 👉 0+60+100+1000=1160[SEP] expected: 1260, got: 1160\n",
      "✅ input->output: [CLS]624+106= 👉 0+30+700=730[SEP]\n",
      "\n",
      "Correct: 5 out of 10: 50.0%\n"
     ]
    },
    {
     "name": "stderr",
     "output_type": "stream",
     "text": [
      "epoch 1 iter 7: train loss 0.09506. lr 4.000000e-03:   3%|▎         | 8/250 [00:05<02:47,  1.44it/s]"
     ]
    }
   ],
   "execution_count": null
  },
  {
   "cell_type": "code",
   "execution_count": null,
   "id": "84566efc",
   "metadata": {},
   "outputs": [],
   "source": [
    "# Let's evaluate on 30 examples. No modifications are needed.\n",
    "\n",
    "show_examples(\n",
    "    model, dataset, tokenizer, trainer.device, top_k=1, temperature=1.0, max_num=30\n",
    ")"
   ]
  },
  {
   "cell_type": "markdown",
   "id": "e7f2f37d",
   "metadata": {},
   "source": [
    "As the above cell runs, ask yourself the following questions:\n",
    "* How quickly is the loss decreasing and what do you notice about the structure of the text generation as the loss decreases?\n",
    "* What is the train loss when you start to observe correct answers?\n",
    "* What is the train loss when you start to see all correct answers?\n",
    "* If you continue training after all answers are correct, might you see more incorrect answers?"
   ]
  },
  {
   "cell_type": "markdown",
   "id": "545351ca",
   "metadata": {},
   "source": [
    "## Congrats!\n",
    "\n",
    "Congrats on training your own GPT model! Give yourself a hand! 🙌"
   ]
  },
  {
   "metadata": {},
   "cell_type": "code",
   "outputs": [],
   "execution_count": null,
   "source": "",
   "id": "7e2de94f05abf4ac"
  },
  {
   "metadata": {},
   "cell_type": "code",
   "outputs": [],
   "execution_count": null,
   "source": "",
   "id": "311e2845efe41fb"
  }
 ],
 "metadata": {
  "kernelspec": {
   "display_name": "Python 3 (ipykernel)",
   "language": "python",
   "name": "python3"
  },
  "language_info": {
   "codemirror_mode": {
    "name": "ipython",
    "version": 3
   },
   "file_extension": ".py",
   "mimetype": "text/x-python",
   "name": "python",
   "nbconvert_exporter": "python",
   "pygments_lexer": "ipython3",
   "version": "3.10.11"
  }
 },
 "nbformat": 4,
 "nbformat_minor": 5
}
